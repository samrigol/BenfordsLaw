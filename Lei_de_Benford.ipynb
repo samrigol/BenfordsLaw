{
  "nbformat": 4,
  "nbformat_minor": 0,
  "metadata": {
    "colab": {
      "name": "Lei de Benford.ipynb",
      "provenance": [],
      "collapsed_sections": [],
      "authorship_tag": "ABX9TyOH//hQws9EjhXMtb0ddeWS"
    },
    "kernelspec": {
      "name": "python3",
      "display_name": "Python 3"
    },
    "language_info": {
      "name": "python"
    }
  },
  "cells": [
    {
      "cell_type": "code",
      "metadata": {
        "colab": {
          "base_uri": "https://localhost:8080/"
        },
        "id": "BDzrIWlzb5jb",
        "outputId": "9ab22cb8-606c-48e7-ce6a-5e93b46c2d92"
      },
      "source": [
        "!pip install wget\n",
        "!pip install plotly==5.3.1"
      ],
      "execution_count": 4,
      "outputs": [
        {
          "output_type": "stream",
          "name": "stdout",
          "text": [
            "Collecting wget\n",
            "  Downloading wget-3.2.zip (10 kB)\n",
            "Building wheels for collected packages: wget\n",
            "  Building wheel for wget (setup.py) ... \u001b[?25l\u001b[?25hdone\n",
            "  Created wheel for wget: filename=wget-3.2-py3-none-any.whl size=9672 sha256=698293facc9757a72c976b3cb01a6454d218e499ae79e6c052181852c4007338\n",
            "  Stored in directory: /root/.cache/pip/wheels/a1/b6/7c/0e63e34eb06634181c63adacca38b79ff8f35c37e3c13e3c02\n",
            "Successfully built wget\n",
            "Installing collected packages: wget\n",
            "Successfully installed wget-3.2\n",
            "Collecting plotly==5.3.1\n",
            "  Downloading plotly-5.3.1-py2.py3-none-any.whl (23.9 MB)\n",
            "\u001b[K     |████████████████████████████████| 23.9 MB 14 kB/s \n",
            "\u001b[?25hCollecting tenacity>=6.2.0\n",
            "  Downloading tenacity-8.0.1-py3-none-any.whl (24 kB)\n",
            "Requirement already satisfied: six in /usr/local/lib/python3.7/dist-packages (from plotly==5.3.1) (1.15.0)\n",
            "Installing collected packages: tenacity, plotly\n",
            "  Attempting uninstall: plotly\n",
            "    Found existing installation: plotly 4.4.1\n",
            "    Uninstalling plotly-4.4.1:\n",
            "      Successfully uninstalled plotly-4.4.1\n",
            "Successfully installed plotly-5.3.1 tenacity-8.0.1\n"
          ]
        }
      ]
    },
    {
      "cell_type": "code",
      "metadata": {
        "id": "c8WB-0ZDav50"
      },
      "source": [
        "import pandas as pd\n",
        "import wget\n",
        "from zipfile import ZipFile\n",
        "import matplotlib.pyplot as plt\n",
        "import plotly.express as px\n",
        "from google.colab.data_table import DataTable"
      ],
      "execution_count": 5,
      "outputs": []
    },
    {
      "cell_type": "markdown",
      "metadata": {
        "id": "4Ik7HnOhJB34"
      },
      "source": [
        "#LEITURA E TRATAMENTO DOS DADOS"
      ]
    },
    {
      "cell_type": "code",
      "metadata": {
        "id": "XHL9Q30ca9IJ"
      },
      "source": [
        "path = \"http://dados.cvm.gov.br/dados/CIA_ABERTA/DOC/ITR/DADOS/\""
      ],
      "execution_count": 6,
      "outputs": []
    },
    {
      "cell_type": "code",
      "metadata": {
        "id": "K9W4OzAfbM4F"
      },
      "source": [
        "#automatiza a criação da lista de arquivos\n",
        "arquivos_zip = []\n",
        "anos = range(2011,2021)\n",
        "for ano in anos:\n",
        "  arquivos_zip.append(\"itr_cia_aberta_{ano}.zip\".format(ano=ano))"
      ],
      "execution_count": 7,
      "outputs": []
    },
    {
      "cell_type": "code",
      "metadata": {
        "colab": {
          "base_uri": "https://localhost:8080/"
        },
        "id": "yfcB2DEIbkez",
        "outputId": "2a4fd17d-dc78-445d-f01d-0829cd477886"
      },
      "source": [
        "arquivos_zip"
      ],
      "execution_count": 8,
      "outputs": [
        {
          "output_type": "execute_result",
          "data": {
            "text/plain": [
              "['itr_cia_aberta_2011.zip',\n",
              " 'itr_cia_aberta_2012.zip',\n",
              " 'itr_cia_aberta_2013.zip',\n",
              " 'itr_cia_aberta_2014.zip',\n",
              " 'itr_cia_aberta_2015.zip',\n",
              " 'itr_cia_aberta_2016.zip',\n",
              " 'itr_cia_aberta_2017.zip',\n",
              " 'itr_cia_aberta_2018.zip',\n",
              " 'itr_cia_aberta_2019.zip',\n",
              " 'itr_cia_aberta_2020.zip']"
            ]
          },
          "metadata": {},
          "execution_count": 8
        }
      ]
    },
    {
      "cell_type": "code",
      "metadata": {
        "id": "nfefbdvdbt1K"
      },
      "source": [
        "# Faz download dos arquivos\n",
        "for arq in arquivos_zip:\n",
        "  wget.download(path+arq)"
      ],
      "execution_count": 9,
      "outputs": []
    },
    {
      "cell_type": "code",
      "metadata": {
        "id": "TeGlYszocrMa"
      },
      "source": [
        "#cria a pasta all\n",
        "!mkdir all"
      ],
      "execution_count": 10,
      "outputs": []
    },
    {
      "cell_type": "code",
      "metadata": {
        "id": "M5tJLDoGcGta"
      },
      "source": [
        "#Extrai somente os arquivos selecionados\n",
        "year = 2010\n",
        "for arq in arquivos_zip:\n",
        "  year += 1\n",
        "  ZipFile(arq, 'r').extract('itr_cia_aberta_DRE_con_{ano}.csv'.format(ano = year), path='/content/all')"
      ],
      "execution_count": 11,
      "outputs": []
    },
    {
      "cell_type": "code",
      "metadata": {
        "colab": {
          "base_uri": "https://localhost:8080/"
        },
        "id": "Wjd9SjZPmG7q",
        "outputId": "c6f82bee-8120-4352-dd07-88bef7cc7345"
      },
      "source": [
        "# Automatiza a criação de uma lista de arquivos\n",
        "arquivos_dre = []\n",
        "for ano in anos:\n",
        "   arquivos_dre.append('itr_cia_aberta_DRE_con_{ano}.csv'.format(ano = ano))\n",
        "arquivos_dre"
      ],
      "execution_count": 12,
      "outputs": [
        {
          "output_type": "execute_result",
          "data": {
            "text/plain": [
              "['itr_cia_aberta_DRE_con_2011.csv',\n",
              " 'itr_cia_aberta_DRE_con_2012.csv',\n",
              " 'itr_cia_aberta_DRE_con_2013.csv',\n",
              " 'itr_cia_aberta_DRE_con_2014.csv',\n",
              " 'itr_cia_aberta_DRE_con_2015.csv',\n",
              " 'itr_cia_aberta_DRE_con_2016.csv',\n",
              " 'itr_cia_aberta_DRE_con_2017.csv',\n",
              " 'itr_cia_aberta_DRE_con_2018.csv',\n",
              " 'itr_cia_aberta_DRE_con_2019.csv',\n",
              " 'itr_cia_aberta_DRE_con_2020.csv']"
            ]
          },
          "metadata": {},
          "execution_count": 12
        }
      ]
    },
    {
      "cell_type": "code",
      "metadata": {
        "colab": {
          "base_uri": "https://localhost:8080/",
          "height": 798
        },
        "id": "4OPo6CSzgZBA",
        "outputId": "b09273d4-6144-4121-941e-bcea3d2bb538"
      },
      "source": [
        "pd.read_csv('all/itr_cia_aberta_DRE_con_2011.csv', sep = ';', decimal=',', encoding='ISO-8859-1')"
      ],
      "execution_count": 13,
      "outputs": [
        {
          "output_type": "execute_result",
          "data": {
            "text/html": [
              "<div>\n",
              "<style scoped>\n",
              "    .dataframe tbody tr th:only-of-type {\n",
              "        vertical-align: middle;\n",
              "    }\n",
              "\n",
              "    .dataframe tbody tr th {\n",
              "        vertical-align: top;\n",
              "    }\n",
              "\n",
              "    .dataframe thead th {\n",
              "        text-align: right;\n",
              "    }\n",
              "</style>\n",
              "<table border=\"1\" class=\"dataframe\">\n",
              "  <thead>\n",
              "    <tr style=\"text-align: right;\">\n",
              "      <th></th>\n",
              "      <th>CNPJ_CIA</th>\n",
              "      <th>DT_REFER</th>\n",
              "      <th>VERSAO</th>\n",
              "      <th>DENOM_CIA</th>\n",
              "      <th>CD_CVM</th>\n",
              "      <th>GRUPO_DFP</th>\n",
              "      <th>MOEDA</th>\n",
              "      <th>ESCALA_MOEDA</th>\n",
              "      <th>ORDEM_EXERC</th>\n",
              "      <th>DT_INI_EXERC</th>\n",
              "      <th>DT_FIM_EXERC</th>\n",
              "      <th>CD_CONTA</th>\n",
              "      <th>DS_CONTA</th>\n",
              "      <th>VL_CONTA</th>\n",
              "      <th>ST_CONTA_FIXA</th>\n",
              "    </tr>\n",
              "  </thead>\n",
              "  <tbody>\n",
              "    <tr>\n",
              "      <th>0</th>\n",
              "      <td>00.001.180/0001-26</td>\n",
              "      <td>2011-03-31</td>\n",
              "      <td>1</td>\n",
              "      <td>CENTRAIS ELET BRAS S.A. - ELETROBRAS</td>\n",
              "      <td>2437</td>\n",
              "      <td>DF Consolidado - Demonstração do Resultado</td>\n",
              "      <td>REAL</td>\n",
              "      <td>MIL</td>\n",
              "      <td>PENÚLTIMO</td>\n",
              "      <td>2010-01-01</td>\n",
              "      <td>2010-03-31</td>\n",
              "      <td>3.01</td>\n",
              "      <td>Receita de Venda de Bens e/ou Serviços</td>\n",
              "      <td>6159172.0000000000</td>\n",
              "      <td>S</td>\n",
              "    </tr>\n",
              "    <tr>\n",
              "      <th>1</th>\n",
              "      <td>00.001.180/0001-26</td>\n",
              "      <td>2011-03-31</td>\n",
              "      <td>1</td>\n",
              "      <td>CENTRAIS ELET BRAS S.A. - ELETROBRAS</td>\n",
              "      <td>2437</td>\n",
              "      <td>DF Consolidado - Demonstração do Resultado</td>\n",
              "      <td>REAL</td>\n",
              "      <td>MIL</td>\n",
              "      <td>ÚLTIMO</td>\n",
              "      <td>2011-01-01</td>\n",
              "      <td>2011-03-31</td>\n",
              "      <td>3.01</td>\n",
              "      <td>Receita de Venda de Bens e/ou Serviços</td>\n",
              "      <td>8551982.0000000000</td>\n",
              "      <td>S</td>\n",
              "    </tr>\n",
              "    <tr>\n",
              "      <th>2</th>\n",
              "      <td>00.001.180/0001-26</td>\n",
              "      <td>2011-03-31</td>\n",
              "      <td>1</td>\n",
              "      <td>CENTRAIS ELET BRAS S.A. - ELETROBRAS</td>\n",
              "      <td>2437</td>\n",
              "      <td>DF Consolidado - Demonstração do Resultado</td>\n",
              "      <td>REAL</td>\n",
              "      <td>MIL</td>\n",
              "      <td>PENÚLTIMO</td>\n",
              "      <td>2010-01-01</td>\n",
              "      <td>2010-03-31</td>\n",
              "      <td>3.02</td>\n",
              "      <td>Custo dos Bens e/ou Serviços Vendidos</td>\n",
              "      <td>-960060.0000000000</td>\n",
              "      <td>S</td>\n",
              "    </tr>\n",
              "    <tr>\n",
              "      <th>3</th>\n",
              "      <td>00.001.180/0001-26</td>\n",
              "      <td>2011-03-31</td>\n",
              "      <td>1</td>\n",
              "      <td>CENTRAIS ELET BRAS S.A. - ELETROBRAS</td>\n",
              "      <td>2437</td>\n",
              "      <td>DF Consolidado - Demonstração do Resultado</td>\n",
              "      <td>REAL</td>\n",
              "      <td>MIL</td>\n",
              "      <td>ÚLTIMO</td>\n",
              "      <td>2011-01-01</td>\n",
              "      <td>2011-03-31</td>\n",
              "      <td>3.02</td>\n",
              "      <td>Custo dos Bens e/ou Serviços Vendidos</td>\n",
              "      <td>-1127021.0000000000</td>\n",
              "      <td>S</td>\n",
              "    </tr>\n",
              "    <tr>\n",
              "      <th>4</th>\n",
              "      <td>00.001.180/0001-26</td>\n",
              "      <td>2011-03-31</td>\n",
              "      <td>1</td>\n",
              "      <td>CENTRAIS ELET BRAS S.A. - ELETROBRAS</td>\n",
              "      <td>2437</td>\n",
              "      <td>DF Consolidado - Demonstração do Resultado</td>\n",
              "      <td>REAL</td>\n",
              "      <td>MIL</td>\n",
              "      <td>PENÚLTIMO</td>\n",
              "      <td>2010-01-01</td>\n",
              "      <td>2010-03-31</td>\n",
              "      <td>3.02.01</td>\n",
              "      <td>Encargos Setoriais</td>\n",
              "      <td>-340660.0000000000</td>\n",
              "      <td>N</td>\n",
              "    </tr>\n",
              "    <tr>\n",
              "      <th>...</th>\n",
              "      <td>...</td>\n",
              "      <td>...</td>\n",
              "      <td>...</td>\n",
              "      <td>...</td>\n",
              "      <td>...</td>\n",
              "      <td>...</td>\n",
              "      <td>...</td>\n",
              "      <td>...</td>\n",
              "      <td>...</td>\n",
              "      <td>...</td>\n",
              "      <td>...</td>\n",
              "      <td>...</td>\n",
              "      <td>...</td>\n",
              "      <td>...</td>\n",
              "      <td>...</td>\n",
              "    </tr>\n",
              "    <tr>\n",
              "      <th>123571</th>\n",
              "      <td>97.837.181/0001-47</td>\n",
              "      <td>2011-09-30</td>\n",
              "      <td>1</td>\n",
              "      <td>DURATEX S.A.</td>\n",
              "      <td>21091</td>\n",
              "      <td>DF Consolidado - Demonstração do Resultado</td>\n",
              "      <td>REAL</td>\n",
              "      <td>MIL</td>\n",
              "      <td>ÚLTIMO</td>\n",
              "      <td>2011-07-01</td>\n",
              "      <td>2011-09-30</td>\n",
              "      <td>3.99.02</td>\n",
              "      <td>Lucro Diluído por Ação</td>\n",
              "      <td>0.0000000000</td>\n",
              "      <td>N</td>\n",
              "    </tr>\n",
              "    <tr>\n",
              "      <th>123572</th>\n",
              "      <td>97.837.181/0001-47</td>\n",
              "      <td>2011-09-30</td>\n",
              "      <td>1</td>\n",
              "      <td>DURATEX S.A.</td>\n",
              "      <td>21091</td>\n",
              "      <td>DF Consolidado - Demonstração do Resultado</td>\n",
              "      <td>REAL</td>\n",
              "      <td>MIL</td>\n",
              "      <td>PENÚLTIMO</td>\n",
              "      <td>2010-01-01</td>\n",
              "      <td>2010-09-30</td>\n",
              "      <td>3.99.02.01</td>\n",
              "      <td>ON</td>\n",
              "      <td>0.6943000000</td>\n",
              "      <td>N</td>\n",
              "    </tr>\n",
              "    <tr>\n",
              "      <th>123573</th>\n",
              "      <td>97.837.181/0001-47</td>\n",
              "      <td>2011-09-30</td>\n",
              "      <td>1</td>\n",
              "      <td>DURATEX S.A.</td>\n",
              "      <td>21091</td>\n",
              "      <td>DF Consolidado - Demonstração do Resultado</td>\n",
              "      <td>REAL</td>\n",
              "      <td>MIL</td>\n",
              "      <td>PENÚLTIMO</td>\n",
              "      <td>2010-07-01</td>\n",
              "      <td>2010-09-30</td>\n",
              "      <td>3.99.02.01</td>\n",
              "      <td>ON</td>\n",
              "      <td>0.3263000000</td>\n",
              "      <td>N</td>\n",
              "    </tr>\n",
              "    <tr>\n",
              "      <th>123574</th>\n",
              "      <td>97.837.181/0001-47</td>\n",
              "      <td>2011-09-30</td>\n",
              "      <td>1</td>\n",
              "      <td>DURATEX S.A.</td>\n",
              "      <td>21091</td>\n",
              "      <td>DF Consolidado - Demonstração do Resultado</td>\n",
              "      <td>REAL</td>\n",
              "      <td>MIL</td>\n",
              "      <td>ÚLTIMO</td>\n",
              "      <td>2011-01-01</td>\n",
              "      <td>2011-09-30</td>\n",
              "      <td>3.99.02.01</td>\n",
              "      <td>ON</td>\n",
              "      <td>0.5288000000</td>\n",
              "      <td>N</td>\n",
              "    </tr>\n",
              "    <tr>\n",
              "      <th>123575</th>\n",
              "      <td>97.837.181/0001-47</td>\n",
              "      <td>2011-09-30</td>\n",
              "      <td>1</td>\n",
              "      <td>DURATEX S.A.</td>\n",
              "      <td>21091</td>\n",
              "      <td>DF Consolidado - Demonstração do Resultado</td>\n",
              "      <td>REAL</td>\n",
              "      <td>MIL</td>\n",
              "      <td>ÚLTIMO</td>\n",
              "      <td>2011-07-01</td>\n",
              "      <td>2011-09-30</td>\n",
              "      <td>3.99.02.01</td>\n",
              "      <td>ON</td>\n",
              "      <td>0.2115000000</td>\n",
              "      <td>N</td>\n",
              "    </tr>\n",
              "  </tbody>\n",
              "</table>\n",
              "<p>123576 rows × 15 columns</p>\n",
              "</div>"
            ],
            "text/plain": [
              "                  CNPJ_CIA    DT_REFER  ...             VL_CONTA ST_CONTA_FIXA\n",
              "0       00.001.180/0001-26  2011-03-31  ...   6159172.0000000000             S\n",
              "1       00.001.180/0001-26  2011-03-31  ...   8551982.0000000000             S\n",
              "2       00.001.180/0001-26  2011-03-31  ...   -960060.0000000000             S\n",
              "3       00.001.180/0001-26  2011-03-31  ...  -1127021.0000000000             S\n",
              "4       00.001.180/0001-26  2011-03-31  ...   -340660.0000000000             N\n",
              "...                    ...         ...  ...                  ...           ...\n",
              "123571  97.837.181/0001-47  2011-09-30  ...         0.0000000000             N\n",
              "123572  97.837.181/0001-47  2011-09-30  ...         0.6943000000             N\n",
              "123573  97.837.181/0001-47  2011-09-30  ...         0.3263000000             N\n",
              "123574  97.837.181/0001-47  2011-09-30  ...         0.5288000000             N\n",
              "123575  97.837.181/0001-47  2011-09-30  ...         0.2115000000             N\n",
              "\n",
              "[123576 rows x 15 columns]"
            ]
          },
          "metadata": {},
          "execution_count": 13
        }
      ]
    },
    {
      "cell_type": "code",
      "metadata": {
        "id": "72EdE6Yre9SN"
      },
      "source": [
        "#Junta os arquivos de 2011 até 2020 em somente um\n",
        "dre_2011_2020 = pd.DataFrame()\n",
        "year = 2010\n",
        "for arq in arquivos_dre:\n",
        "  year += 1\n",
        "  dre_2011_2020 = pd.concat([dre_2011_2020, pd.read_csv(f'all/itr_cia_aberta_DRE_con_{year}.csv', sep = ';', decimal=',', encoding='ISO-8859-1')])"
      ],
      "execution_count": 14,
      "outputs": []
    },
    {
      "cell_type": "code",
      "metadata": {
        "colab": {
          "base_uri": "https://localhost:8080/",
          "height": 635
        },
        "id": "JZy1QQmKtpSn",
        "outputId": "74a7b034-9ca3-4fdb-f8f9-0f0f87a1e0d5"
      },
      "source": [
        "DataTable(dre_2011_2020[['DENOM_CIA']].drop_duplicates())"
      ],
      "execution_count": 16,
      "outputs": [
        {
          "output_type": "execute_result",
          "data": {
            "application/vnd.google.colaboratory.module+javascript": "\n      import \"https://ssl.gstatic.com/colaboratory/data_table/a6224c040fa35dcf/data_table.js\";\n\n      window.createDataTable({\n        data: [[{\n            'v': 0,\n            'f': \"0\",\n        },\n\"CENTRAIS ELET BRAS S.A. - ELETROBRAS\"],\n [{\n            'v': 464,\n            'f': \"464\",\n        },\n\"CIA ENERGETICA DE BRASILIA\"],\n [{\n            'v': 886,\n            'f': \"886\",\n        },\n\"VBC ENERGIA SA\"],\n [{\n            'v': 1102,\n            'f': \"1102\",\n        },\n\"NET SERVI\\u00c7OS DE COMUNICA\\u00c7\\u00c3O S.A.\"],\n [{\n            'v': 1422,\n            'f': \"1422\",\n        },\n\"FORPART S.A. - EM LIQUIDA\\u00c7\\u00c3O\"],\n [{\n            'v': 1702,\n            'f': \"1702\",\n        },\n\"KOSMOS COM\\u00c9RCIO DE VESTU\\u00c1RIO S/A - EM RECUPERA\\u00c7\\u00c3O JUDICIAL\"],\n [{\n            'v': 1990,\n            'f': \"1990\",\n        },\n\"STATKRAFT ENERGIAS RENOVAVEIS S.A.\"],\n [{\n            'v': 2386,\n            'f': \"2386\",\n        },\n\"LITEL PARTICIPACOES S.A.\"],\n [{\n            'v': 2746,\n            'f': \"2746\",\n        },\n\"AMERICANAS S.A.\"],\n [{\n            'v': 3064,\n            'f': \"3064\",\n        },\n\"ENERGISA S.A.\"],\n [{\n            'v': 3756,\n            'f': \"3756\",\n        },\n\"FERROVIA CENTRO-ATLANTICA S.A.\"],\n [{\n            'v': 4054,\n            'f': \"4054\",\n        },\n\"COMERCIAL QUINTELLA COM EXP SA EM LIQUIDA\\u00c7\\u00c3O\"],\n [{\n            'v': 4384,\n            'f': \"4384\",\n        },\n\"CIELO S.A.\"],\n [{\n            'v': 4816,\n            'f': \"4816\",\n        },\n\"NEOENERGIA S.A.\"],\n [{\n            'v': 5134,\n            'f': \"5134\",\n        },\n\"UNIVERSO ONLINE SA\"],\n [{\n            'v': 5466,\n            'f': \"5466\",\n        },\n\"GAFISA S.A.\"],\n [{\n            'v': 5886,\n            'f': \"5886\",\n        },\n\"521 PARTICIPACOES S.A. - EM LIQUIDA\\u00c7\\u00c3O EXTRAJUDICIAL\"],\n [{\n            'v': 6678,\n            'f': \"6678\",\n        },\n\"BELAPART SA\"],\n [{\n            'v': 6978,\n            'f': \"6978\",\n        },\n\"VALETRON SA\"],\n [{\n            'v': 7278,\n            'f': \"7278\",\n        },\n\"TAM S.A.\"],\n [{\n            'v': 7606,\n            'f': \"7606\",\n        },\n\"BRF S.A.\"],\n [{\n            'v': 7906,\n            'f': \"7906\",\n        },\n\"AES ELPA S.A.\"],\n [{\n            'v': 8226,\n            'f': \"8226\",\n        },\n\"CIA PARTICIPACOES ALIANCA DA BAHIA\"],\n [{\n            'v': 8522,\n            'f': \"8522\",\n        },\n\"SUL 116 PARTICIPACOES S.A.\"],\n [{\n            'v': 8822,\n            'f': \"8822\",\n        },\n\"EMPRESA NAC COM REDITO PART S.A.ENCORPAR\"],\n [{\n            'v': 9166,\n            'f': \"9166\",\n        },\n\"CIBRASEC - COMPANHIA BRASILEIRA DE SECURITIZACAO\"],\n [{\n            'v': 9590,\n            'f': \"9590\",\n        },\n\"TELEMAR PARTICIPA\\u00c7\\u00d5ES SA\"],\n [{\n            'v': 9932,\n            'f': \"9932\",\n        },\n\"PORTO SEGURO S.A.\"],\n [{\n            'v': 10422,\n            'f': \"10422\",\n        },\n\"UPTICK PARTICIPACOES S.A.\"],\n [{\n            'v': 10608,\n            'f': \"10608\",\n        },\n\"EDITORA ABRIL S/A\"],\n [{\n            'v': 10816,\n            'f': \"10816\",\n        },\n\"DEXXOS PARTICIPA\\u00c7\\u00d5ES S.A.\"],\n [{\n            'v': 11116,\n            'f': \"11116\",\n        },\n\"INEPAR ENERGIA SA\"],\n [{\n            'v': 11396,\n            'f': \"11396\",\n        },\n\"EMAE - EMPRESA METROP.AGUAS ENERGIA S.A.\"],\n [{\n            'v': 11720,\n            'f': \"11720\",\n        },\n\"DALETH PARTICIPA\\u00c7\\u00d5ES SA - EM LIQUIDA\\u00c7\\u00c3O\"],\n [{\n            'v': 12078,\n            'f': \"12078\",\n        },\n\"TEGMA GESTAO LOGISTICA S.A.\"],\n [{\n            'v': 12478,\n            'f': \"12478\",\n        },\n\"RET PARTICIPACOES S.A.\"],\n [{\n            'v': 12778,\n            'f': \"12778\",\n        },\n\"ZAIN PARTICIPACOES S.A.\"],\n [{\n            'v': 13082,\n            'f': \"13082\",\n        },\n\"PADTEC HOLDING S.A.\"],\n [{\n            'v': 13426,\n            'f': \"13426\",\n        },\n\"RUMO S.A.\"],\n [{\n            'v': 13764,\n            'f': \"13764\",\n        },\n\"LF TEL SA\"],\n [{\n            'v': 14084,\n            'f': \"14084\",\n        },\n\"CPFL ENERGIA S.A.\"],\n [{\n            'v': 14394,\n            'f': \"14394\",\n        },\n\"FUTURETEL S.A.\"],\n [{\n            'v': 14698,\n            'f': \"14698\",\n        },\n\"ENGIE BRASIL ENERGIA S.A.\"],\n [{\n            'v': 15080,\n            'f': \"15080\",\n        },\n\"TELINVEST S.A.\"],\n [{\n            'v': 15380,\n            'f': \"15380\",\n        },\n\"RUMO MALHA PAULISTA S.A.\"],\n [{\n            'v': 15700,\n            'f': \"15700\",\n        },\n\"MAORI SA\"],\n [{\n            'v': 15996,\n            'f': \"15996\",\n        },\n\"SOMOS EDUCA\\u00c7\\u00c3O S.A.\"],\n [{\n            'v': 16312,\n            'f': \"16312\",\n        },\n\"VIVO PARTICIPA\\u00c7\\u00d5ES SA\"],\n [{\n            'v': 16480,\n            'f': \"16480\",\n        },\n\"TIM PARTICIPACOES S.A.\"],\n [{\n            'v': 16790,\n            'f': \"16790\",\n        },\n\"EMBRATEL PARTICIPA\\u00c7\\u00d5ES SA\"],\n [{\n            'v': 17110,\n            'f': \"17110\",\n        },\n\"TELE NORTE LESTE PARTICIPA\\u00c7\\u00d5ES SA\"],\n [{\n            'v': 17430,\n            'f': \"17430\",\n        },\n\"TELE NORTE CELULAR PARTICIPA\\u00c7\\u00d5ES SA\"],\n [{\n            'v': 17750,\n            'f': \"17750\",\n        },\n\"TELEF\\u00d4NICA BRASIL S.A\"],\n [{\n            'v': 18074,\n            'f': \"18074\",\n        },\n\"CAPITALPART PARTICIPA\\u00c7\\u00d5ES SA\"],\n [{\n            'v': 18374,\n            'f': \"18374\",\n        },\n\"INNCORP S.A.\"],\n [{\n            'v': 18674,\n            'f': \"18674\",\n        },\n\"NEWTEL PARTICIPACOES S.A.\"],\n [{\n            'v': 18982,\n            'f': \"18982\",\n        },\n\"BRAZILIAN FINANCE E REAL ESTATE S.A.\"],\n [{\n            'v': 19460,\n            'f': \"19460\",\n        },\n\"MMX MINERACAO E METALICOS S.A. - EM RECUPERA\\u00c7\\u00c3O JUDICIAL\"],\n [{\n            'v': 19886,\n            'f': \"19886\",\n        },\n\"SANTOS BRASIL PARTICIPACOES S.A.\"],\n [{\n            'v': 20226,\n            'f': \"20226\",\n        },\n\"COGNA EDUCA\\u00c7\\u00c3O S.A.\"],\n [{\n            'v': 20526,\n            'f': \"20526\",\n        },\n\"COMPANHIA DE BEBIDAS DAS AM\\u00c9RICAS-AMBEV\"],\n [{\n            'v': 20866,\n            'f': \"20866\",\n        },\n\"CCR S.A.\"],\n [{\n            'v': 21272,\n            'f': \"21272\",\n        },\n\"T4F ENTRETENIMENTO S.A.\"],\n [{\n            'v': 21620,\n            'f': \"21620\",\n        },\n\"VICUNHA SIDERURGIA SA\"],\n [{\n            'v': 21928,\n            'f': \"21928\",\n        },\n\"JBS S.A.\"],\n [{\n            'v': 22228,\n            'f': \"22228\",\n        },\n\"ARTERIS S.A.\"],\n [{\n            'v': 22594,\n            'f': \"22594\",\n        },\n\"HYPERA S.A.\"],\n [{\n            'v': 22882,\n            'f': \"22882\",\n        },\n\"PDG REALTY S.A. EMPREEND E PARTICIPACOES - EM REC JUDICIAL\"],\n [{\n            'v': 23250,\n            'f': \"23250\",\n        },\n\"CEMIG TELECOMUNICA\\u00c7\\u00d5ES S.A.\"],\n [{\n            'v': 23550,\n            'f': \"23550\",\n        },\n\"AES TIETE SA\"],\n [{\n            'v': 24010,\n            'f': \"24010\",\n        },\n\"CTEEP - CIA TRANSMISS\\u00c3O ENERGIA EL\\u00c9TRICA PAULISTA\"],\n [{\n            'v': 24406,\n            'f': \"24406\",\n        },\n\"TPI - TRIUNFO PARTICIP. E INVEST. S.A.\"],\n [{\n            'v': 24862,\n            'f': \"24862\",\n        },\n\"EQUATORIAL ENERGIA S.A.\"],\n [{\n            'v': 25340,\n            'f': \"25340\",\n        },\n\"LIGHT S.A.\"],\n [{\n            'v': 25640,\n            'f': \"25640\",\n        },\n\"BRZ INVESTIMENTOS S/A\"],\n [{\n            'v': 25700,\n            'f': \"25700\",\n        },\n\"RB CAPITAL SECURITIZADORA S.A.\"],\n [{\n            'v': 25766,\n            'f': \"25766\",\n        },\n\"PRIVATINVEST PARTICIPA\\u00c7\\u00d5ES SA\"],\n [{\n            'v': 25946,\n            'f': \"25946\",\n        },\n\"ANDRADE GUTIERREZ CONCESSOES S.A.\"],\n [{\n            'v': 26266,\n            'f': \"26266\",\n        },\n\"ARAUC\\u00c1RIA PARTICIPA\\u00c7\\u00d5ES SA\"],\n [{\n            'v': 26630,\n            'f': \"26630\",\n        },\n\"INVESTIMENTOS E PARTICIP. EM INFRA S.A. - INVEPAR\"],\n [{\n            'v': 26982,\n            'f': \"26982\",\n        },\n\"BRADESPAR S.A.\"],\n [{\n            'v': 27348,\n            'f': \"27348\",\n        },\n\"MARFRIG GLOBAL FOODS S.A.\"],\n [{\n            'v': 27684,\n            'f': \"27684\",\n        },\n\"CPFL GERACAO DE ENERGIA S.A.\"],\n [{\n            'v': 28044,\n            'f': \"28044\",\n        },\n\"EDP - ENERGIAS DO BRASIL S.A.\"],\n [{\n            'v': 28364,\n            'f': \"28364\",\n        },\n\"COARI PARTICIPA\\u00c7\\u00d5ES SA\"],\n [{\n            'v': 28672,\n            'f': \"28672\",\n        },\n\"ANDRADE GUTIERREZ PARTICIPACOES S.A.\"],\n [{\n            'v': 28952,\n            'f': \"28952\",\n        },\n\"ATMA PARTICIPA\\u00c7\\u00d5ES S.A.\"],\n [{\n            'v': 29272,\n            'f': \"29272\",\n        },\n\"AES TIETE ENERGIA SA\"],\n [{\n            'v': 29768,\n            'f': \"29768\",\n        },\n\"ECORODOVIAS INFRAESTRUTURA E LOG\\u00cdSTICA S.A.\"],\n [{\n            'v': 30068,\n            'f': \"30068\",\n        },\n\"ANHANGUERA EDUCACIONAL PARTICIPA\\u00c7\\u00d5ES S.A.\"],\n [{\n            'v': 30388,\n            'f': \"30388\",\n        },\n\"ENEVA S.A\"],\n [{\n            'v': 30788,\n            'f': \"30788\",\n        },\n\"UNIDAS S.A.\"],\n [{\n            'v': 31088,\n            'f': \"31088\",\n        },\n\"BIOMM S.A.\"],\n [{\n            'v': 31376,\n            'f': \"31376\",\n        },\n\"METALFRIO SOLUTIONS S.A.\"],\n [{\n            'v': 31690,\n            'f': \"31690\",\n        },\n\"GLOBAL BRASIL SA\"],\n [{\n            'v': 32040,\n            'f': \"32040\",\n        },\n\"TARPON INVESTIMENTOS S.A.\"],\n [{\n            'v': 32332,\n            'f': \"32332\",\n        },\n\"TELEF\\u00d3NICA, S.A.\"],\n [{\n            'v': 32520,\n            'f': \"32520\",\n        },\n\"WILSON SONS LTD.\"],\n [{\n            'v': 32830,\n            'f': \"32830\",\n        },\n\"TERRA SANTA AGRO S.A.\"],\n [{\n            'v': 33206,\n            'f': \"33206\",\n        },\n\"ALIANSCE SONAE SHOPPING CENTERS S.A.\"],\n [{\n            'v': 33536,\n            'f': \"33536\",\n        },\n\"ALIANSCE SHOPPING CENTERS S.A.\"],\n [{\n            'v': 33856,\n            'f': \"33856\",\n        },\n\"GOL LINHAS AEREAS INTELIGENTES S.A.\"],\n [{\n            'v': 34236,\n            'f': \"34236\",\n        },\n\"TEMPO PARTICIPA\\u00c7OES S/A\"],\n [{\n            'v': 34576,\n            'f': \"34576\",\n        },\n\"BR MALLS PARTICIPACOES S.A.\"],\n [{\n            'v': 34866,\n            'f': \"34866\",\n        },\n\"BR PROPERTIES S.A.\"],\n [{\n            'v': 35342,\n            'f': \"35342\",\n        },\n\"CEMIG GERACAO E TRANSMISSAO S.A.\"],\n [{\n            'v': 35772,\n            'f': \"35772\",\n        },\n\"M.DIAS BRANCO S.A. IND COM DE ALIMENTOS\"],\n [{\n            'v': 36172,\n            'f': \"36172\",\n        },\n\"ITAUSEG PARTICIPA\\u00c7\\u00d5ES SA\"],\n [{\n            'v': 36568,\n            'f': \"36568\",\n        },\n\"VICUNHA TEXTIL SA\"],\n [{\n            'v': 36888,\n            'f': \"36888\",\n        },\n\"BRASILAGRO - CIA BRAS DE PROP AGRICOLAS\"],\n [{\n            'v': 37086,\n            'f': \"37086\",\n        },\n\"EMBRAER S.A.\"],\n [{\n            'v': 37446,\n            'f': \"37446\",\n        },\n\"BROOKFIELD INCORPORA\\u00c7\\u00d5ES S.A.\"],\n [{\n            'v': 37756,\n            'f': \"37756\",\n        },\n\"SPRINGS GLOBAL PARTICIPACOES S.A.\"],\n [{\n            'v': 38114,\n            'f': \"38114\",\n        },\n\"AMPLA INVESTIMENTOS E SERVI\\u00c7OS S/A\"],\n [{\n            'v': 38444,\n            'f': \"38444\",\n        },\n\"MULTIPLAN - EMPREEND IMOBILIARIOS S.A.\"],\n [{\n            'v': 38826,\n            'f': \"38826\",\n        },\n\"CR2 EMPREENDIMENTOS IMOBILIARIOS S.A.\"],\n [{\n            'v': 39294,\n            'f': \"39294\",\n        },\n\"GP INVESTMENTS, LTD.\"],\n [{\n            'v': 39610,\n            'f': \"39610\",\n        },\n\"TRANSMISSORA ALIAN\\u00c7A DE ENERGIA EL\\u00c9TRICA S.A.\"],\n [{\n            'v': 40020,\n            'f': \"40020\",\n        },\n\"ONE PROPERTIES S.A.\"],\n [{\n            'v': 40344,\n            'f': \"40344\",\n        },\n\"\\u00d3LEO E G\\u00c1S PARTICIPA\\u00c7\\u00d5ES S.A.\"],\n [{\n            'v': 40662,\n            'f': \"40662\",\n        },\n\"TECNISA S.A.\"],\n [{\n            'v': 41028,\n            'f': \"41028\",\n        },\n\"LPS BRASIL - CONSULTORIA DE IMOVEIS S.A.\"],\n [{\n            'v': 41358,\n            'f': \"41358\",\n        },\n\"SAFRA COMPANHIA SECURITIZADORA DE CREDITOS IMOBILIARIOS\"],\n [{\n            'v': 41426,\n            'f': \"41426\",\n        },\n\"JHSF PARTICIPACOES S.A.\"],\n [{\n            'v': 41790,\n            'f': \"41790\",\n        },\n\"EZ TEC EMPREEND. E PARTICIPACOES S.A.\"],\n [{\n            'v': 42124,\n            'f': \"42124\",\n        },\n\"MRV ENGENHARIA E PARTICIPACOES S.A.\"],\n [{\n            'v': 42532,\n            'f': \"42532\",\n        },\n\"ALUPAR INVESTIMENTO S/A\"],\n [{\n            'v': 42830,\n            'f': \"42830\",\n        },\n\"GUARARAPES CONFECCOES S.A.\"],\n [{\n            'v': 43160,\n            'f': \"43160\",\n        },\n\"CPFL ENERGIAS RENOV\\u00c1VEIS S.A.\"],\n [{\n            'v': 43500,\n            'f': \"43500\",\n        },\n\"CIA MINEIRA DE A\\u00c7UCAR E ALCOOL PARTICIPA\\u00c7\\u00d5ES\"],\n [{\n            'v': 43824,\n            'f': \"43824\",\n        },\n\"RENOVA ENERGIA S.A. - EM RECUPERA\\u00c7\\u00c3O JUDICIAL\"],\n [{\n            'v': 44164,\n            'f': \"44164\",\n        },\n\"CIA CELG DE PARTICIPACOES - CELGPAR\"],\n [{\n            'v': 44458,\n            'f': \"44458\",\n        },\n\"REP REAL ESTATE PARTNERS DESENV IMOB SA\"],\n [{\n            'v': 44758,\n            'f': \"44758\",\n        },\n\"BRASIL BROKERS PARTICIPACOES S.A.\"],\n [{\n            'v': 45080,\n            'f': \"45080\",\n        },\n\"ALLIS PARTICIPA\\u00c7\\u00d5ES S.A.\"],\n [{\n            'v': 45380,\n            'f': \"45380\",\n        },\n\"MAGNESITA REFRATARIOS S.A.\"],\n [{\n            'v': 45752,\n            'f': \"45752\",\n        },\n\"BHG S.A. - BRAZIL HOSPITALITY GROUP\"],\n [{\n            'v': 46092,\n            'f': \"46092\",\n        },\n\"PRUMO LOGISTICA SA\"],\n [{\n            'v': 46422,\n            'f': \"46422\",\n        },\n\"GENERAL SHOPPING E OUTLETS DO BRASIL BRASIL S.A.\"],\n [{\n            'v': 46712,\n            'f': \"46712\",\n        },\n\"CYRELA COMMERCIAL PROPERT S.A. EMPR PART\"],\n [{\n            'v': 47062,\n            'f': \"47062\",\n        },\n\"YDUQS PARTICIPACOES S.A.\"],\n [{\n            'v': 47432,\n            'f': \"47432\",\n        },\n\"TRISUL S.A.\"],\n [{\n            'v': 47732,\n            'f': \"47732\",\n        },\n\"ECORODOVIAS CONCESS\\u00d5ES E SERVI\\u00c7OS S.A.\"],\n [{\n            'v': 48048,\n            'f': \"48048\",\n        },\n\"COSAN LIMITED\"],\n [{\n            'v': 48358,\n            'f': \"48358\",\n        },\n\"LAEP INVESTMENTS LTD\"],\n [{\n            'v': 48698,\n            'f': \"48698\",\n        },\n\"MULTINER S/A\"],\n [{\n            'v': 49112,\n            'f': \"49112\",\n        },\n\"INTERNATIONAL MEAL COMPANY HOLDINGS S/A\"],\n [{\n            'v': 49412,\n            'f': \"49412\",\n        },\n\"AGRENCO LIMITED\"],\n [{\n            'v': 49808,\n            'f': \"49808\",\n        },\n\"INBRANDS S.A.\"],\n [{\n            'v': 50152,\n            'f': \"50152\",\n        },\n\"OSX BRASIL S.A.\"],\n [{\n            'v': 50482,\n            'f': \"50482\",\n        },\n\"OMEGA ENERGIA RENOV\\u00c1VEL S/A\"],\n [{\n            'v': 50782,\n            'f': \"50782\",\n        },\n\"TECHNOS S.A.\"],\n [{\n            'v': 51082,\n            'f': \"51082\",\n        },\n\"FAE ADM. E PARTICIPA\\u00c7\\u00d5ES SA\"],\n [{\n            'v': 51138,\n            'f': \"51138\",\n        },\n\"B3 S.A. - BRASIL, BOLSA, BALC\\u00c3O\"],\n [{\n            'v': 51488,\n            'f': \"51488\",\n        },\n\"CETIP S.A. - BALC\\u00c3O ORGANIZADO DE ATIVOS E DERIVATIVOS\"],\n [{\n            'v': 51900,\n            'f': \"51900\",\n        },\n\"BERNA PARTICIPA\\u00c7\\u00d5ES SA\"],\n [{\n            'v': 52238,\n            'f': \"52238\",\n        },\n\"\\u00c1QUILLA SECURITIZADORA S.A.\"],\n [{\n            'v': 52296,\n            'f': \"52296\",\n        },\n\"AGV HOLDING S/A\"],\n [{\n            'v': 52672,\n            'f': \"52672\",\n        },\n\"CTX PARTICIPA\\u00c7\\u00d5ES S/A\"],\n [{\n            'v': 52988,\n            'f': \"52988\",\n        },\n\"CIA LOCA\\u00c7\\u00c3O DAS AM\\u00c9RICAS\"],\n [{\n            'v': 53268,\n            'f': \"53268\",\n        },\n\"CONCESS\\u00c3O METROVI\\u00c1RIA DO RIO DE JANEIRO S.A.\"],\n [{\n            'v': 53626,\n            'f': \"53626\",\n        },\n\"PETRO RIO S.A.\"],\n [{\n            'v': 54014,\n            'f': \"54014\",\n        },\n\"CENTENNIAL ASSET PARTICIPA\\u00c7\\u00d5ES SUDESTE S/A\"],\n [{\n            'v': 54320,\n            'f': \"54320\",\n        },\n\"BRASIL PHARMA S.A.\"],\n [{\n            'v': 54648,\n            'f': \"54648\",\n        },\n\"DUFRY A.G.\"],\n [{\n            'v': 54996,\n            'f': \"54996\",\n        },\n\"TEREOS INTERNACIONAL S/A\"],\n [{\n            'v': 55314,\n            'f': \"55314\",\n        },\n\"SAAG INVESTIMENTOS S.A.\"],\n [{\n            'v': 55618,\n            'f': \"55618\",\n        },\n\"ENAUTA PARTICIPA\\u00c7\\u00d5ES S.A.\"],\n [{\n            'v': 55932,\n            'f': \"55932\",\n        },\n\"ALPER CONSULTORIA E CORRETORA DE SEGUROS S.A.\"],\n [{\n            'v': 56232,\n            'f': \"56232\",\n        },\n\"MCM CIMENTOS S/A\"],\n [{\n            'v': 56536,\n            'f': \"56536\",\n        },\n\"QUALICORP CONSULTORIA E CORRETORA DE SEGUROS S.A.\"],\n [{\n            'v': 56850,\n            'f': \"56850\",\n        },\n\"PASCRO PARTICIPA\\u00c7\\u00d5ES S.A.\"],\n [{\n            'v': 56962,\n            'f': \"56962\",\n        },\n\"MOURA DUBEUX ENGENHARIA S/A\"],\n [{\n            'v': 57250,\n            'f': \"57250\",\n        },\n\"REDENTOR ENERGIA S/A\"],\n [{\n            'v': 57538,\n            'f': \"57538\",\n        },\n\"STEIN SP II PARTICIPA\\u00c7\\u00d5ES S.A.\"],\n [{\n            'v': 57826,\n            'f': \"57826\",\n        },\n\"PERENCO PETR\\u00d3LEO E G\\u00c1S DO BRASIL PARTICIPA\\u00c7\\u00d5ES S.A.\"],\n [{\n            'v': 58010,\n            'f': \"58010\",\n        },\n\"HIDROVIAS DO BRASIL S.A.\"],\n [{\n            'v': 58282,\n            'f': \"58282\",\n        },\n\"ISOLUX INFRASTRUCTURE S.A.\"],\n [{\n            'v': 58416,\n            'f': \"58416\",\n        },\n\"MLOG S.A.\"],\n [{\n            'v': 58556,\n            'f': \"58556\",\n        },\n\"PRONOR PETROQUIMICA SA\"],\n [{\n            'v': 58618,\n            'f': \"58618\",\n        },\n\"QGN PARTICIPA\\u00c7\\u00d5ES SA\"],\n [{\n            'v': 58906,\n            'f': \"58906\",\n        },\n\"ELEKEIROZ S.A.\"],\n [{\n            'v': 59246,\n            'f': \"59246\",\n        },\n\"PARTICIPA\\u00c7\\u00d5ES INDUST. DO NORDESTE S.A.\"],\n [{\n            'v': 59776,\n            'f': \"59776\",\n        },\n\"PACIFIC RUBIALES ENERGY CORP.\"],\n [{\n            'v': 60194,\n            'f': \"60194\",\n        },\n\"SANSUY S.A. INDUSTRIA DE PLASTICOS\"],\n [{\n            'v': 60540,\n            'f': \"60540\",\n        },\n\"J. MACEDO S.A.\"],\n [{\n            'v': 60850,\n            'f': \"60850\",\n        },\n\"CORREA RIBEIRO S.A. COMERCIO E INDUSTRIA\"],\n [{\n            'v': 61130,\n            'f': \"61130\",\n        },\n\"TRONOX PIGMENTOS DO BRASIL S.A.\"],\n [{\n            'v': 61514,\n            'f': \"61514\",\n        },\n\"CIA FERRO LIGAS DA BAHIA - FERBASA\"],\n [{\n            'v': 61852,\n            'f': \"61852\",\n        },\n\"CIA SEGUROS ALIANCA DA BAHIA\"],\n [{\n            'v': 62558,\n            'f': \"62558\",\n        },\n\"METANOR SA METANOL DO NE\"],\n [{\n            'v': 62830,\n            'f': \"62830\",\n        },\n\"SUZANO S.A.\"],\n [{\n            'v': 63172,\n            'f': \"63172\",\n        },\n\"AREZZO IND\\u00daSTRIA E COM\\u00c9RCIO S.A.\"],\n [{\n            'v': 63502,\n            'f': \"63502\",\n        },\n\"DIRECIONAL ENGENHARIA S.A.\"],\n [{\n            'v': 63804,\n            'f': \"63804\",\n        },\n\"LOCALIZA RENT A CAR S.A.\"],\n [{\n            'v': 64104,\n            'f': \"64104\",\n        },\n\"CIA ENERGETICA DE MINAS GERAIS - CEMIG\"],\n [{\n            'v': 64636,\n            'f': \"64636\",\n        },\n\"FIACAO TEC SAO JOSE S.A.\"],\n [{\n            'v': 64932,\n            'f': \"64932\",\n        },\n\"ALFA HOLDINGS S.A.\"],\n [{\n            'v': 65348,\n            'f': \"65348\",\n        },\n\"CONSORCIO ALFA DE ADMINISTRACAO S.A.\"],\n [{\n            'v': 65858,\n            'f': \"65858\",\n        },\n\"CIA FIACAO TECIDOS CEDRO CACHOEIRA\"],\n [{\n            'v': 66178,\n            'f': \"66178\",\n        },\n\"CIA SANEAMENTO DE MINAS GERAIS-COPASA MG\"],\n [{\n            'v': 66554,\n            'f': \"66554\",\n        },\n\"VALE FERTILIZANTES S.A.\"],\n [{\n            'v': 66854,\n            'f': \"66854\",\n        },\n\"CIA INDUSTRIAL CATAGUASES\"],\n [{\n            'v': 67154,\n            'f': \"67154\",\n        },\n\"CIA TECIDOS SANTANENSE\"],\n [{\n            'v': 67504,\n            'f': \"67504\",\n        },\n\"ELETROSOM S/A\"],\n [{\n            'v': 67804,\n            'f': \"67804\",\n        },\n\"FERTILIZANTES HERINGER S.A. - EM RECUPERA\\u00c7\\u00c3O JUDICIAL\"],\n [{\n            'v': 68084,\n            'f': \"68084\",\n        },\n\"CIA TECIDOS NORTE DE MINAS COTEMINAS\"],\n [{\n            'v': 68460,\n            'f': \"68460\",\n        },\n\"TEC TOY S.A.\"],\n [{\n            'v': 68994,\n            'f': \"68994\",\n        },\n\"RUMO MALHA NORTE S.A.\"],\n [{\n            'v': 69354,\n            'f': \"69354\",\n        },\n\"WEMBLEY SOCIEDADE AN\\u00d4NIMA\"],\n [{\n            'v': 69708,\n            'f': \"69708\",\n        },\n\"CAFE SOLUVEL BRASILIA SA\"],\n [{\n            'v': 69988,\n            'f': \"69988\",\n        },\n\"MILLS ESTRUTURAS E SERVI\\u00c7OS DE ENGENHARIA S.A.\"],\n [{\n            'v': 70108,\n            'f': \"70108\",\n        },\n\"BCO ABC BRASIL S.A.\"],\n [{\n            'v': 70180,\n            'f': \"70180\",\n        },\n\"IND\\u00daSTRIA VEROLME S.A. - IVESA\"],\n [{\n            'v': 70480,\n            'f': \"70480\",\n        },\n\"SAO CARLOS EMPREEND E PARTICIPACOES S.A.\"],\n [{\n            'v': 70798,\n            'f': \"70798\",\n        },\n\"SUL AMERICA S.A.\"],\n [{\n            'v': 71488,\n            'f': \"71488\",\n        },\n\"PREDILETO ALIMENTOS SA\"],\n [{\n            'v': 71768,\n            'f': \"71768\",\n        },\n\"VIX LOG\\u00cdSTICA S/A\"],\n [{\n            'v': 72104,\n            'f': \"72104\",\n        },\n\"TELEMAR NORTE LESTE SA\"],\n [{\n            'v': 72424,\n            'f': \"72424\",\n        },\n\"PETROLEO BRASILEIRO S.A. PETROBRAS\"],\n [{\n            'v': 72834,\n            'f': \"72834\",\n        },\n\"SOUZA CRUZ SA\"],\n [{\n            'v': 73124,\n            'f': \"73124\",\n        },\n\"LOJAS AMERICANAS S.A.\"],\n [{\n            'v': 73474,\n            'f': \"73474\",\n        },\n\"JOAO FORTES ENGENHARIA S.A. - EM RECUPERA\\u00c7\\u00c3O JUDICIAL\"],\n [{\n            'v': 73784,\n            'f': \"73784\",\n        },\n\"VIA VAREJO S.A.\"],\n [{\n            'v': 74174,\n            'f': \"74174\",\n        },\n\"CIA SIDERURGICA NACIONAL\"],\n [{\n            'v': 74474,\n            'f': \"74474\",\n        },\n\"MONTEIRO ARANHA S.A.\"],\n [{\n            'v': 74764,\n            'f': \"74764\",\n        },\n\"VALID SOLU\\u00c7\\u00d5ES S.A.\"],\n [{\n            'v': 75082,\n            'f': \"75082\",\n        },\n\"SERGEN SERVS GERAIS DE ENG SA\"],\n [{\n            'v': 75420,\n            'f': \"75420\",\n        },\n\"HOTEIS OTHON S.A. - EM RECUPERA\\u00c7\\u00c3O JUDICIAL\"],\n [{\n            'v': 75730,\n            'f': \"75730\",\n        },\n\"WLM PART. E COM\\u00c9RCIO DE M\\u00c1QUINAS E VE\\u00cdCULOS S.A.\"],\n [{\n            'v': 76412,\n            'f': \"76412\",\n        },\n\"ULTRAPAR PARTICIPACOES S.A.\"],\n [{\n            'v': 76742,\n            'f': \"76742\",\n        },\n\"SONDOTECNICA ENGENHARIA SOLOS S.A.\"],\n [{\n            'v': 77124,\n            'f': \"77124\",\n        },\n\"REFINARIA DE PETROLEOS MANGUINHOS S.A.\"],\n [{\n            'v': 77434,\n            'f': \"77434\",\n        },\n\"DOCAS INVESTIMENTOS SA\"],\n [{\n            'v': 77750,\n            'f': \"77750\",\n        },\n\"TEKNO S.A. - INDUSTRIA E COMERCIO\"],\n [{\n            'v': 78288,\n            'f': \"78288\",\n        },\n\"CIA HIDRO EL\\u00c9TRICA DO S\\u00c3O FRANCISCO\"],\n [{\n            'v': 78770,\n            'f': \"78770\",\n        },\n\"VALE S.A.\"],\n [{\n            'v': 79090,\n            'f': \"79090\",\n        },\n\"GERDAU S.A.\"],\n [{\n            'v': 79460,\n            'f': \"79460\",\n        },\n\"LATAM AIRLINES GROUP S.A.\"],\n [{\n            'v': 79810,\n            'f': \"79810\",\n        },\n\"UNIPAR CARBOCLORO S.A.\"],\n [{\n            'v': 80150,\n            'f': \"80150\",\n        },\n\"AMIL PARTICIPA\\u00c7\\u00d5ES S/A\"],\n [{\n            'v': 80430,\n            'f': \"80430\",\n        },\n\"BRASKEM S.A.\"],\n [{\n            'v': 80798,\n            'f': \"80798\",\n        },\n\"LOG-IN LOGISTICA INTERMODAL S.A.\"],\n [{\n            'v': 81088,\n            'f': \"81088\",\n        },\n\"EMBPAR PARTICIPA\\u00c7\\u00d5ES S/A\"],\n [{\n            'v': 81820,\n            'f': \"81820\",\n        },\n\"IGB ELETRONICA S.A - EM RECUPERACAO JUDICIAL\"],\n [{\n            'v': 82100,\n            'f': \"82100\",\n        },\n\"EVEN CONSTRUTORA E INCORPORADORA S.A.\"],\n [{\n            'v': 82408,\n            'f': \"82408\",\n        },\n\"CIA SANEAMENTO BASICO EST SAO PAULO\"],\n [{\n            'v': 82818,\n            'f': \"82818\",\n        },\n\"USINA COSTA PINTO SA ACUC ALC\"],\n [{\n            'v': 83138,\n            'f': \"83138\",\n        },\n\"PROFARMA DISTRIB PROD FARMACEUTICOS S.A.\"],\n [{\n            'v': 83524,\n            'f': \"83524\",\n        },\n\"BAHEMA EDUCA\\u00c7\\u00c3O S.A.\"],\n [{\n            'v': 83994,\n            'f': \"83994\",\n        },\n\"CONSTRUTORA LIX DA CUNHA S.A.\"],\n [{\n            'v': 84394,\n            'f': \"84394\",\n        },\n\"CIA BRASILEIRA DE DISTRIBUICAO\"],\n [{\n            'v': 84740,\n            'f': \"84740\",\n        },\n\"MAGAZINE LUIZA S.A.\"],\n [{\n            'v': 85136,\n            'f': \"85136\",\n        },\n\"HELBOR EMPREENDIMENTOS S.A.\"],\n [{\n            'v': 85514,\n            'f': \"85514\",\n        },\n\"RESTOQUE COM\\u00c9RCIO E CONFEC\\u00c7\\u00d5ES DE ROUPAS S.A.\"],\n [{\n            'v': 85642,\n            'f': \"85642\",\n        },\n\"BOMBRIL S.A.\"],\n [{\n            'v': 86202,\n            'f': \"86202\",\n        },\n\"COSAN S.A.\"],\n [{\n            'v': 86522,\n            'f': \"86522\",\n        },\n\"VULCABRAS S.A.\"],\n [{\n            'v': 86822,\n            'f': \"86822\",\n        },\n\"IGUATEMI EMPRESA DE SHOPPING CENTERS S.A\"],\n [{\n            'v': 87122,\n            'f': \"87122\",\n        },\n\"SAO MARTINHO S.A.\"],\n [{\n            'v': 87454,\n            'f': \"87454\",\n        },\n\"PLASCAR PARTICIPACOES INDUSTRIAIS S.A.\"],\n [{\n            'v': 87744,\n            'f': \"87744\",\n        },\n\"JSL S.A.\"],\n [{\n            'v': 88080,\n            'f': \"88080\",\n        },\n\"TOTVS S.A.\"],\n [{\n            'v': 88506,\n            'f': \"88506\",\n        },\n\"JPSP INVESTIMENTOS E PARTICIPA\\u00c7\\u00d5ES S/A\"],\n [{\n            'v': 88844,\n            'f': \"88844\",\n        },\n\"ITAUTEC S.A. - GRUPO ITAUTEC\"],\n [{\n            'v': 89220,\n            'f': \"89220\",\n        },\n\"EUCATEX S.A. INDUSTRIA E COMERCIO\"],\n [{\n            'v': 89556,\n            'f': \"89556\",\n        },\n\"INDUSTRIAS ROMI S.A.\"],\n [{\n            'v': 89914,\n            'f': \"89914\",\n        },\n\"M&G POLI\\u00c9STER SA\"],\n [{\n            'v': 90252,\n            'f': \"90252\",\n        },\n\"BICICLETAS MONARK S.A.\"],\n [{\n            'v': 90682,\n            'f': \"90682\",\n        },\n\"ODONTOPREV S.A.\"],\n [{\n            'v': 91120,\n            'f': \"91120\",\n        },\n\"BROOKFIELD S\\u00c3O PAULO EMPREENDIMENTOS IMOBILI\\u00c1RIOS S.A.\"],\n [{\n            'v': 91424,\n            'f': \"91424\",\n        },\n\"AUTOMETAL S.A.\"],\n [{\n            'v': 91754,\n            'f': \"91754\",\n        },\n\"WHIRLPOOL S.A.\"],\n [{\n            'v': 92062,\n            'f': \"92062\",\n        },\n\"DIXIE TOGA SA\"],\n [{\n            'v': 92134,\n            'f': \"92134\",\n        },\n\"PARANAPANEMA S.A.\"],\n [{\n            'v': 92460,\n            'f': \"92460\",\n        },\n\"MAHLE-METAL LEVE S.A.\"],\n [{\n            'v': 92800,\n            'f': \"92800\",\n        },\n\"SARAIVA LIVREIROS S.A. - EM RECUPERA\\u00c7\\u00c3O JUDICIAL\"],\n [{\n            'v': 93192,\n            'f': \"93192\",\n        },\n\"JEREISSATI PARTICIPACOES S.A.\"],\n [{\n            'v': 93530,\n            'f': \"93530\",\n        },\n\"FIBRIA CELULOSE S.A.\"],\n [{\n            'v': 93830,\n            'f': \"93830\",\n        },\n\"SUZANO HOLDING S.A.\"],\n [{\n            'v': 94170,\n            'f': \"94170\",\n        },\n\"CIA MELHORAMENTOS DE SAO PAULO\"],\n [{\n            'v': 94470,\n            'f': \"94470\",\n        },\n\"FLEURY S.A.\"],\n [{\n            'v': 94780,\n            'f': \"94780\",\n        },\n\"BARDELLA S.A. INDUSTRIAS MECANICAS EM RECUPERA\\u00c7\\u00c3O JUDICIAL\"],\n [{\n            'v': 95088,\n            'f': \"95088\",\n        },\n\"ITAU UNIBANCO HOLDING S.A.\"],\n [{\n            'v': 95378,\n            'f': \"95378\",\n        },\n\"CONFAB INDUSTRIAL SA\"],\n [{\n            'v': 95740,\n            'f': \"95740\",\n        },\n\"USINAS SID DE MINAS GERAIS S.A.-USIMINAS\"],\n [{\n            'v': 96060,\n            'f': \"96060\",\n        },\n\"CONSTRUTORA ADOLPHO LINDENBERG S.A.\"],\n [{\n            'v': 96380,\n            'f': \"96380\",\n        },\n\"MANGELS INDUSTRIAL S.A.\"],\n [{\n            'v': 96724,\n            'f': \"96724\",\n        },\n\"ROSSI RESIDENCIAL S.A.\"],\n [{\n            'v': 97054,\n            'f': \"97054\",\n        },\n\"NADIR FIGUEIREDO IND E COM S.A.\"],\n [{\n            'v': 97390,\n            'f': \"97390\",\n        },\n\"ALPARGATAS S.A.\"],\n [{\n            'v': 97736,\n            'f': \"97736\",\n        },\n\"MANUFATURA DE BRINQUEDOS ESTRELA S.A.\"],\n [{\n            'v': 98112,\n            'f': \"98112\",\n        },\n\"CAMBUCI S.A.\"],\n [{\n            'v': 98412,\n            'f': \"98412\",\n        },\n\"ETERNIT S.A. - EM RECUPERA\\u00c7\\u00c3O JUDICIAL\"],\n [{\n            'v': 98768,\n            'f': \"98768\",\n        },\n\"IOCHPE MAXION S.A.\"],\n [{\n            'v': 99088,\n            'f': \"99088\",\n        },\n\"SIDERURGICA J. L. ALIPERTI S.A.\"],\n [{\n            'v': 99408,\n            'f': \"99408\",\n        },\n\"MARISA LOJAS S.A.\"],\n [{\n            'v': 99728,\n            'f': \"99728\",\n        },\n\"AZEVEDO E TRAVASSOS S.A.\"],\n [{\n            'v': 100044,\n            'f': \"100044\",\n        },\n\"BAUMER S.A.\"],\n [{\n            'v': 100384,\n            'f': \"100384\",\n        },\n\"DIAGNOSTICOS DA AMERICA S.A.\"],\n [{\n            'v': 100684,\n            'f': \"100684\",\n        },\n\"ITA\\u00daSA S.A.\"],\n [{\n            'v': 101088,\n            'f': \"101088\",\n        },\n\"PARAMOUNT TEXTEIS INDUSTRIA E COMERCIO S/A\"],\n [{\n            'v': 101456,\n            'f': \"101456\",\n        },\n\"REDE ENERGIA PARTICIPA\\u00c7\\u00d5ES S.A.\"],\n [{\n            'v': 101764,\n            'f': \"101764\",\n        },\n\"BANCO CRUZEIRO DO SUL SA\"],\n [{\n            'v': 102124,\n            'f': \"102124\",\n        },\n\"BCO PINE S.A.\"],\n [{\n            'v': 102490,\n            'f': \"102490\",\n        },\n\"CAMARGO CORREA CIMENTOS SA\"],\n [{\n            'v': 102554,\n            'f': \"102554\",\n        },\n\"RNI NEG\\u00d3CIOS IMOBILI\\u00c1RIOS S.A.\"],\n [{\n            'v': 102964,\n            'f': \"102964\",\n        },\n\"CAMARGO CORREA DESENVOLVIMENTO IMOBILIARIO SA\"],\n [{\n            'v': 103300,\n            'f': \"103300\",\n        },\n\"VIVER INCORP. E CONSTRUTORA S.A. - EM RECUPERA\\u00c7\\u00c3O JUDICIAL\"],\n [{\n            'v': 103590,\n            'f': \"103590\",\n        },\n\"MINERVA S.A.\"],\n [{\n            'v': 103872,\n            'f': \"103872\",\n        },\n\"ALGAR TELECOM S/A\"],\n [{\n            'v': 104188,\n            'f': \"104188\",\n        },\n\"CONSTRUTORA TENDA S.A.\"],\n [{\n            'v': 104496,\n            'f': \"104496\",\n        },\n\"NATURA COSMETICOS S.A.\"],\n [{\n            'v': 104816,\n            'f': \"104816\",\n        },\n\"CYRELA BRAZIL REALTY S.A.EMPREEND E PART\"],\n [{\n            'v': 105186,\n            'f': \"105186\",\n        },\n\"CIA. IGUA\\u00c7U DE CAF\\u00c9 SOL\\u00daVEL\"],\n [{\n            'v': 105478,\n            'f': \"105478\",\n        },\n\"CIA PARANAENSE DE ENERGIA - COPEL\"],\n [{\n            'v': 106074,\n            'f': \"106074\",\n        },\n\"COMPANHIA PROVIDENCIA IND E COMERCIO\"],\n [{\n            'v': 106364,\n            'f': \"106364\",\n        },\n\"OI S.A. - EM RECUPERA\\u00c7\\u00c3O JUDICIAL\"],\n [{\n            'v': 106684,\n            'f': \"106684\",\n        },\n\"INEPAR S.A. INDUSTRIA E CONSTRUCOES\"],\n [{\n            'v': 107060,\n            'f': \"107060\",\n        },\n\"CIA CACIQUE CAFE SOLUVEL\"],\n [{\n            'v': 107400,\n            'f': \"107400\",\n        },\n\"CIA HERING\"],\n [{\n            'v': 107762,\n            'f': \"107762\",\n        },\n\"CECRISA REVESTIMENTOS CERAMICOS SA\"],\n [{\n            'v': 108092,\n            'f': \"108092\",\n        },\n\"POSITIVO TECNOLOGIA S.A.\"],\n [{\n            'v': 108432,\n            'f': \"108432\",\n        },\n\"BEMATECH IND COM EQUIP ELETRONICOS SA\"],\n [{\n            'v': 108792,\n            'f': \"108792\",\n        },\n\"TEKA-TECELAGEM KUEHNRICH S.A. - EM RECUPERA\\u00c7\\u00c3O JUDICIAL\"],\n [{\n            'v': 109112,\n            'f': \"109112\",\n        },\n\"KARSTEN S.A.\"],\n [{\n            'v': 109412,\n            'f': \"109412\",\n        },\n\"CREMER SA\"],\n [{\n            'v': 109712,\n            'f': \"109712\",\n        },\n\"TEXTIL RENAUXVIEW S.A.\"],\n [{\n            'v': 110000,\n            'f': \"110000\",\n        },\n\"PBG S/A\"],\n [{\n            'v': 110380,\n            'f': \"110380\",\n        },\n\"CENTRAIS ELET DE SANTA CATARINA S.A.\"],\n [{\n            'v': 110720,\n            'f': \"110720\",\n        },\n\"CIA DOCAS DE IMBITUBA\"],\n [{\n            'v': 111116,\n            'f': \"111116\",\n        },\n\"WEG S.A.\"],\n [{\n            'v': 111436,\n            'f': \"111436\",\n        },\n\"MARISOL SA\"],\n [{\n            'v': 111866,\n            'f': \"111866\",\n        },\n\"TUPY S.A.\"],\n [{\n            'v': 112186,\n            'f': \"112186\",\n        },\n\"DOHLER S.A.\"],\n [{\n            'v': 112486,\n            'f': \"112486\",\n        },\n\"WETZEL S.A. EM RECUPERA\\u00c7\\u00c3O JUDICIAL\"],\n [{\n            'v': 112794,\n            'f': \"112794\",\n        },\n\"SCHULZ S.A.\"],\n [{\n            'v': 113144,\n            'f': \"113144\",\n        },\n\"METISA METALURGICA TIMBOENSE S.A.\"],\n [{\n            'v': 113504,\n            'f': \"113504\",\n        },\n\"POMIFRUTAS S/A\"],\n [{\n            'v': 113830,\n            'f': \"113830\",\n        },\n\"JOSAPAR-JOAQUIM OLIVEIRA S.A. - PARTICIP\"],\n [{\n            'v': 114170,\n            'f': \"114170\",\n        },\n\"CIA HABITASUL DE PARTICIPACOES\"],\n [{\n            'v': 114480,\n            'f': \"114480\",\n        },\n\"FRAS-LE S.A.\"],\n [{\n            'v': 114806,\n            'f': \"114806\",\n        },\n\"MUNDIAL S.A. - PRODUTOS DE CONSUMO\"],\n [{\n            'v': 115122,\n            'f': \"115122\",\n        },\n\"MARCOPOLO S.A.\"],\n [{\n            'v': 115442,\n            'f': \"115442\",\n        },\n\"PETTENATI S.A. INDUSTRIA TEXTIL\"],\n [{\n            'v': 115634,\n            'f': \"115634\",\n        },\n\"RANDON S.A. IMPLEMENTOS E PARTICIPACOES\"],\n [{\n            'v': 115954,\n            'f': \"115954\",\n        },\n\"SLC AGRICOLA S.A.\"],\n [{\n            'v': 116262,\n            'f': \"116262\",\n        },\n\"LUPATECH S.A. - EM RECUPERA\\u00c7\\u00c3O JUDICIAL\"],\n [{\n            'v': 116618,\n            'f': \"116618\",\n        },\n\"KLABIN S.A.\"],\n [{\n            'v': 116958,\n            'f': \"116958\",\n        },\n\"CONSTRUTORA SULTEPA S.A.\"],\n [{\n            'v': 117238,\n            'f': \"117238\",\n        },\n\"GRENDENE S.A.\"],\n [{\n            'v': 117542,\n            'f': \"117542\",\n        },\n\"MINUPAR PARTICIPACOES S.A.\"],\n [{\n            'v': 117842,\n            'f': \"117842\",\n        },\n\"BCO SANTANDER (BRASIL) S.A.\"],\n [{\n            'v': 118248,\n            'f': \"118248\",\n        },\n\"RECRUSUL S.A.\"],\n [{\n            'v': 118544,\n            'f': \"118544\",\n        },\n\"\\u00c9VORA SA\"],\n [{\n            'v': 118864,\n            'f': \"118864\",\n        },\n\"KEPLER WEBER S.A.\"],\n [{\n            'v': 119182,\n            'f': \"119182\",\n        },\n\"GRAZZIOTIN S.A.\"],\n [{\n            'v': 119628,\n            'f': \"119628\",\n        },\n\"TREVISA INVESTIMENTOS S.A.\"],\n [{\n            'v': 119936,\n            'f': \"119936\",\n        },\n\"YARA BRASIL FERTILIZANTES\"],\n [{\n            'v': 120346,\n            'f': \"120346\",\n        },\n\"DIMED S.A. DISTRIBUIDORA DE MEDICAMENTOS\"],\n [{\n            'v': 120666,\n            'f': \"120666\",\n        },\n\"METALURGICA GERDAU S.A.\"],\n [{\n            'v': 121036,\n            'f': \"121036\",\n        },\n\"PANATLANTICA S.A.\"],\n [{\n            'v': 121336,\n            'f': \"121336\",\n        },\n\"LOJAS RENNER S.A.\"],\n [{\n            'v': 121716,\n            'f': \"121716\",\n        },\n\"TAURUS ARMAS S.A.\"],\n [{\n            'v': 122036,\n            'f': \"122036\",\n        },\n\"IRANI PAPEL E EMBALAGEM S.A.\"],\n [{\n            'v': 122356,\n            'f': \"122356\",\n        },\n\"CIA RIOGRANDENSE DE SANEAMENTO\"],\n [{\n            'v': 122656,\n            'f': \"122656\",\n        },\n\"DHB IND E COMERCIO SA\"],\n [{\n            'v': 122956,\n            'f': \"122956\",\n        },\n\"SPRINGER S.A.\"],\n [{\n            'v': 123236,\n            'f': \"123236\",\n        },\n\"DURATEX S.A.\"],\n [{\n            'v': 6636,\n            'f': \"6636\",\n        },\n\"LIGHT ENERGIA S.A.\"],\n [{\n            'v': 25712,\n            'f': \"25712\",\n        },\n\"SENIOR SOLUTION S.A.\"],\n [{\n            'v': 28884,\n            'f': \"28884\",\n        },\n\"SOLVAY INDUPA SAIC\"],\n [{\n            'v': 30896,\n            'f': \"30896\",\n        },\n\"LINX S.A.\"],\n [{\n            'v': 33852,\n            'f': \"33852\",\n        },\n\"ELDORADO BRASIL CELULOSE S.A.\"],\n [{\n            'v': 37250,\n            'f': \"37250\",\n        },\n\"CCX CARV\\u00c3O DA COL\\u00d4MBIA S.A. - EM LIQUIDA\\u00c7\\u00c3O\"],\n [{\n            'v': 44986,\n            'f': \"44986\",\n        },\n\"BCO PATAGONIA S.A.\"],\n [{\n            'v': 49436,\n            'f': \"49436\",\n        },\n\"BASEL PARTICIPA\\u00c7\\u00d5ES S/A\"],\n [{\n            'v': 49838,\n            'f': \"49838\",\n        },\n\"BELMONTE PARTICIPA\\u00c7\\u00d5ES SA\"],\n [{\n            'v': 51210,\n            'f': \"51210\",\n        },\n\"ADVANCED DIGITAL HEALTH MEDICINA PREVENTIVA S.A.\"],\n [{\n            'v': 55968,\n            'f': \"55968\",\n        },\n\"VIGOR ALIMENTOS S.A.\"],\n [{\n            'v': 56704,\n            'f': \"56704\",\n        },\n\"TGLT S/A\"],\n [{\n            'v': 58536,\n            'f': \"58536\",\n        },\n\"PPLA PARTICIPATIONS LTD.\"],\n [{\n            'v': 60586,\n            'f': \"60586\",\n        },\n\"BIOSEV S.A.\"],\n [{\n            'v': 60976,\n            'f': \"60976\",\n        },\n\"AR CAPITAL SECURITIES COMPANHIA SECURITIZADORA S.A.\"],\n [{\n            'v': 69583,\n            'f': \"69583\",\n        },\n\"HAGA S.A. INDUSTRIA E COMERCIO\"],\n [{\n            'v': 71575,\n            'f': \"71575\",\n        },\n\"CIMENTO TUPI S.A.\"],\n [{\n            'v': 84749,\n            'f': \"84749\",\n        },\n\"NUTRIPLANT INDUSTRIA E COMERCIO S.A.\"],\n [{\n            'v': 99179,\n            'f': \"99179\",\n        },\n\"RAIA DROGASIL S.A.\"],\n [{\n            'v': 1156,\n            'f': \"1156\",\n        },\n\"NEUMARKT TRADE AND FINANCIAL CENTER S/A\"],\n [{\n            'v': 1436,\n            'f': \"1436\",\n        },\n\"TELEC BRASILEIRAS S.A. TELEBRAS\"],\n [{\n            'v': 26314,\n            'f': \"26314\",\n        },\n\"SER EDUCACIONAL S.A.\"],\n [{\n            'v': 31266,\n            'f': \"31266\",\n        },\n\"AMBEV S.A.\"],\n [{\n            'v': 35764,\n            'f': \"35764\",\n        },\n\"RAIZEN ENERGIA S.A.\"],\n [{\n            'v': 36440,\n            'f': \"36440\",\n        },\n\"IGUA SANEAMENTO S.A.\"],\n [{\n            'v': 44434,\n            'f': \"44434\",\n        },\n\"LOG COMMERCIAL PROPERTIES E PARTICIPA\\u00c7\\u00d5ES\"],\n [{\n            'v': 45582,\n            'f': \"45582\",\n        },\n\"ANIMA HOLDING S.A.\"],\n [{\n            'v': 49830,\n            'f': \"49830\",\n        },\n\"METROPOLIS EMPREENDIMENTOS IMOBILI\\u00c1RIOS S/A\"],\n [{\n            'v': 50418,\n            'f': \"50418\",\n        },\n\"CVC BRASIL OPERADORA E AG\\u00caNCIA DE VIAGENS S.A.\"],\n [{\n            'v': 50738,\n            'f': \"50738\",\n        },\n\"BRAZAL BRASIL ALIMENTOS SA\"],\n [{\n            'v': 55028,\n            'f': \"55028\",\n        },\n\"NAOMI PARTICIPA\\u00c7\\u00d5ES S.A.\"],\n [{\n            'v': 55318,\n            'f': \"55318\",\n        },\n\"BELEZA PARTICIPA\\u00c7\\u00d5ES S.A.\"],\n [{\n            'v': 59328,\n            'f': \"59328\",\n        },\n\"JP PARTICIPA\\u00c7\\u00d5ES S.A.\"],\n [{\n            'v': 60232,\n            'f': \"60232\",\n        },\n\"FINPAR PARTICIPA\\u00c7\\u00d5ES S/A\"],\n [{\n            'v': 64412,\n            'f': \"64412\",\n        },\n\"BB SEGURIDADE PARTICIPA\\u00c7\\u00d5ES S.A.\"],\n [{\n            'v': 65106,\n            'f': \"65106\",\n        },\n\"ISEC BRASIL SECURITIZADORA S/A\"],\n [{\n            'v': 65162,\n            'f': \"65162\",\n        },\n\"MGI - MINAS GERAIS PARTICIPA\\u00c7\\u00d5ES S.A.\"],\n [{\n            'v': 73076,\n            'f': \"73076\",\n        },\n\"TECNOSOLO ENGENHARIA S.A. - EMPRESA EM RECUPERA\\u00c7\\u00c3O JUDICIAL\"],\n [{\n            'v': 98278,\n            'f': \"98278\",\n        },\n\"COMPANHIA DE CR\\u00c9DITO FINANCIAMENTO E INVESTIMENTO RCI BRASIL\"],\n [{\n            'v': 101312,\n            'f': \"101312\",\n        },\n\"OURO VERDE LOCACAO E SERVICO S.A.\"],\n [{\n            'v': 113670,\n            'f': \"113670\",\n        },\n\"UNICASA IND\\u00daSTRIA DE M\\u00d3VEIS S.A.\"],\n [{\n            'v': 10278,\n            'f': \"10278\",\n        },\n\"LIBRA TERMINAL RIO S.A. - EM RECUPERA\\u00c7\\u00c3O JUDICIAL\"],\n [{\n            'v': 25878,\n            'f': \"25878\",\n        },\n\"BANCO SANTANDER S.A.\"],\n [{\n            'v': 29692,\n            'f': \"29692\",\n        },\n\"CLARO TELECOM PARTICIPA\\u00c7\\u00d5ES S.A.\"],\n [{\n            'v': 36406,\n            'f': \"36406\",\n        },\n\"RJ CAPITAL PARTNERS S.A.\"],\n [{\n            'v': 42638,\n            'f': \"42638\",\n        },\n\"AEGEA SANEAMENTO E PARTICIPA\\u00c7\\u00d5ES S.A.\"],\n [{\n            'v': 44020,\n            'f': \"44020\",\n        },\n\"DOMMO ENERGIA S.A.\"],\n [{\n            'v': 46060,\n            'f': \"46060\",\n        },\n\"OMEGA GERA\\u00c7\\u00c3O S.A.\"],\n [{\n            'v': 59978,\n            'f': \"59978\",\n        },\n\"SMILES S.A.\"],\n [{\n            'v': 64622,\n            'f': \"64622\",\n        },\n\"INTERNATIONAL MEAL COMPANY ALIMENTACAO S.A.\"],\n [{\n            'v': 65640,\n            'f': \"65640\",\n        },\n\"COSAN LOGISTICA S.A.\"],\n [{\n            'v': 66508,\n            'f': \"66508\",\n        },\n\"OURO FINO SAUDE ANIMAL PARTICIPACOES S.A.\"],\n [{\n            'v': 94304,\n            'f': \"94304\",\n        },\n\"COBRASMA S.A.\"],\n [{\n            'v': 101018,\n            'f': \"101018\",\n        },\n\"RUMO LOG\\u00cdSTICA OPERADORA MULTIMODAL S.A.\"],\n [{\n            'v': 106054,\n            'f': \"106054\",\n        },\n\"CIA INDUSTRIAL SCHLOSSER S.A.\"],\n [{\n            'v': 117508,\n            'f': \"117508\",\n        },\n\"CIA ESTADUAL GER.TRANS.ENER.ELET-CEEE-GT\"],\n [{\n            'v': 16896,\n            'f': \"16896\",\n        },\n\"RIO PARANAPANEMA ENERGIA S.A.\"],\n [{\n            'v': 20876,\n            'f': \"20876\",\n        },\n\"FORNO DE MINAS ALIMENTOS S.A.\"],\n [{\n            'v': 48094,\n            'f': \"48094\",\n        },\n\"BS&C EMPREENDIMENTOS E PARTICIPA\\u00c7\\u00d5ES S.A.\"],\n [{\n            'v': 48762,\n            'f': \"48762\",\n        },\n\"PR\\u00c1TICA PARTICIPA\\u00c7\\u00d5ES S/A\"],\n [{\n            'v': 49400,\n            'f': \"49400\",\n        },\n\"BR HOME CENTERS S.A.\"],\n [{\n            'v': 50180,\n            'f': \"50180\",\n        },\n\"YOU INC INCORPORADORA E PARTICIPA\\u00c7\\u00c3O S.A\"],\n [{\n            'v': 55520,\n            'f': \"55520\",\n        },\n\"CBO HOLDING S.A.\"],\n [{\n            'v': 66264,\n            'f': \"66264\",\n        },\n\"MOVIDA PARTICIPACOES SA\"],\n [{\n            'v': 66848,\n            'f': \"66848\",\n        },\n\"CAIXA SEGURIDADE PARTICIPA\\u00c7\\u00d5ES S.A.\"],\n [{\n            'v': 77836,\n            'f': \"77836\",\n        },\n\"QUALITY SOFTWARE S.A.\"],\n [{\n            'v': 78112,\n            'f': \"78112\",\n        },\n\"BRQ SOLUCOES EM INFORMATICA S.A.\"],\n [{\n            'v': 79206,\n            'f': \"79206\",\n        },\n\"WIZ SOLU\\u00c7\\u00d5ES E CORRETAGEM DE SEGUROS S.A.\"],\n [{\n            'v': 28780,\n            'f': \"28780\",\n        },\n\"CINESYSTEM S.A.\"],\n [{\n            'v': 38614,\n            'f': \"38614\",\n        },\n\"BRASILIANA PARTICIPA\\u00c7\\u00d5ES S/A\"],\n [{\n            'v': 51102,\n            'f': \"51102\",\n        },\n\"SUGOI S.A.\"],\n [{\n            'v': 61376,\n            'f': \"61376\",\n        },\n\"CONCEBRA - CONCESSIONARIA DAS RODOVIAS CENTRAIS DO BRASIL\"],\n [{\n            'v': 61828,\n            'f': \"61828\",\n        },\n\"INSTITUTO HERMES PARDINI S.A.\"],\n [{\n            'v': 64700,\n            'f': \"64700\",\n        },\n\"VERT COMPANHIA SECURITIZADORA\"],\n [{\n            'v': 75964,\n            'f': \"75964\",\n        },\n\"CENTRO DE IMAGEM DIAGNOSTICOS S.A.\"],\n [{\n            'v': 86290,\n            'f': \"86290\",\n        },\n\"INDUSTRIAS J B DUARTE S.A.\"],\n [{\n            'v': 95400,\n            'f': \"95400\",\n        },\n\"BANCO RCI BRASIL S.A.\"],\n [{\n            'v': 1346,\n            'f': \"1346\",\n        },\n\"ATOM EMPREENDIMENTOS E PARTICIPA\\u00c7\\u00d5ES S.A.\"],\n [{\n            'v': 6242,\n            'f': \"6242\",\n        },\n\"VIRGO II COMPANHIA DE SECURITIZACAO\"],\n [{\n            'v': 11200,\n            'f': \"11200\",\n        },\n\"CAPITALPART PARTICIPACOES S.A.\"],\n [{\n            'v': 24230,\n            'f': \"24230\",\n        },\n\"SMILES FIDELIDADE S.A.\"],\n [{\n            'v': 28998,\n            'f': \"28998\",\n        },\n\"SMARTFIT ESCOLA DE GIN\\u00c1STICA E DAN\\u00c7A S.A.\"],\n [{\n            'v': 38438,\n            'f': \"38438\",\n        },\n\"VIRGO COMPANHIA DE SECURITIZA\\u00c7\\u00c3O\"],\n [{\n            'v': 39072,\n            'f': \"39072\",\n        },\n\"SYN PROP & TECH S.A.\"],\n [{\n            'v': 43912,\n            'f': \"43912\",\n        },\n\"AZUL S.A.\"],\n [{\n            'v': 47028,\n            'f': \"47028\",\n        },\n\"FLEX GEST\\u00c3O DE RELACIONAMENTOS S.A.\"],\n [{\n            'v': 51208,\n            'f': \"51208\",\n        },\n\"BK BRASIL OPERA\\u00c7\\u00c3O E ASSESSORIA A RESTAURANTES SA\"],\n [{\n            'v': 56108,\n            'f': \"56108\",\n        },\n\"SUZANO PAPEL E CELULOSE S.A.\"],\n [{\n            'v': 61230,\n            'f': \"61230\",\n        },\n\"PRINER SERVI\\u00c7OS INDUSTRIAIS S.A.\"],\n [{\n            'v': 62430,\n            'f': \"62430\",\n        },\n\"BIOTOSCANA INVESTMENTS S.A.\"],\n [{\n            'v': 65068,\n            'f': \"65068\",\n        },\n\"ARGO ENERGIA EMPREENDIMENTOS E PARTICIPA\\u00c7\\u00d5ES S/A\"],\n [{\n            'v': 68190,\n            'f': \"68190\",\n        },\n\"VIA S.A.\"],\n [{\n            'v': 70842,\n            'f': \"70842\",\n        },\n\"IRB - BRASIL RESSEGUROS S.A.\"],\n [{\n            'v': 74552,\n            'f': \"74552\",\n        },\n\"PETROBRAS DISTRIBUIDORA S/A\"],\n [{\n            'v': 87844,\n            'f': \"87844\",\n        },\n\"BLUE TECH SOLUTIONS EQI S.A.\"],\n [{\n            'v': 97258,\n            'f': \"97258\",\n        },\n\"CAMIL ALIMENTOS S.A.\"],\n [{\n            'v': 99826,\n            'f': \"99826\",\n        },\n\"ATACAD\\u00c3O S.A.\"],\n [{\n            'v': 101106,\n            'f': \"101106\",\n        },\n\"INEPAR S.A. INDUSTRIA E CONSTRUCOES EM RECUPERACAO JUDICIAL\"],\n [{\n            'v': 110152,\n            'f': \"110152\",\n        },\n\"CONSTRUTORA SULTEPA S.A. - EM RECUPERA\\u00c7\\u00c3O JUDICIAL\"],\n [{\n            'v': 112060,\n            'f': \"112060\",\n        },\n\"STARA S.A. - IND\\u00daSTRIA DE IMPLEMENTOS AGR\\u00cdCOLAS\"],\n [{\n            'v': 114500,\n            'f': \"114500\",\n        },\n\"CIA ESTADUAL DE TRANSMISS\\u00c3O DE ENERGIA ELETRICA - CEEE-T\"],\n [{\n            'v': 116298,\n            'f': \"116298\",\n        },\n\"DEXCO S.A.\"],\n [{\n            'v': 4240,\n            'f': \"4240\",\n        },\n\"BBM LOG\\u00cdSTICA S.A.\"],\n [{\n            'v': 4480,\n            'f': \"4480\",\n        },\n\"DASS NORDESTE CAL\\u00c7ADOS E ARTIGOS ESPORTIVOS S.A\"],\n [{\n            'v': 16628,\n            'f': \"16628\",\n        },\n\"SABER SERVI\\u00c7OS EDUCACIONAIS S.A.\"],\n [{\n            'v': 21842,\n            'f': \"21842\",\n        },\n\"HAPVIDA PARTICIPA\\u00c7\\u00d5ES E INVESTIMENTOS S.A.\"],\n [{\n            'v': 26568,\n            'f': \"26568\",\n        },\n\"CTC - CENTRO DE TECNOLOGIA CANAVIEIRA S.A.\"],\n [{\n            'v': 31336,\n            'f': \"31336\",\n        },\n\"JHSF MALLS S.A.\"],\n [{\n            'v': 37130,\n            'f': \"37130\",\n        },\n\"PR\\u00c1TICA KLIMAQUIP IND\\u00daSTRIA E COM\\u00c9RCIO S.A.\"],\n [{\n            'v': 44388,\n            'f': \"44388\",\n        },\n\"INTER CONSTRUTORA E INCORPORADORA S.A.\"],\n [{\n            'v': 60738,\n            'f': \"60738\",\n        },\n\"NOTRE DAME INTERM\\u00c9DICA PARTICIPA\\u00c7\\u00d5ES S.A.\"],\n [{\n            'v': 83686,\n            'f': \"83686\",\n        },\n\"BLAU FARMAC\\u00caUTICA S.A.\"],\n [{\n            'v': 84268,\n            'f': \"84268\",\n        },\n\"MULTILASER INDUSTRIAL S.A.\"],\n [{\n            'v': 101054,\n            'f': \"101054\",\n        },\n\"ELECTRO ACO ALTONA S.A.\"],\n [{\n            'v': 7300,\n            'f': \"7300\",\n        },\n\"LOCALIZA FLEET S.A.\"],\n [{\n            'v': 8338,\n            'f': \"8338\",\n        },\n\"LOCAWEB SERVI\\u00c7OS DE INTERNET S.A.\"],\n [{\n            'v': 8638,\n            'f': \"8638\",\n        },\n\"LIFEMED INDUSTRIAL DE EQUIP. E ART. MEDICOS E HOSP. S.A\"],\n [{\n            'v': 20152,\n            'f': \"20152\",\n        },\n\"COPEL GERA\\u00c7\\u00c3O E TRANSMISS\\u00c3O S.A.\"],\n [{\n            'v': 24074,\n            'f': \"24074\",\n        },\n\"REDE D'OR S\\u00c3O LUIZ S.A.\"],\n [{\n            'v': 31716,\n            'f': \"31716\",\n        },\n\"MITRE REALTY EMPREENDIMENTOS E PARTICIPA\\u00c7\\u00d5ES S.A.\"],\n [{\n            'v': 38602,\n            'f': \"38602\",\n        },\n\"MAESTRO LOCADORA DE VEICULOS S.A.\"],\n [{\n            'v': 47562,\n            'f': \"47562\",\n        },\n\"GRUPO SBF S.A.\"],\n [{\n            'v': 57844,\n            'f': \"57844\",\n        },\n\"BCBF PARTICIPA\\u00c7\\u00d5ES S.A.\"],\n [{\n            'v': 61536,\n            'f': \"61536\",\n        },\n\"VAMOS LOCA\\u00c7\\u00c3O DE CAMINH\\u00d5ES, M\\u00c1QUINAS E EQUIPAMENTOS S.A.\"],\n [{\n            'v': 61838,\n            'f': \"61838\",\n        },\n\"VENTURE CAPITAL PARTICIPA\\u00c7\\u00d5ES E INVESTIMENTOS S/A\"],\n [{\n            'v': 62144,\n            'f': \"62144\",\n        },\n\"BRK AMBIENTAL PARTICIPA\\u00c7\\u00d5ES S.A.\"],\n [{\n            'v': 62878,\n            'f': \"62878\",\n        },\n\"ENERGISA TRANSMISS\\u00c3O DE ENERGIA S/A\"],\n [{\n            'v': 64642,\n            'f': \"64642\",\n        },\n\"CELEO REDES TRANSMISS\\u00c3O DE ENERGIA S.A.\"],\n [{\n            'v': 65330,\n            'f': \"65330\",\n        },\n\"NATURA &CO HOLDING S.A.\"],\n [{\n            'v': 72034,\n            'f': \"72034\",\n        },\n\"VIVARA PARTICIPA\\u00c7\\u00d5ES S.A.\"],\n [{\n            'v': 72942,\n            'f': \"72942\",\n        },\n\"UP ENGENHARIA E URBANISMO S.A.\"],\n [{\n            'v': 76396,\n            'f': \"76396\",\n        },\n\"C&A MODAS S.A.\"],\n [{\n            'v': 91386,\n            'f': \"91386\",\n        },\n\"BANCO BMG S/A\"],\n [{\n            'v': 104122,\n            'f': \"104122\",\n        },\n\"METALURGICA RIOSULENSE S.A.\"],\n [{\n            'v': 1242,\n            'f': \"1242\",\n        },\n\"LM TRANSPORTES INTERESTADUAIS SERVI\\u00c7OS E COM\\u00c9RCIO S.A.\"],\n [{\n            'v': 4018,\n            'f': \"4018\",\n        },\n\"SEQUOIA LOG\\u00cdSTICA E TRANSPORTES S.A.\"],\n [{\n            'v': 11098,\n            'f': \"11098\",\n        },\n\"JALLES MACHADO S.A.\"],\n [{\n            'v': 22316,\n            'f': \"22316\",\n        },\n\"GRUPO FARTURA DE HORTIFRUT S.A.\"],\n [{\n            'v': 25078,\n            'f': \"25078\",\n        },\n\"SENDAS DISTRIBUIDORA S.A.\"],\n [{\n            'v': 26106,\n            'f': \"26106\",\n        },\n\"SBF COM\\u00c9RCIO DE PRODUTOS ESPORTIVOS S.A.\"],\n [{\n            'v': 29288,\n            'f': \"29288\",\n        },\n\"SIMPAR S.A.\"],\n [{\n            'v': 32630,\n            'f': \"32630\",\n        },\n\"AURA MINERALS INC.\"],\n [{\n            'v': 40766,\n            'f': \"40766\",\n        },\n\"2W ENERGIA S.A.\"],\n [{\n            'v': 41766,\n            'f': \"41766\",\n        },\n\"CURY CONSTRUTORA E INCORPORADORA S.A.\"],\n [{\n            'v': 43790,\n            'f': \"43790\",\n        },\n\"CSN MINERA\\u00c7\\u00c3O S.A.\"],\n [{\n            'v': 45482,\n            'f': \"45482\",\n        },\n\"BEMOBI MOBILE TECH S.A.\"],\n [{\n            'v': 45706,\n            'f': \"45706\",\n        },\n\"ELFA MEDICAMENTOS S.A.\"],\n [{\n            'v': 46564,\n            'f': \"46564\",\n        },\n\"MOSAICO TECNOLOGIA AO CONSUMIDOR S.A.\"],\n [{\n            'v': 47476,\n            'f': \"47476\",\n        },\n\"OCEANPACT SERVI\\u00c7OS MARITIMOS S.A.\"],\n [{\n            'v': 48084,\n            'f': \"48084\",\n        },\n\"KALLAS INCORPORA\\u00c7\\u00d5ES E CONSTRU\\u00c7\\u00d5ES S.A.\"],\n [{\n            'v': 50010,\n            'f': \"50010\",\n        },\n\"ELETROMIDIA S.A.\"],\n [{\n            'v': 50606,\n            'f': \"50606\",\n        },\n\"W2W E-COMMERCE DE VINHOS S.A.\"],\n [{\n            'v': 50950,\n            'f': \"50950\",\n        },\n\"NEOGRID PARTICIPA\\u00c7\\u00d5ES S.A.\"],\n [{\n            'v': 52274,\n            'f': \"52274\",\n        },\n\"GRUPO DE MODA SOMA S.A.\"],\n [{\n            'v': 52514,\n            'f': \"52514\",\n        },\n\"URBA DESENVOLVIMENTO URBANO S.A.\"],\n [{\n            'v': 54148,\n            'f': \"54148\",\n        },\n\"ORIZON VALORIZA\\u00c7\\u00c3O DE RES\\u00cdDUOS S.A.\"],\n [{\n            'v': 55762,\n            'f': \"55762\",\n        },\n\"3R PETROLEUM \\u00d3LEO E G\\u00c1S S.A.\"],\n [{\n            'v': 56146,\n            'f': \"56146\",\n        },\n\"D1000 VAREJO FARMA PARTICIPA\\u00c7\\u00d5ES S.A.\"],\n [{\n            'v': 56696,\n            'f': \"56696\",\n        },\n\"MELNICK DESENVOLVIMENTO IMOBILI\\u00c1RIO S.A.\"],\n [{\n            'v': 57134,\n            'f': \"57134\",\n        },\n\"AERIS IND. E COM. DE EQUIP. PARA GER. DE ENG. S.A.\"],\n [{\n            'v': 57442,\n            'f': \"57442\",\n        },\n\"AMBIPAR PARTICIPA\\u00c7\\u00d5ES E EMPREENDIMENTOS S.A.\"],\n [{\n            'v': 59320,\n            'f': \"59320\",\n        },\n\"M\\u00c9LIUZ S.A.\"],\n [{\n            'v': 59472,\n            'f': \"59472\",\n        },\n\"GRANBIO INVESTIMENTOS S.A.\"],\n [{\n            'v': 60294,\n            'f': \"60294\",\n        },\n\"PARANA BCO S.A.\"],\n [{\n            'v': 60528,\n            'f': \"60528\",\n        },\n\"HBR REALTY EMPREENDIMENTOS IMOBILI\\u00c1RIOS S.A.\"],\n [{\n            'v': 64130,\n            'f': \"64130\",\n        },\n\"HOUSI S.A.\"],\n [{\n            'v': 64478,\n            'f': \"64478\",\n        },\n\"LOJAS LE BISCUIT S.A.\"],\n [{\n            'v': 66464,\n            'f': \"66464\",\n        },\n\"ALPHAVILLE S.A.\"],\n [{\n            'v': 67072,\n            'f': \"67072\",\n        },\n\"ENJOEI S.A.\"],\n [{\n            'v': 73236,\n            'f': \"73236\",\n        },\n\"ALLIED TECNOLOGIA S.A.\"],\n [{\n            'v': 73836,\n            'f': \"73836\",\n        },\n\"AGROGALAXY PARTICIPA\\u00c7\\u00d5ES S.A.\"],\n [{\n            'v': 74866,\n            'f': \"74866\",\n        },\n\"COMPASS G\\u00c1S E ENERGIA S.A.\"],\n [{\n            'v': 76048,\n            'f': \"76048\",\n        },\n\"PATRIMAR ENGENHARIA S.A.\"],\n [{\n            'v': 76650,\n            'f': \"76650\",\n        },\n\"TRIPLE PLAY BRASIL PARTICIPA\\u00c7\\u00d5ES S.A.\"],\n [{\n            'v': 76964,\n            'f': \"76964\",\n        },\n\"PLANO & PLANO DESENVOLVIMENTO IMOBILI\\u00c1RIO S.A.\"],\n [{\n            'v': 78484,\n            'f': \"78484\",\n        },\n\"GRUPO MATEUS S.A.\"],\n [{\n            'v': 79144,\n            'f': \"79144\",\n        },\n\"LAVVI EMPREENDIMENTOS IMOBILI\\u00c1RIOS S.A.\"],\n [{\n            'v': 79812,\n            'f': \"79812\",\n        },\n\"MPM CORP\\u00d3REOS S.A.\"],\n [{\n            'v': 80260,\n            'f': \"80260\",\n        },\n\"FOCUS ENERGIA HOLDING PARTICIPA\\u00c7\\u00d5ES S.A.\"],\n [{\n            'v': 83308,\n            'f': \"83308\",\n        },\n\"MOBLY S.A.\"],\n [{\n            'v': 89436,\n            'f': \"89436\",\n        },\n\"RA\\u00cdZEN S.A.\"],\n [{\n            'v': 92524,\n            'f': \"92524\",\n        },\n\"CS BRASIL PARTICIPA\\u00c7\\u00d5ES E LOCA\\u00c7\\u00d5ES S.A.\"],\n [{\n            'v': 92858,\n            'f': \"92858\",\n        },\n\"EZ INC INCORPORA\\u00c7\\u00d5ES COMERCIAIS S.A.\"],\n [{\n            'v': 96792,\n            'f': \"96792\",\n        },\n\"VITTIA FERTILIZANTES E BIOL\\u00d3GICOS S.A.\"],\n [{\n            'v': 104272,\n            'f': \"104272\",\n        },\n\"TRACK & FIELD CO S.A.\"],\n [{\n            'v': 106096,\n            'f': \"106096\",\n        },\n\"ALLPARK EMPREENDIMENTOS, PARTICIPA\\u00c7\\u00d5ES E SERVI\\u00c7OS S.A.\"],\n [{\n            'v': 109076,\n            'f': \"109076\",\n        },\n\"CESP - CIA ENERGETICA DE SAO PAULO\"],\n [{\n            'v': 116218,\n            'f': \"116218\",\n        },\n\"CRUZEIRO DO SUL EDUCACIONAL S.A.\"],\n [{\n            'v': 121234,\n            'f': \"121234\",\n        },\n\"FARM\\u00c1CIA E DROGARIA NISSEI S.A.\"],\n [{\n            'v': 123110,\n            'f': \"123110\",\n        },\n\"INTELBRAS S.A.\"],\n [{\n            'v': 136538,\n            'f': \"136538\",\n        },\n\"PACAEMBU CONSTRUTORA S.A.\"],\n [{\n            'v': 137198,\n            'f': \"137198\",\n        },\n\"LOJAS QUERO QUERO S.A.\"]],\n        columns: [[\"number\", \"index\"], [\"string\", \"DENOM_CIA\"]],\n        columnOptions: [{\"width\": \"1px\", \"className\": \"index_column\"}],\n        rowsPerPage: 25,\n        helpUrl: \"https://colab.research.google.com/notebooks/data_table.ipynb\",\n        suppressOutputScrolling: true,\n        minimumWidth: undefined,\n      });\n    ",
            "text/plain": [
              "<google.colab.data_table.DataTable object>"
            ],
            "text/html": [
              "<div>\n",
              "<style scoped>\n",
              "    .dataframe tbody tr th:only-of-type {\n",
              "        vertical-align: middle;\n",
              "    }\n",
              "\n",
              "    .dataframe tbody tr th {\n",
              "        vertical-align: top;\n",
              "    }\n",
              "\n",
              "    .dataframe thead th {\n",
              "        text-align: right;\n",
              "    }\n",
              "</style>\n",
              "<table border=\"1\" class=\"dataframe\">\n",
              "  <thead>\n",
              "    <tr style=\"text-align: right;\">\n",
              "      <th></th>\n",
              "      <th>DENOM_CIA</th>\n",
              "    </tr>\n",
              "  </thead>\n",
              "  <tbody>\n",
              "    <tr>\n",
              "      <th>0</th>\n",
              "      <td>CENTRAIS ELET BRAS S.A. - ELETROBRAS</td>\n",
              "    </tr>\n",
              "    <tr>\n",
              "      <th>464</th>\n",
              "      <td>CIA ENERGETICA DE BRASILIA</td>\n",
              "    </tr>\n",
              "    <tr>\n",
              "      <th>886</th>\n",
              "      <td>VBC ENERGIA SA</td>\n",
              "    </tr>\n",
              "    <tr>\n",
              "      <th>1102</th>\n",
              "      <td>NET SERVIÇOS DE COMUNICAÇÃO S.A.</td>\n",
              "    </tr>\n",
              "    <tr>\n",
              "      <th>1422</th>\n",
              "      <td>FORPART S.A. - EM LIQUIDAÇÃO</td>\n",
              "    </tr>\n",
              "    <tr>\n",
              "      <th>...</th>\n",
              "      <td>...</td>\n",
              "    </tr>\n",
              "    <tr>\n",
              "      <th>116218</th>\n",
              "      <td>CRUZEIRO DO SUL EDUCACIONAL S.A.</td>\n",
              "    </tr>\n",
              "    <tr>\n",
              "      <th>121234</th>\n",
              "      <td>FARMÁCIA E DROGARIA NISSEI S.A.</td>\n",
              "    </tr>\n",
              "    <tr>\n",
              "      <th>123110</th>\n",
              "      <td>INTELBRAS S.A.</td>\n",
              "    </tr>\n",
              "    <tr>\n",
              "      <th>136538</th>\n",
              "      <td>PACAEMBU CONSTRUTORA S.A.</td>\n",
              "    </tr>\n",
              "    <tr>\n",
              "      <th>137198</th>\n",
              "      <td>LOJAS QUERO QUERO S.A.</td>\n",
              "    </tr>\n",
              "  </tbody>\n",
              "</table>\n",
              "<p>561 rows × 1 columns</p>\n",
              "</div>"
            ]
          },
          "metadata": {},
          "execution_count": 16
        }
      ]
    },
    {
      "cell_type": "code",
      "metadata": {
        "colab": {
          "base_uri": "https://localhost:8080/",
          "height": 916
        },
        "id": "s6HZbfC5voG6",
        "outputId": "d7b66f05-9a38-4293-fb25-5d41e79593db"
      },
      "source": [
        "#filtra o último\n",
        "dre_2011_2020 = dre_2011_2020[dre_2011_2020['ORDEM_EXERC'] == 'ÚLTIMO'] \n",
        "#Filtrar a empresa\n",
        "dre_2011_2020 = dre_2011_2020[dre_2011_2020['DENOM_CIA'] == 'PETROLEO BRASILEIRO S.A. PETROBRAS'] \n",
        "\n",
        "dre_2011_2020"
      ],
      "execution_count": null,
      "outputs": [
        {
          "output_type": "execute_result",
          "data": {
            "text/html": [
              "<div>\n",
              "<style scoped>\n",
              "    .dataframe tbody tr th:only-of-type {\n",
              "        vertical-align: middle;\n",
              "    }\n",
              "\n",
              "    .dataframe tbody tr th {\n",
              "        vertical-align: top;\n",
              "    }\n",
              "\n",
              "    .dataframe thead th {\n",
              "        text-align: right;\n",
              "    }\n",
              "</style>\n",
              "<table border=\"1\" class=\"dataframe\">\n",
              "  <thead>\n",
              "    <tr style=\"text-align: right;\">\n",
              "      <th></th>\n",
              "      <th>CNPJ_CIA</th>\n",
              "      <th>DT_REFER</th>\n",
              "      <th>VERSAO</th>\n",
              "      <th>DENOM_CIA</th>\n",
              "      <th>CD_CVM</th>\n",
              "      <th>GRUPO_DFP</th>\n",
              "      <th>MOEDA</th>\n",
              "      <th>ESCALA_MOEDA</th>\n",
              "      <th>ORDEM_EXERC</th>\n",
              "      <th>DT_INI_EXERC</th>\n",
              "      <th>DT_FIM_EXERC</th>\n",
              "      <th>CD_CONTA</th>\n",
              "      <th>DS_CONTA</th>\n",
              "      <th>VL_CONTA</th>\n",
              "      <th>ST_CONTA_FIXA</th>\n",
              "    </tr>\n",
              "  </thead>\n",
              "  <tbody>\n",
              "    <tr>\n",
              "      <th>72425</th>\n",
              "      <td>33.000.167/0001-01</td>\n",
              "      <td>2011-03-31</td>\n",
              "      <td>1</td>\n",
              "      <td>PETROLEO BRASILEIRO S.A. PETROBRAS</td>\n",
              "      <td>9512</td>\n",
              "      <td>DF Consolidado - Demonstração do Resultado</td>\n",
              "      <td>REAL</td>\n",
              "      <td>MIL</td>\n",
              "      <td>ÚLTIMO</td>\n",
              "      <td>2011-01-01</td>\n",
              "      <td>2011-03-31</td>\n",
              "      <td>3.01</td>\n",
              "      <td>Receita de Venda de Bens e/ou Serviços</td>\n",
              "      <td>54800499.0000000000</td>\n",
              "      <td>S</td>\n",
              "    </tr>\n",
              "    <tr>\n",
              "      <th>72427</th>\n",
              "      <td>33.000.167/0001-01</td>\n",
              "      <td>2011-03-31</td>\n",
              "      <td>1</td>\n",
              "      <td>PETROLEO BRASILEIRO S.A. PETROBRAS</td>\n",
              "      <td>9512</td>\n",
              "      <td>DF Consolidado - Demonstração do Resultado</td>\n",
              "      <td>REAL</td>\n",
              "      <td>MIL</td>\n",
              "      <td>ÚLTIMO</td>\n",
              "      <td>2011-01-01</td>\n",
              "      <td>2011-03-31</td>\n",
              "      <td>3.02</td>\n",
              "      <td>Custo dos Bens e/ou Serviços Vendidos</td>\n",
              "      <td>-34596085.0000000000</td>\n",
              "      <td>S</td>\n",
              "    </tr>\n",
              "    <tr>\n",
              "      <th>72429</th>\n",
              "      <td>33.000.167/0001-01</td>\n",
              "      <td>2011-03-31</td>\n",
              "      <td>1</td>\n",
              "      <td>PETROLEO BRASILEIRO S.A. PETROBRAS</td>\n",
              "      <td>9512</td>\n",
              "      <td>DF Consolidado - Demonstração do Resultado</td>\n",
              "      <td>REAL</td>\n",
              "      <td>MIL</td>\n",
              "      <td>ÚLTIMO</td>\n",
              "      <td>2011-01-01</td>\n",
              "      <td>2011-03-31</td>\n",
              "      <td>3.03</td>\n",
              "      <td>Resultado Bruto</td>\n",
              "      <td>20204414.0000000000</td>\n",
              "      <td>S</td>\n",
              "    </tr>\n",
              "    <tr>\n",
              "      <th>72431</th>\n",
              "      <td>33.000.167/0001-01</td>\n",
              "      <td>2011-03-31</td>\n",
              "      <td>1</td>\n",
              "      <td>PETROLEO BRASILEIRO S.A. PETROBRAS</td>\n",
              "      <td>9512</td>\n",
              "      <td>DF Consolidado - Demonstração do Resultado</td>\n",
              "      <td>REAL</td>\n",
              "      <td>MIL</td>\n",
              "      <td>ÚLTIMO</td>\n",
              "      <td>2011-01-01</td>\n",
              "      <td>2011-03-31</td>\n",
              "      <td>3.04</td>\n",
              "      <td>Despesas/Receitas Operacionais</td>\n",
              "      <td>-7391736.0000000000</td>\n",
              "      <td>S</td>\n",
              "    </tr>\n",
              "    <tr>\n",
              "      <th>72433</th>\n",
              "      <td>33.000.167/0001-01</td>\n",
              "      <td>2011-03-31</td>\n",
              "      <td>1</td>\n",
              "      <td>PETROLEO BRASILEIRO S.A. PETROBRAS</td>\n",
              "      <td>9512</td>\n",
              "      <td>DF Consolidado - Demonstração do Resultado</td>\n",
              "      <td>REAL</td>\n",
              "      <td>MIL</td>\n",
              "      <td>ÚLTIMO</td>\n",
              "      <td>2011-01-01</td>\n",
              "      <td>2011-03-31</td>\n",
              "      <td>3.04.01</td>\n",
              "      <td>Despesas com Vendas</td>\n",
              "      <td>-2116097.0000000000</td>\n",
              "      <td>S</td>\n",
              "    </tr>\n",
              "    <tr>\n",
              "      <th>...</th>\n",
              "      <td>...</td>\n",
              "      <td>...</td>\n",
              "      <td>...</td>\n",
              "      <td>...</td>\n",
              "      <td>...</td>\n",
              "      <td>...</td>\n",
              "      <td>...</td>\n",
              "      <td>...</td>\n",
              "      <td>...</td>\n",
              "      <td>...</td>\n",
              "      <td>...</td>\n",
              "      <td>...</td>\n",
              "      <td>...</td>\n",
              "      <td>...</td>\n",
              "      <td>...</td>\n",
              "    </tr>\n",
              "    <tr>\n",
              "      <th>84701</th>\n",
              "      <td>33.000.167/0001-01</td>\n",
              "      <td>2020-09-30</td>\n",
              "      <td>1</td>\n",
              "      <td>PETROLEO BRASILEIRO S.A. PETROBRAS</td>\n",
              "      <td>9512</td>\n",
              "      <td>DF Consolidado - Demonstração do Resultado</td>\n",
              "      <td>REAL</td>\n",
              "      <td>MIL</td>\n",
              "      <td>ÚLTIMO</td>\n",
              "      <td>2020-07-01</td>\n",
              "      <td>2020-09-30</td>\n",
              "      <td>3.99.02</td>\n",
              "      <td>Lucro Diluído por Ação</td>\n",
              "      <td>0.0000000000</td>\n",
              "      <td>N</td>\n",
              "    </tr>\n",
              "    <tr>\n",
              "      <th>84704</th>\n",
              "      <td>33.000.167/0001-01</td>\n",
              "      <td>2020-09-30</td>\n",
              "      <td>1</td>\n",
              "      <td>PETROLEO BRASILEIRO S.A. PETROBRAS</td>\n",
              "      <td>9512</td>\n",
              "      <td>DF Consolidado - Demonstração do Resultado</td>\n",
              "      <td>REAL</td>\n",
              "      <td>MIL</td>\n",
              "      <td>ÚLTIMO</td>\n",
              "      <td>2020-01-01</td>\n",
              "      <td>2020-09-30</td>\n",
              "      <td>3.99.02.01</td>\n",
              "      <td>ON</td>\n",
              "      <td>-4.0500000000</td>\n",
              "      <td>N</td>\n",
              "    </tr>\n",
              "    <tr>\n",
              "      <th>84705</th>\n",
              "      <td>33.000.167/0001-01</td>\n",
              "      <td>2020-09-30</td>\n",
              "      <td>1</td>\n",
              "      <td>PETROLEO BRASILEIRO S.A. PETROBRAS</td>\n",
              "      <td>9512</td>\n",
              "      <td>DF Consolidado - Demonstração do Resultado</td>\n",
              "      <td>REAL</td>\n",
              "      <td>MIL</td>\n",
              "      <td>ÚLTIMO</td>\n",
              "      <td>2020-07-01</td>\n",
              "      <td>2020-09-30</td>\n",
              "      <td>3.99.02.01</td>\n",
              "      <td>ON</td>\n",
              "      <td>-0.1200000000</td>\n",
              "      <td>N</td>\n",
              "    </tr>\n",
              "    <tr>\n",
              "      <th>84708</th>\n",
              "      <td>33.000.167/0001-01</td>\n",
              "      <td>2020-09-30</td>\n",
              "      <td>1</td>\n",
              "      <td>PETROLEO BRASILEIRO S.A. PETROBRAS</td>\n",
              "      <td>9512</td>\n",
              "      <td>DF Consolidado - Demonstração do Resultado</td>\n",
              "      <td>REAL</td>\n",
              "      <td>MIL</td>\n",
              "      <td>ÚLTIMO</td>\n",
              "      <td>2020-01-01</td>\n",
              "      <td>2020-09-30</td>\n",
              "      <td>3.99.02.02</td>\n",
              "      <td>PN</td>\n",
              "      <td>-4.0500000000</td>\n",
              "      <td>N</td>\n",
              "    </tr>\n",
              "    <tr>\n",
              "      <th>84709</th>\n",
              "      <td>33.000.167/0001-01</td>\n",
              "      <td>2020-09-30</td>\n",
              "      <td>1</td>\n",
              "      <td>PETROLEO BRASILEIRO S.A. PETROBRAS</td>\n",
              "      <td>9512</td>\n",
              "      <td>DF Consolidado - Demonstração do Resultado</td>\n",
              "      <td>REAL</td>\n",
              "      <td>MIL</td>\n",
              "      <td>ÚLTIMO</td>\n",
              "      <td>2020-07-01</td>\n",
              "      <td>2020-09-30</td>\n",
              "      <td>3.99.02.02</td>\n",
              "      <td>PN</td>\n",
              "      <td>-0.1200000000</td>\n",
              "      <td>N</td>\n",
              "    </tr>\n",
              "  </tbody>\n",
              "</table>\n",
              "<p>2112 rows × 15 columns</p>\n",
              "</div>"
            ],
            "text/plain": [
              "                 CNPJ_CIA    DT_REFER  ...              VL_CONTA ST_CONTA_FIXA\n",
              "72425  33.000.167/0001-01  2011-03-31  ...   54800499.0000000000             S\n",
              "72427  33.000.167/0001-01  2011-03-31  ...  -34596085.0000000000             S\n",
              "72429  33.000.167/0001-01  2011-03-31  ...   20204414.0000000000             S\n",
              "72431  33.000.167/0001-01  2011-03-31  ...   -7391736.0000000000             S\n",
              "72433  33.000.167/0001-01  2011-03-31  ...   -2116097.0000000000             S\n",
              "...                   ...         ...  ...                   ...           ...\n",
              "84701  33.000.167/0001-01  2020-09-30  ...          0.0000000000             N\n",
              "84704  33.000.167/0001-01  2020-09-30  ...         -4.0500000000             N\n",
              "84705  33.000.167/0001-01  2020-09-30  ...         -0.1200000000             N\n",
              "84708  33.000.167/0001-01  2020-09-30  ...         -4.0500000000             N\n",
              "84709  33.000.167/0001-01  2020-09-30  ...         -0.1200000000             N\n",
              "\n",
              "[2112 rows x 15 columns]"
            ]
          },
          "metadata": {},
          "execution_count": 13
        }
      ]
    },
    {
      "cell_type": "code",
      "metadata": {
        "colab": {
          "base_uri": "https://localhost:8080/"
        },
        "id": "A9MSzJWWyJb5",
        "outputId": "51216e56-77e2-4607-fb6f-a8d80c50b1a1"
      },
      "source": [
        "# Cria um vetor com valor de cada conta e o transforma em string\n",
        "digitos = dre_2011_2020['VL_CONTA'].astype('string')\n",
        "digitos"
      ],
      "execution_count": null,
      "outputs": [
        {
          "output_type": "execute_result",
          "data": {
            "text/plain": [
              "72425     54800499.0000000000\n",
              "72427    -34596085.0000000000\n",
              "72429     20204414.0000000000\n",
              "72431     -7391736.0000000000\n",
              "72433     -2116097.0000000000\n",
              "                 ...         \n",
              "84701            0.0000000000\n",
              "84704           -4.0500000000\n",
              "84705           -0.1200000000\n",
              "84708           -4.0500000000\n",
              "84709           -0.1200000000\n",
              "Name: VL_CONTA, Length: 2112, dtype: string"
            ]
          },
          "metadata": {},
          "execution_count": 93
        }
      ]
    },
    {
      "cell_type": "code",
      "metadata": {
        "id": "-nbqZEcvyZzj"
      },
      "source": [
        "\n",
        "#retira o \"-\" \n",
        "digitos = digitos.str.replace('-', '')\n",
        "#retira o \".\"\n",
        "digitos = digitos.str.replace('.', '')\n",
        "\n",
        "#Transforma os dados em inteiro e, em seguida, retira todos os 0\n",
        "digitos = digitos.astype(int)\n",
        "digitos = digitos[digitos.loc[:]!= 0]"
      ],
      "execution_count": null,
      "outputs": []
    },
    {
      "cell_type": "code",
      "metadata": {
        "colab": {
          "base_uri": "https://localhost:8080/"
        },
        "id": "Zzt8-4K7z54R",
        "outputId": "fd02eb70-d20b-454c-91a0-b439e31bcbfe"
      },
      "source": [
        "digitos"
      ],
      "execution_count": null,
      "outputs": [
        {
          "output_type": "execute_result",
          "data": {
            "text/plain": [
              "72425    548004990000000000\n",
              "72427    345960850000000000\n",
              "72429    202044140000000000\n",
              "72431     73917360000000000\n",
              "72433     21160970000000000\n",
              "                ...        \n",
              "84697            1200000000\n",
              "84704           40500000000\n",
              "84705            1200000000\n",
              "84708           40500000000\n",
              "84709            1200000000\n",
              "Name: VL_CONTA, Length: 1572, dtype: int64"
            ]
          },
          "metadata": {},
          "execution_count": 95
        }
      ]
    },
    {
      "cell_type": "code",
      "metadata": {
        "id": "VaZrDN7o1uVf"
      },
      "source": [
        "# Conta o primeiro dígito e transforma em %\n",
        "digitos2 = digitos.astype(str).str[0].value_counts(normalize=True)\n",
        "\n",
        "#cria um dataframe com os valores acima\n",
        "digitos_df = pd.DataFrame({\"Primeiro Dígito\": digitos2.index, \"Proporção\": digitos2.values, \"Distribuição\": 'DRE'})"
      ],
      "execution_count": null,
      "outputs": []
    },
    {
      "cell_type": "markdown",
      "metadata": {
        "id": "pP_0xkMN1Rq9"
      },
      "source": [
        "#BENFORD' LAW"
      ]
    },
    {
      "cell_type": "code",
      "metadata": {
        "colab": {
          "base_uri": "https://localhost:8080/",
          "height": 292
        },
        "id": "FoYazvIM0aDP",
        "outputId": "e494d0aa-a10c-4a96-bd6c-ec244661c09f"
      },
      "source": [
        "benford_df = pd.DataFrame({'Primeiro Dígito': ['1', '2', '3', '4','5', '6', '7', '8', '9'], 'Proporção': [.301, .176, .125, .097, .079, .067, .058, .051, .046], 'Distribuição': 'Benford'})\n",
        "benford_df.pivot('Primeiro Dígito', 'Distribuição', 'Proporção').plot(kind='bar', width=.65)"
      ],
      "execution_count": null,
      "outputs": [
        {
          "output_type": "execute_result",
          "data": {
            "text/plain": [
              "<matplotlib.axes._subplots.AxesSubplot at 0x7f524f122910>"
            ]
          },
          "metadata": {},
          "execution_count": 98
        },
        {
          "output_type": "display_data",
          "data": {
            "image/png": "[encoded data removed]",
            "text/plain": [
              "<Figure size 432x288 with 1 Axes>"
            ]
          },
          "metadata": {
            "needs_background": "light"
          }
        }
      ]
    },
    {
      "cell_type": "code",
      "metadata": {
        "id": "4Dx2Hf6Y1YlV"
      },
      "source": [
        "#junta os dois dataframes\n",
        "merge = pd.concat([benford_df, digitos_df]).pivot('Primeiro Dígito', 'Distribuição', 'Proporção')"
      ],
      "execution_count": null,
      "outputs": []
    },
    {
      "cell_type": "code",
      "metadata": {
        "id": "chojeDFgD0n8"
      },
      "source": [
        "# Arredonda para 3 casas decimais a coluna DRE\n",
        "merge['DRE'] = merge['DRE'].astype(float).round(3)"
      ],
      "execution_count": null,
      "outputs": []
    },
    {
      "cell_type": "code",
      "metadata": {
        "colab": {
          "base_uri": "https://localhost:8080/",
          "height": 517
        },
        "id": "6RVkLDYr2-xj",
        "outputId": "e9004a03-ecce-4411-f151-4cf3223bdda5"
      },
      "source": [
        "fig = px.bar(\n",
        "    merge,\n",
        "    title=\"Benford's Law x DRE: Petrobras\",\n",
        "    barmode=\"group\",\n",
        "    text=\"value\",\n",
        "    width = 700,\n",
        "    height = 500,\n",
        "    color_discrete_sequence = ['#192130','#cb9691' ],\n",
        ")\n",
        "fig"
      ],
      "execution_count": null,
      "outputs": [
        {
          "output_type": "display_data",
          "data": {
            "text/html": [
              "<html>\n",
              "<head><meta charset=\"utf-8\" /></head>\n",
              "<body>\n",
              "    <div>            <script src=\"https://cdnjs.cloudflare.com/ajax/libs/mathjax/2.7.5/MathJax.js?config=TeX-AMS-MML_SVG\"></script><script type=\"text/javascript\">if (window.MathJax) {MathJax.Hub.Config({SVG: {font: \"STIX-Web\"}});}</script>                <script type=\"text/javascript\">window.PlotlyConfig = {MathJaxConfig: 'local'};</script>\n",
              "        <script src=\"https://cdn.plot.ly/plotly-2.4.2.min.js\"></script>                <div id=\"b4981399-b1f3-4d15-be68-2eee16080491\" class=\"plotly-graph-div\" style=\"height:500px; width:700px;\"></div>            <script type=\"text/javascript\">                                    window.PLOTLYENV=window.PLOTLYENV || {};                                    if (document.getElementById(\"b4981399-b1f3-4d15-be68-2eee16080491\")) {                    Plotly.newPlot(                        \"b4981399-b1f3-4d15-be68-2eee16080491\",                        [{\"alignmentgroup\":\"True\",\"hovertemplate\":\"Distribui\\u00e7\\u00e3o=Benford<br>Primeiro D\\u00edgito=%{x}<br>value=%{text}<extra></extra>\",\"legendgroup\":\"Benford\",\"marker\":{\"color\":\"#192130\",\"pattern\":{\"shape\":\"\"}},\"name\":\"Benford\",\"offsetgroup\":\"Benford\",\"orientation\":\"v\",\"showlegend\":true,\"text\":[0.301,0.176,0.125,0.097,0.079,0.067,0.058,0.051,0.046],\"textposition\":\"auto\",\"type\":\"bar\",\"x\":[\"1\",\"2\",\"3\",\"4\",\"5\",\"6\",\"7\",\"8\",\"9\"],\"xaxis\":\"x\",\"y\":[0.301,0.176,0.125,0.097,0.079,0.067,0.058,0.051,0.046],\"yaxis\":\"y\"},{\"alignmentgroup\":\"True\",\"hovertemplate\":\"Distribui\\u00e7\\u00e3o=DRE<br>Primeiro D\\u00edgito=%{x}<br>value=%{text}<extra></extra>\",\"legendgroup\":\"DRE\",\"marker\":{\"color\":\"#cb9691\",\"pattern\":{\"shape\":\"\"}},\"name\":\"DRE\",\"offsetgroup\":\"DRE\",\"orientation\":\"v\",\"showlegend\":true,\"text\":[0.281,0.167,0.113,0.1,0.104,0.078,0.071,0.047,0.039],\"textposition\":\"auto\",\"type\":\"bar\",\"x\":[\"1\",\"2\",\"3\",\"4\",\"5\",\"6\",\"7\",\"8\",\"9\"],\"xaxis\":\"x\",\"y\":[0.281,0.167,0.113,0.1,0.104,0.078,0.071,0.047,0.039],\"yaxis\":\"y\"}],                        {\"barmode\":\"group\",\"height\":500,\"legend\":{\"title\":{\"text\":\"Distribui\\u00e7\\u00e3o\"},\"tracegroupgap\":0},\"template\":{\"data\":{\"bar\":[{\"error_x\":{\"color\":\"#2a3f5f\"},\"error_y\":{\"color\":\"#2a3f5f\"},\"marker\":{\"line\":{\"color\":\"#E5ECF6\",\"width\":0.5},\"pattern\":{\"fillmode\":\"overlay\",\"size\":10,\"solidity\":0.2}},\"type\":\"bar\"}],\"barpolar\":[{\"marker\":{\"line\":{\"color\":\"#E5ECF6\",\"width\":0.5},\"pattern\":{\"fillmode\":\"overlay\",\"size\":10,\"solidity\":0.2}},\"type\":\"barpolar\"}],\"carpet\":[{\"aaxis\":{\"endlinecolor\":\"#2a3f5f\",\"gridcolor\":\"white\",\"linecolor\":\"white\",\"minorgridcolor\":\"white\",\"startlinecolor\":\"#2a3f5f\"},\"baxis\":{\"endlinecolor\":\"#2a3f5f\",\"gridcolor\":\"white\",\"linecolor\":\"white\",\"minorgridcolor\":\"white\",\"startlinecolor\":\"#2a3f5f\"},\"type\":\"carpet\"}],\"choropleth\":[{\"colorbar\":{\"outlinewidth\":0,\"ticks\":\"\"},\"type\":\"choropleth\"}],\"contour\":[{\"colorbar\":{\"outlinewidth\":0,\"ticks\":\"\"},\"colorscale\":[[0.0,\"#0d0887\"],[0.1111111111111111,\"#46039f\"],[0.2222222222222222,\"#7201a8\"],[0.3333333333333333,\"#9c179e\"],[0.4444444444444444,\"#bd3786\"],[0.5555555555555556,\"#d8576b\"],[0.6666666666666666,\"#ed7953\"],[0.7777777777777778,\"#fb9f3a\"],[0.8888888888888888,\"#fdca26\"],[1.0,\"#f0f921\"]],\"type\":\"contour\"}],\"contourcarpet\":[{\"colorbar\":{\"outlinewidth\":0,\"ticks\":\"\"},\"type\":\"contourcarpet\"}],\"heatmap\":[{\"colorbar\":{\"outlinewidth\":0,\"ticks\":\"\"},\"colorscale\":[[0.0,\"#0d0887\"],[0.1111111111111111,\"#46039f\"],[0.2222222222222222,\"#7201a8\"],[0.3333333333333333,\"#9c179e\"],[0.4444444444444444,\"#bd3786\"],[0.5555555555555556,\"#d8576b\"],[0.6666666666666666,\"#ed7953\"],[0.7777777777777778,\"#fb9f3a\"],[0.8888888888888888,\"#fdca26\"],[1.0,\"#f0f921\"]],\"type\":\"heatmap\"}],\"heatmapgl\":[{\"colorbar\":{\"outlinewidth\":0,\"ticks\":\"\"},\"colorscale\":[[0.0,\"#0d0887\"],[0.1111111111111111,\"#46039f\"],[0.2222222222222222,\"#7201a8\"],[0.3333333333333333,\"#9c179e\"],[0.4444444444444444,\"#bd3786\"],[0.5555555555555556,\"#d8576b\"],[0.6666666666666666,\"#ed7953\"],[0.7777777777777778,\"#fb9f3a\"],[0.8888888888888888,\"#fdca26\"],[1.0,\"#f0f921\"]],\"type\":\"heatmapgl\"}],\"histogram\":[{\"marker\":{\"pattern\":{\"fillmode\":\"overlay\",\"size\":10,\"solidity\":0.2}},\"type\":\"histogram\"}],\"histogram2d\":[{\"colorbar\":{\"outlinewidth\":0,\"ticks\":\"\"},\"colorscale\":[[0.0,\"#0d0887\"],[0.1111111111111111,\"#46039f\"],[0.2222222222222222,\"#7201a8\"],[0.3333333333333333,\"#9c179e\"],[0.4444444444444444,\"#bd3786\"],[0.5555555555555556,\"#d8576b\"],[0.6666666666666666,\"#ed7953\"],[0.7777777777777778,\"#fb9f3a\"],[0.8888888888888888,\"#fdca26\"],[1.0,\"#f0f921\"]],\"type\":\"histogram2d\"}],\"histogram2dcontour\":[{\"colorbar\":{\"outlinewidth\":0,\"ticks\":\"\"},\"colorscale\":[[0.0,\"#0d0887\"],[0.1111111111111111,\"#46039f\"],[0.2222222222222222,\"#7201a8\"],[0.3333333333333333,\"#9c179e\"],[0.4444444444444444,\"#bd3786\"],[0.5555555555555556,\"#d8576b\"],[0.6666666666666666,\"#ed7953\"],[0.7777777777777778,\"#fb9f3a\"],[0.8888888888888888,\"#fdca26\"],[1.0,\"#f0f921\"]],\"type\":\"histogram2dcontour\"}],\"mesh3d\":[{\"colorbar\":{\"outlinewidth\":0,\"ticks\":\"\"},\"type\":\"mesh3d\"}],\"parcoords\":[{\"line\":{\"colorbar\":{\"outlinewidth\":0,\"ticks\":\"\"}},\"type\":\"parcoords\"}],\"pie\":[{\"automargin\":true,\"type\":\"pie\"}],\"scatter\":[{\"marker\":{\"colorbar\":{\"outlinewidth\":0,\"ticks\":\"\"}},\"type\":\"scatter\"}],\"scatter3d\":[{\"line\":{\"colorbar\":{\"outlinewidth\":0,\"ticks\":\"\"}},\"marker\":{\"colorbar\":{\"outlinewidth\":0,\"ticks\":\"\"}},\"type\":\"scatter3d\"}],\"scattercarpet\":[{\"marker\":{\"colorbar\":{\"outlinewidth\":0,\"ticks\":\"\"}},\"type\":\"scattercarpet\"}],\"scattergeo\":[{\"marker\":{\"colorbar\":{\"outlinewidth\":0,\"ticks\":\"\"}},\"type\":\"scattergeo\"}],\"scattergl\":[{\"marker\":{\"colorbar\":{\"outlinewidth\":0,\"ticks\":\"\"}},\"type\":\"scattergl\"}],\"scattermapbox\":[{\"marker\":{\"colorbar\":{\"outlinewidth\":0,\"ticks\":\"\"}},\"type\":\"scattermapbox\"}],\"scatterpolar\":[{\"marker\":{\"colorbar\":{\"outlinewidth\":0,\"ticks\":\"\"}},\"type\":\"scatterpolar\"}],\"scatterpolargl\":[{\"marker\":{\"colorbar\":{\"outlinewidth\":0,\"ticks\":\"\"}},\"type\":\"scatterpolargl\"}],\"scatterternary\":[{\"marker\":{\"colorbar\":{\"outlinewidth\":0,\"ticks\":\"\"}},\"type\":\"scatterternary\"}],\"surface\":[{\"colorbar\":{\"outlinewidth\":0,\"ticks\":\"\"},\"colorscale\":[[0.0,\"#0d0887\"],[0.1111111111111111,\"#46039f\"],[0.2222222222222222,\"#7201a8\"],[0.3333333333333333,\"#9c179e\"],[0.4444444444444444,\"#bd3786\"],[0.5555555555555556,\"#d8576b\"],[0.6666666666666666,\"#ed7953\"],[0.7777777777777778,\"#fb9f3a\"],[0.8888888888888888,\"#fdca26\"],[1.0,\"#f0f921\"]],\"type\":\"surface\"}],\"table\":[{\"cells\":{\"fill\":{\"color\":\"#EBF0F8\"},\"line\":{\"color\":\"white\"}},\"header\":{\"fill\":{\"color\":\"#C8D4E3\"},\"line\":{\"color\":\"white\"}},\"type\":\"table\"}]},\"layout\":{\"annotationdefaults\":{\"arrowcolor\":\"#2a3f5f\",\"arrowhead\":0,\"arrowwidth\":1},\"autotypenumbers\":\"strict\",\"coloraxis\":{\"colorbar\":{\"outlinewidth\":0,\"ticks\":\"\"}},\"colorscale\":{\"diverging\":[[0,\"#8e0152\"],[0.1,\"#c51b7d\"],[0.2,\"#de77ae\"],[0.3,\"#f1b6da\"],[0.4,\"#fde0ef\"],[0.5,\"#f7f7f7\"],[0.6,\"#e6f5d0\"],[0.7,\"#b8e186\"],[0.8,\"#7fbc41\"],[0.9,\"#4d9221\"],[1,\"#276419\"]],\"sequential\":[[0.0,\"#0d0887\"],[0.1111111111111111,\"#46039f\"],[0.2222222222222222,\"#7201a8\"],[0.3333333333333333,\"#9c179e\"],[0.4444444444444444,\"#bd3786\"],[0.5555555555555556,\"#d8576b\"],[0.6666666666666666,\"#ed7953\"],[0.7777777777777778,\"#fb9f3a\"],[0.8888888888888888,\"#fdca26\"],[1.0,\"#f0f921\"]],\"sequentialminus\":[[0.0,\"#0d0887\"],[0.1111111111111111,\"#46039f\"],[0.2222222222222222,\"#7201a8\"],[0.3333333333333333,\"#9c179e\"],[0.4444444444444444,\"#bd3786\"],[0.5555555555555556,\"#d8576b\"],[0.6666666666666666,\"#ed7953\"],[0.7777777777777778,\"#fb9f3a\"],[0.8888888888888888,\"#fdca26\"],[1.0,\"#f0f921\"]]},\"colorway\":[\"#636efa\",\"#EF553B\",\"#00cc96\",\"#ab63fa\",\"#FFA15A\",\"#19d3f3\",\"#FF6692\",\"#B6E880\",\"#FF97FF\",\"#FECB52\"],\"font\":{\"color\":\"#2a3f5f\"},\"geo\":{\"bgcolor\":\"white\",\"lakecolor\":\"white\",\"landcolor\":\"#E5ECF6\",\"showlakes\":true,\"showland\":true,\"subunitcolor\":\"white\"},\"hoverlabel\":{\"align\":\"left\"},\"hovermode\":\"closest\",\"mapbox\":{\"style\":\"light\"},\"paper_bgcolor\":\"white\",\"plot_bgcolor\":\"#E5ECF6\",\"polar\":{\"angularaxis\":{\"gridcolor\":\"white\",\"linecolor\":\"white\",\"ticks\":\"\"},\"bgcolor\":\"#E5ECF6\",\"radialaxis\":{\"gridcolor\":\"white\",\"linecolor\":\"white\",\"ticks\":\"\"}},\"scene\":{\"xaxis\":{\"backgroundcolor\":\"#E5ECF6\",\"gridcolor\":\"white\",\"gridwidth\":2,\"linecolor\":\"white\",\"showbackground\":true,\"ticks\":\"\",\"zerolinecolor\":\"white\"},\"yaxis\":{\"backgroundcolor\":\"#E5ECF6\",\"gridcolor\":\"white\",\"gridwidth\":2,\"linecolor\":\"white\",\"showbackground\":true,\"ticks\":\"\",\"zerolinecolor\":\"white\"},\"zaxis\":{\"backgroundcolor\":\"#E5ECF6\",\"gridcolor\":\"white\",\"gridwidth\":2,\"linecolor\":\"white\",\"showbackground\":true,\"ticks\":\"\",\"zerolinecolor\":\"white\"}},\"shapedefaults\":{\"line\":{\"color\":\"#2a3f5f\"}},\"ternary\":{\"aaxis\":{\"gridcolor\":\"white\",\"linecolor\":\"white\",\"ticks\":\"\"},\"baxis\":{\"gridcolor\":\"white\",\"linecolor\":\"white\",\"ticks\":\"\"},\"bgcolor\":\"#E5ECF6\",\"caxis\":{\"gridcolor\":\"white\",\"linecolor\":\"white\",\"ticks\":\"\"}},\"title\":{\"x\":0.05},\"xaxis\":{\"automargin\":true,\"gridcolor\":\"white\",\"linecolor\":\"white\",\"ticks\":\"\",\"title\":{\"standoff\":15},\"zerolinecolor\":\"white\",\"zerolinewidth\":2},\"yaxis\":{\"automargin\":true,\"gridcolor\":\"white\",\"linecolor\":\"white\",\"ticks\":\"\",\"title\":{\"standoff\":15},\"zerolinecolor\":\"white\",\"zerolinewidth\":2}}},\"title\":{\"text\":\"Benford's Law x DRE: Petrobras\"},\"width\":700,\"xaxis\":{\"anchor\":\"y\",\"domain\":[0.0,1.0],\"title\":{\"text\":\"Primeiro D\\u00edgito\"}},\"yaxis\":{\"anchor\":\"x\",\"domain\":[0.0,1.0],\"title\":{\"text\":\"value\"}}},                        {\"responsive\": true}                    ).then(function(){\n",
              "                            \n",
              "var gd = document.getElementById('b4981399-b1f3-4d15-be68-2eee16080491');\n",
              "var x = new MutationObserver(function (mutations, observer) {{\n",
              "        var display = window.getComputedStyle(gd).display;\n",
              "        if (!display || display === 'none') {{\n",
              "            console.log([gd, 'removed!']);\n",
              "            Plotly.purge(gd);\n",
              "            observer.disconnect();\n",
              "        }}\n",
              "}});\n",
              "\n",
              "// Listen for the removal of the full notebook cells\n",
              "var notebookContainer = gd.closest('#notebook-container');\n",
              "if (notebookContainer) {{\n",
              "    x.observe(notebookContainer, {childList: true});\n",
              "}}\n",
              "\n",
              "// Listen for the clearing of the current output cell\n",
              "var outputEl = gd.closest('.output');\n",
              "if (outputEl) {{\n",
              "    x.observe(outputEl, {childList: true});\n",
              "}}\n",
              "\n",
              "                        })                };                            </script>        </div>\n",
              "</body>\n",
              "</html>"
            ]
          },
          "metadata": {}
        }
      ]
    },
    {
      "cell_type": "markdown",
      "metadata": {
        "id": "qQ3RqNZXMK_9"
      },
      "source": [
        "#Análise Estatística com R"
      ]
    },
    {
      "cell_type": "code",
      "metadata": {
        "id": "YVqC5646DlFp"
      },
      "source": [
        "%load_ext rpy2.ipython"
      ],
      "execution_count": null,
      "outputs": []
    },
    {
      "cell_type": "code",
      "metadata": {
        "colab": {
          "base_uri": "https://localhost:8080/"
        },
        "id": "bpIXk8PvNCKg",
        "outputId": "376149d8-6180-4d63-f198-9e7c2e368e38"
      },
      "source": [
        "#https://github.com/cran/benford.analysis - Digite: 2\n",
        "%%R\n",
        "devtools::install_github(\"carloscinelli/benford.analysis\")"
      ],
      "execution_count": null,
      "outputs": [
        {
          "output_type": "stream",
          "name": "stderr",
          "text": [
            "R[write to console]: Downloading GitHub repo carloscinelli/benford.analysis@HEAD\n",
            "\n"
          ]
        },
        {
          "output_type": "stream",
          "name": "stdout",
          "text": [
            "These packages have more recent versions available.\n",
            "It is recommended to update all of them.\n",
            "Which would you like to update?\n",
            "\n",
            "1: All                                 \n",
            "2: CRAN packages only                  \n",
            "3: None                                \n",
            "4: data.table (1.14.0 -> 1.14.2) [CRAN]\n",
            "\n",
            "Enter one or more numbers, or an empty line to skip updates: 2\n",
            "data.table (1.14.0 -> 1.14.2) [CRAN]\n"
          ]
        },
        {
          "output_type": "stream",
          "name": "stderr",
          "text": [
            "R[write to console]: Installing 1 packages: data.table\n",
            "\n",
            "R[write to console]: Installing package into ‘/usr/local/lib/R/site-library’\n",
            "(as ‘lib’ is unspecified)\n",
            "\n",
            "R[write to console]: trying URL 'https://cran.rstudio.com/src/contrib/data.table_1.14.2.tar.gz'\n",
            "\n",
            "R[write to console]: Content type 'application/x-gzip'\n",
            "R[write to console]:  length 5301817 bytes (5.1 MB)\n",
            "\n",
            "R[write to console]: =\n",
            "R[write to console]: =\n",
            "R[write to console]: =\n",
            "R[write to console]: =\n",
            "R[write to console]: =\n",
            "R[write to console]: =\n",
            "R[write to console]: =\n",
            "R[write to console]: =\n",
            "R[write to console]: =\n",
            "R[write to console]: =\n",
            "R[write to console]: =\n",
            "R[write to console]: =\n",
            "R[write to console]: =\n",
            "R[write to console]: =\n",
            "R[write to console]: =\n",
            "R[write to console]: =\n",
            "R[write to console]: =\n",
            "R[write to console]: =\n",
            "R[write to console]: =\n",
            "R[write to console]: =\n",
            "R[write to console]: =\n",
            "R[write to console]: =\n",
            "R[write to console]: =\n",
            "R[write to console]: =\n",
            "R[write to console]: =\n",
            "R[write to console]: =\n",
            "R[write to console]: =\n",
            "R[write to console]: =\n",
            "R[write to console]: =\n",
            "R[write to console]: =\n",
            "R[write to console]: =\n",
            "R[write to console]: =\n",
            "R[write to console]: =\n",
            "R[write to console]: =\n",
            "R[write to console]: =\n",
            "R[write to console]: =\n",
            "R[write to console]: =\n",
            "R[write to console]: =\n",
            "R[write to console]: =\n",
            "R[write to console]: =\n",
            "R[write to console]: =\n",
            "R[write to console]: =\n",
            "R[write to console]: =\n",
            "R[write to console]: =\n",
            "R[write to console]: =\n",
            "R[write to console]: =\n",
            "R[write to console]: =\n",
            "R[write to console]: =\n",
            "R[write to console]: =\n",
            "R[write to console]: =\n",
            "R[write to console]: \n",
            "\n",
            "R[write to console]: downloaded 5.1 MB\n",
            "\n",
            "\n",
            "R[write to console]: \n",
            "\n",
            "R[write to console]: \n",
            "R[write to console]: The downloaded source packages are in\n",
            "\t‘/tmp/RtmpY3ibkJ/downloaded_packages’\n",
            "R[write to console]: \n",
            "R[write to console]: \n",
            "\n"
          ]
        },
        {
          "output_type": "stream",
          "name": "stdout",
          "text": [
            "✔  checking for file ‘/tmp/RtmpY3ibkJ/remotes40236e73bb/carloscinelli-benford.analysis-31a98c4/DESCRIPTION’\n",
            "─  preparing ‘benford.analysis’:\n",
            "✔  checking DESCRIPTION meta-information\n",
            "─  checking for LF line-endings in source and make files and shell scripts\n",
            "─  checking for empty or unneeded directories\n",
            "─  looking to see if a ‘data/datalist’ file should be added\n",
            "─  building ‘benford.analysis_0.1.5.tar.gz’\n",
            "   \n"
          ]
        },
        {
          "output_type": "stream",
          "name": "stderr",
          "text": [
            "R[write to console]: Installing package into ‘/usr/local/lib/R/site-library’\n",
            "(as ‘lib’ is unspecified)\n",
            "\n"
          ]
        }
      ]
    },
    {
      "cell_type": "code",
      "metadata": {
        "id": "Uy_q7wmTNla9"
      },
      "source": [
        "%%R\n",
        "library(benford.analysis)"
      ],
      "execution_count": null,
      "outputs": []
    },
    {
      "cell_type": "code",
      "metadata": {
        "colab": {
          "base_uri": "https://localhost:8080/",
          "height": 408
        },
        "id": "P709ZFJnQje4",
        "outputId": "b7ea23a4-4121-4f25-a19f-72f06aadf656"
      },
      "source": [
        "digitos3 = digitos.astype(float)\n",
        "digitos_df2 = pd.DataFrame({\"Números\": digitos2.values})\n",
        "digitos_df2"
      ],
      "execution_count": null,
      "outputs": [
        {
          "output_type": "execute_result",
          "data": {
            "text/html": [
              "<div>\n",
              "<style scoped>\n",
              "    .dataframe tbody tr th:only-of-type {\n",
              "        vertical-align: middle;\n",
              "    }\n",
              "\n",
              "    .dataframe tbody tr th {\n",
              "        vertical-align: top;\n",
              "    }\n",
              "\n",
              "    .dataframe thead th {\n",
              "        text-align: right;\n",
              "    }\n",
              "</style>\n",
              "<table border=\"1\" class=\"dataframe\">\n",
              "  <thead>\n",
              "    <tr style=\"text-align: right;\">\n",
              "      <th></th>\n",
              "      <th>Números</th>\n",
              "    </tr>\n",
              "  </thead>\n",
              "  <tbody>\n",
              "    <tr>\n",
              "      <th>0</th>\n",
              "      <td>5.480050e+17</td>\n",
              "    </tr>\n",
              "    <tr>\n",
              "      <th>1</th>\n",
              "      <td>3.459608e+17</td>\n",
              "    </tr>\n",
              "    <tr>\n",
              "      <th>2</th>\n",
              "      <td>2.020441e+17</td>\n",
              "    </tr>\n",
              "    <tr>\n",
              "      <th>3</th>\n",
              "      <td>7.391736e+16</td>\n",
              "    </tr>\n",
              "    <tr>\n",
              "      <th>4</th>\n",
              "      <td>2.116097e+16</td>\n",
              "    </tr>\n",
              "    <tr>\n",
              "      <th>...</th>\n",
              "      <td>...</td>\n",
              "    </tr>\n",
              "    <tr>\n",
              "      <th>1567</th>\n",
              "      <td>1.200000e+09</td>\n",
              "    </tr>\n",
              "    <tr>\n",
              "      <th>1568</th>\n",
              "      <td>4.050000e+10</td>\n",
              "    </tr>\n",
              "    <tr>\n",
              "      <th>1569</th>\n",
              "      <td>1.200000e+09</td>\n",
              "    </tr>\n",
              "    <tr>\n",
              "      <th>1570</th>\n",
              "      <td>4.050000e+10</td>\n",
              "    </tr>\n",
              "    <tr>\n",
              "      <th>1571</th>\n",
              "      <td>1.200000e+09</td>\n",
              "    </tr>\n",
              "  </tbody>\n",
              "</table>\n",
              "<p>1572 rows × 1 columns</p>\n",
              "</div>"
            ],
            "text/plain": [
              "           Números\n",
              "0     5.480050e+17\n",
              "1     3.459608e+17\n",
              "2     2.020441e+17\n",
              "3     7.391736e+16\n",
              "4     2.116097e+16\n",
              "...            ...\n",
              "1567  1.200000e+09\n",
              "1568  4.050000e+10\n",
              "1569  1.200000e+09\n",
              "1570  4.050000e+10\n",
              "1571  1.200000e+09\n",
              "\n",
              "[1572 rows x 1 columns]"
            ]
          },
          "metadata": {},
          "execution_count": 110
        }
      ]
    },
    {
      "cell_type": "code",
      "metadata": {
        "id": "UJp21DnGYh7A"
      },
      "source": [
        "get_ipython().run_line_magic(\n",
        "\"R\",\n",
        "\"-i digitos_df2\"\n",
        ")"
      ],
      "execution_count": null,
      "outputs": []
    },
    {
      "cell_type": "code",
      "metadata": {
        "colab": {
          "base_uri": "https://localhost:8080/",
          "height": 497
        },
        "id": "9wWribd0VkLk",
        "outputId": "9dd1c428-db08-4d19-d831-f61f505dcc09"
      },
      "source": [
        "%%R\n",
        "bfd = benford(digitos_df2$Números)\n",
        "plot(bfd)"
      ],
      "execution_count": null,
      "outputs": [
        {
          "output_type": "display_data",
          "data": {
            "image/png": "[encoded data removed]"
          },
          "metadata": {}
        }
      ]
    },
    {
      "cell_type": "code",
      "metadata": {
        "colab": {
          "base_uri": "https://localhost:8080/"
        },
        "id": "wx64o6rLZY5G",
        "outputId": "1f8c5bd3-0114-45f3-de3d-30522f161962"
      },
      "source": [
        "%%R\n",
        "bfd"
      ],
      "execution_count": null,
      "outputs": [
        {
          "output_type": "stream",
          "name": "stdout",
          "text": [
            "\n",
            "Benford object:\n",
            " \n",
            "Data: digitos_df2$Números \n",
            "Number of observations used = 1572 \n",
            "Number of obs. for second order = 1293 \n",
            "First digits analysed = 2\n",
            "\n",
            "Mantissa: \n",
            "\n",
            "   Statistic  Value\n",
            "        Mean  0.517\n",
            "         Var  0.083\n",
            " Ex.Kurtosis -1.232\n",
            "    Skewness -0.119\n",
            "\n",
            "\n",
            "The 5 largest deviations: \n",
            "\n",
            "  digits absolute.diff\n",
            "1     19         18.02\n",
            "2     16         12.61\n",
            "3     54         10.47\n",
            "4     11         10.40\n",
            "5     38         10.27\n",
            "\n",
            "Stats:\n",
            "\n",
            "\tPearson's Chi-squared test\n",
            "\n",
            "data:  digitos_df2$Números\n",
            "X-squared = 130.57, df = 89, p-value = 0.002722\n",
            "\n",
            "\n",
            "\tMantissa Arc Test\n",
            "\n",
            "data:  digitos_df2$Números\n",
            "L2 = 0.0036419, df = 2, p-value = 0.003263\n",
            "\n",
            "\n",
            "\tKolmogorov-Smirnov test\n",
            "\n",
            "data:  digitos_df2$Números\n",
            "D = 0.050522, critical value = 0.034301\n",
            "\n",
            "Mean Absolute Deviation (MAD): 0.002521228\n",
            "MAD Conformity - Nigrini (2012): Nonconformity\n",
            "Distortion Factor: 3.213521\n",
            "\n",
            "Remember: Real data will never conform perfectly to Benford's Law. You should not focus on p-values!"
          ]
        }
      ]
    },
    {
      "cell_type": "markdown",
      "metadata": {
        "id": "RmdNWsnzaxWs"
      },
      "source": [
        "![Screenshot_1.png](data:image/png;base64,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)"
      ]
    },
    {
      "cell_type": "code",
      "metadata": {
        "colab": {
          "base_uri": "https://localhost:8080/"
        },
        "id": "PBRmWzqHbWiN",
        "outputId": "1b6386b7-bac8-4669-f0da-6dc66894d2f8"
      },
      "source": [
        "%%R\n",
        "suspeitos = getSuspects(bfd, digitos_df2)\n",
        "suspeitos"
      ],
      "execution_count": null,
      "outputs": [
        {
          "output_type": "stream",
          "name": "stdout",
          "text": [
            "         Números\n",
            " 1: 1.657300e+15\n",
            " 2: 1.947379e+16\n",
            " 3: 1.681010e+10\n",
            " 4: 1.681010e+10\n",
            " 5: 1.681010e+10\n",
            " 6: 1.681010e+10\n",
            " 7: 1.699750e+15\n",
            " 8: 1.689671e+16\n",
            " 9: 1.612326e+16\n",
            "10: 1.601522e+17\n",
            "11: 1.949628e+17\n",
            "12: 1.676300e+17\n",
            "13: 1.638036e+16\n",
            "14: 1.638036e+16\n",
            "15: 1.914710e+15\n",
            "16: 1.904430e+17\n",
            "17: 1.616562e+16\n",
            "18: 1.606131e+17\n",
            "19: 1.934106e+17\n",
            "20: 1.697130e+18\n",
            "21: 1.658568e+17\n",
            "22: 1.945360e+17\n",
            "23: 1.674601e+16\n",
            "24: 1.638430e+18\n",
            "25: 1.901500e+17\n",
            "26: 1.657000e+17\n",
            "27: 1.613000e+16\n",
            "28: 1.937980e+18\n",
            "29: 1.604900e+17\n",
            "30: 1.980000e+15\n",
            "31: 1.690000e+15\n",
            "32: 1.648080e+18\n",
            "33: 1.691000e+16\n",
            "34: 1.600000e+09\n",
            "35: 1.600000e+09\n",
            "36: 1.600000e+09\n",
            "37: 1.600000e+09\n",
            "38: 1.637000e+16\n",
            "39: 1.641000e+16\n",
            "40: 1.611800e+17\n",
            "41: 1.650000e+16\n",
            "42: 1.650000e+16\n",
            "43: 1.640400e+17\n",
            "44: 1.911000e+16\n",
            "45: 1.600000e+16\n",
            "46: 1.677000e+17\n",
            "47: 1.980000e+16\n",
            "48: 1.632300e+17\n",
            "49: 1.632300e+17\n",
            "50: 1.645800e+17\n",
            "51: 1.659000e+17\n",
            "52: 1.984000e+16\n",
            "53: 1.984000e+16\n",
            "54: 1.665000e+16\n",
            "55: 1.640000e+15\n",
            "56: 1.697600e+17\n",
            "57: 1.681600e+17\n",
            "58: 1.681600e+17\n",
            "59: 1.640760e+18\n",
            "60: 1.665000e+17\n",
            "61: 1.631000e+16\n",
            "62: 1.699500e+17\n",
            "63: 1.926700e+17\n",
            "64: 1.905000e+17\n",
            "65: 1.935200e+17\n",
            "66: 1.669000e+16\n",
            "67: 1.689400e+17\n",
            "68: 1.970970e+18\n",
            "69: 1.664000e+16\n",
            "70: 1.669000e+16\n",
            "71: 1.669000e+16\n",
            "         Números\n"
          ]
        }
      ]
    },
    {
      "cell_type": "code",
      "metadata": {
        "id": "Hev6SJE7bjt-"
      },
      "source": [
        ""
      ],
      "execution_count": null,
      "outputs": []
    }
  ]
}