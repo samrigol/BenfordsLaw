{
  "nbformat": 4,
  "nbformat_minor": 0,
  "metadata": {
    "colab": {
      "name": "Lei de Benford.ipynb",
      "provenance": [],
      "authorship_tag": "ABX9TyMlCYt+4uhQLeT7giQhx4TR"
    },
    "kernelspec": {
      "name": "python3",
      "display_name": "Python 3"
    },
    "language_info": {
      "name": "python"
    }
  },
  "cells": [
    {
      "cell_type": "code",
      "metadata": {
        "colab": {
          "base_uri": "https://localhost:8080/"
        },
        "id": "BDzrIWlzb5jb",
        "outputId": "7dfed5cf-a48d-44d9-ea78-68b217662755"
      },
      "source": [
        "!pip install wget\n",
        "!pip install plotly==5.3.1"
      ],
      "execution_count": null,
      "outputs": [
        {
          "output_type": "stream",
          "name": "stdout",
          "text": [
            "Requirement already satisfied: wget in /usr/local/lib/python3.7/dist-packages (3.2)\n",
            "Collecting plotly==5.3.1\n",
            "  Downloading plotly-5.3.1-py2.py3-none-any.whl (23.9 MB)\n",
            "\u001b[K     |████████████████████████████████| 23.9 MB 12 kB/s \n",
            "\u001b[?25hCollecting tenacity>=6.2.0\n",
            "  Downloading tenacity-8.0.1-py3-none-any.whl (24 kB)\n",
            "Requirement already satisfied: six in /usr/local/lib/python3.7/dist-packages (from plotly==5.3.1) (1.15.0)\n",
            "Installing collected packages: tenacity, plotly\n",
            "  Attempting uninstall: plotly\n",
            "    Found existing installation: plotly 4.4.1\n",
            "    Uninstalling plotly-4.4.1:\n",
            "      Successfully uninstalled plotly-4.4.1\n",
            "Successfully installed plotly-5.3.1 tenacity-8.0.1\n"
          ]
        }
      ]
    },
    {
      "cell_type": "code",
      "metadata": {
        "id": "c8WB-0ZDav50"
      },
      "source": [
        "import pandas as pd\n",
        "import wget\n",
        "from zipfile import ZipFile\n",
        "import matplotlib.pyplot as plt\n",
        "import plotly.express as px"
      ],
      "execution_count": null,
      "outputs": []
    },
    {
      "cell_type": "markdown",
      "metadata": {
        "id": "4Ik7HnOhJB34"
      },
      "source": [
        "#LEITURA E TRATAMENTO DOS DADOS"
      ]
    },
    {
      "cell_type": "code",
      "metadata": {
        "id": "XHL9Q30ca9IJ"
      },
      "source": [
        "path = \"http://dados.cvm.gov.br/dados/CIA_ABERTA/DOC/ITR/DADOS/\""
      ],
      "execution_count": null,
      "outputs": []
    },
    {
      "cell_type": "code",
      "metadata": {
        "id": "K9W4OzAfbM4F"
      },
      "source": [
        "#automatiza a criação da lista de arquivos\n",
        "arquivos_zip = []\n",
        "anos = range(2011,2021)\n",
        "for ano in anos:\n",
        "  arquivos_zip.append(\"itr_cia_aberta_{ano}.zip\".format(ano=ano))"
      ],
      "execution_count": null,
      "outputs": []
    },
    {
      "cell_type": "code",
      "metadata": {
        "colab": {
          "base_uri": "https://localhost:8080/"
        },
        "id": "yfcB2DEIbkez",
        "outputId": "e8ff4e59-04b1-421d-9c35-bcb1feafdaa0"
      },
      "source": [
        "arquivos_zip"
      ],
      "execution_count": null,
      "outputs": [
        {
          "output_type": "execute_result",
          "data": {
            "text/plain": [
              "['itr_cia_aberta_2011.zip',\n",
              " 'itr_cia_aberta_2012.zip',\n",
              " 'itr_cia_aberta_2013.zip',\n",
              " 'itr_cia_aberta_2014.zip',\n",
              " 'itr_cia_aberta_2015.zip',\n",
              " 'itr_cia_aberta_2016.zip',\n",
              " 'itr_cia_aberta_2017.zip',\n",
              " 'itr_cia_aberta_2018.zip',\n",
              " 'itr_cia_aberta_2019.zip',\n",
              " 'itr_cia_aberta_2020.zip']"
            ]
          },
          "metadata": {},
          "execution_count": 24
        }
      ]
    },
    {
      "cell_type": "code",
      "metadata": {
        "id": "nfefbdvdbt1K"
      },
      "source": [
        "# Faz download dos arquivos\n",
        "for arq in arquivos_zip:\n",
        "  wget.download(path+arq)"
      ],
      "execution_count": null,
      "outputs": []
    },
    {
      "cell_type": "code",
      "metadata": {
        "id": "TeGlYszocrMa"
      },
      "source": [
        "#cria a pasta all\n",
        "!mkdir all"
      ],
      "execution_count": null,
      "outputs": []
    },
    {
      "cell_type": "code",
      "metadata": {
        "id": "M5tJLDoGcGta"
      },
      "source": [
        "#Extrai somente os arquivos selecionados\n",
        "year = 2010\n",
        "for arq in arquivos_zip:\n",
        "  year += 1\n",
        "  ZipFile(arq, 'r').extract('itr_cia_aberta_DRE_con_{ano}.csv'.format(ano = year), path='/content/all')"
      ],
      "execution_count": null,
      "outputs": []
    },
    {
      "cell_type": "code",
      "metadata": {
        "colab": {
          "base_uri": "https://localhost:8080/"
        },
        "id": "Wjd9SjZPmG7q",
        "outputId": "9cd1708c-3dbd-4311-b542-039f8227372d"
      },
      "source": [
        "# Automatiza a criação de uma lista de arquivos\n",
        "arquivos_dre = []\n",
        "for ano in anos:\n",
        "   arquivos_dre.append('itr_cia_aberta_DRE_con_{ano}.csv'.format(ano = ano))\n",
        "arquivos_dre"
      ],
      "execution_count": null,
      "outputs": [
        {
          "output_type": "execute_result",
          "data": {
            "text/plain": [
              "['itr_cia_aberta_DRE_con_2011.csv',\n",
              " 'itr_cia_aberta_DRE_con_2012.csv',\n",
              " 'itr_cia_aberta_DRE_con_2013.csv',\n",
              " 'itr_cia_aberta_DRE_con_2014.csv',\n",
              " 'itr_cia_aberta_DRE_con_2015.csv',\n",
              " 'itr_cia_aberta_DRE_con_2016.csv',\n",
              " 'itr_cia_aberta_DRE_con_2017.csv',\n",
              " 'itr_cia_aberta_DRE_con_2018.csv',\n",
              " 'itr_cia_aberta_DRE_con_2019.csv',\n",
              " 'itr_cia_aberta_DRE_con_2020.csv']"
            ]
          },
          "metadata": {},
          "execution_count": 59
        }
      ]
    },
    {
      "cell_type": "code",
      "metadata": {
        "colab": {
          "base_uri": "https://localhost:8080/",
          "height": 981
        },
        "id": "4OPo6CSzgZBA",
        "outputId": "3ff57fd6-3479-493b-c16d-146c5134383a"
      },
      "source": [
        "pd.read_csv('all/itr_cia_aberta_DRE_con_2011.csv', sep = ';', decimal=',', encoding='ISO-8859-1')"
      ],
      "execution_count": null,
      "outputs": [
        {
          "output_type": "execute_result",
          "data": {
            "text/html": [
              "<div>\n",
              "<style scoped>\n",
              "    .dataframe tbody tr th:only-of-type {\n",
              "        vertical-align: middle;\n",
              "    }\n",
              "\n",
              "    .dataframe tbody tr th {\n",
              "        vertical-align: top;\n",
              "    }\n",
              "\n",
              "    .dataframe thead th {\n",
              "        text-align: right;\n",
              "    }\n",
              "</style>\n",
              "<table border=\"1\" class=\"dataframe\">\n",
              "  <thead>\n",
              "    <tr style=\"text-align: right;\">\n",
              "      <th></th>\n",
              "      <th>CNPJ_CIA</th>\n",
              "      <th>DT_REFER</th>\n",
              "      <th>VERSAO</th>\n",
              "      <th>DENOM_CIA</th>\n",
              "      <th>CD_CVM</th>\n",
              "      <th>GRUPO_DFP</th>\n",
              "      <th>MOEDA</th>\n",
              "      <th>ESCALA_MOEDA</th>\n",
              "      <th>ORDEM_EXERC</th>\n",
              "      <th>DT_INI_EXERC</th>\n",
              "      <th>DT_FIM_EXERC</th>\n",
              "      <th>CD_CONTA</th>\n",
              "      <th>DS_CONTA</th>\n",
              "      <th>VL_CONTA</th>\n",
              "      <th>ST_CONTA_FIXA</th>\n",
              "    </tr>\n",
              "  </thead>\n",
              "  <tbody>\n",
              "    <tr>\n",
              "      <th>0</th>\n",
              "      <td>00.001.180/0001-26</td>\n",
              "      <td>2011-03-31</td>\n",
              "      <td>1</td>\n",
              "      <td>CENTRAIS ELET BRAS S.A. - ELETROBRAS</td>\n",
              "      <td>2437</td>\n",
              "      <td>DF Consolidado - Demonstração do Resultado</td>\n",
              "      <td>REAL</td>\n",
              "      <td>MIL</td>\n",
              "      <td>PENÚLTIMO</td>\n",
              "      <td>2010-01-01</td>\n",
              "      <td>2010-03-31</td>\n",
              "      <td>3.01</td>\n",
              "      <td>Receita de Venda de Bens e/ou Serviços</td>\n",
              "      <td>6159172.0000000000</td>\n",
              "      <td>S</td>\n",
              "    </tr>\n",
              "    <tr>\n",
              "      <th>1</th>\n",
              "      <td>00.001.180/0001-26</td>\n",
              "      <td>2011-03-31</td>\n",
              "      <td>1</td>\n",
              "      <td>CENTRAIS ELET BRAS S.A. - ELETROBRAS</td>\n",
              "      <td>2437</td>\n",
              "      <td>DF Consolidado - Demonstração do Resultado</td>\n",
              "      <td>REAL</td>\n",
              "      <td>MIL</td>\n",
              "      <td>ÚLTIMO</td>\n",
              "      <td>2011-01-01</td>\n",
              "      <td>2011-03-31</td>\n",
              "      <td>3.01</td>\n",
              "      <td>Receita de Venda de Bens e/ou Serviços</td>\n",
              "      <td>8551982.0000000000</td>\n",
              "      <td>S</td>\n",
              "    </tr>\n",
              "    <tr>\n",
              "      <th>2</th>\n",
              "      <td>00.001.180/0001-26</td>\n",
              "      <td>2011-03-31</td>\n",
              "      <td>1</td>\n",
              "      <td>CENTRAIS ELET BRAS S.A. - ELETROBRAS</td>\n",
              "      <td>2437</td>\n",
              "      <td>DF Consolidado - Demonstração do Resultado</td>\n",
              "      <td>REAL</td>\n",
              "      <td>MIL</td>\n",
              "      <td>PENÚLTIMO</td>\n",
              "      <td>2010-01-01</td>\n",
              "      <td>2010-03-31</td>\n",
              "      <td>3.02</td>\n",
              "      <td>Custo dos Bens e/ou Serviços Vendidos</td>\n",
              "      <td>-960060.0000000000</td>\n",
              "      <td>S</td>\n",
              "    </tr>\n",
              "    <tr>\n",
              "      <th>3</th>\n",
              "      <td>00.001.180/0001-26</td>\n",
              "      <td>2011-03-31</td>\n",
              "      <td>1</td>\n",
              "      <td>CENTRAIS ELET BRAS S.A. - ELETROBRAS</td>\n",
              "      <td>2437</td>\n",
              "      <td>DF Consolidado - Demonstração do Resultado</td>\n",
              "      <td>REAL</td>\n",
              "      <td>MIL</td>\n",
              "      <td>ÚLTIMO</td>\n",
              "      <td>2011-01-01</td>\n",
              "      <td>2011-03-31</td>\n",
              "      <td>3.02</td>\n",
              "      <td>Custo dos Bens e/ou Serviços Vendidos</td>\n",
              "      <td>-1127021.0000000000</td>\n",
              "      <td>S</td>\n",
              "    </tr>\n",
              "    <tr>\n",
              "      <th>4</th>\n",
              "      <td>00.001.180/0001-26</td>\n",
              "      <td>2011-03-31</td>\n",
              "      <td>1</td>\n",
              "      <td>CENTRAIS ELET BRAS S.A. - ELETROBRAS</td>\n",
              "      <td>2437</td>\n",
              "      <td>DF Consolidado - Demonstração do Resultado</td>\n",
              "      <td>REAL</td>\n",
              "      <td>MIL</td>\n",
              "      <td>PENÚLTIMO</td>\n",
              "      <td>2010-01-01</td>\n",
              "      <td>2010-03-31</td>\n",
              "      <td>3.02.01</td>\n",
              "      <td>Encargos Setoriais</td>\n",
              "      <td>-340660.0000000000</td>\n",
              "      <td>N</td>\n",
              "    </tr>\n",
              "    <tr>\n",
              "      <th>...</th>\n",
              "      <td>...</td>\n",
              "      <td>...</td>\n",
              "      <td>...</td>\n",
              "      <td>...</td>\n",
              "      <td>...</td>\n",
              "      <td>...</td>\n",
              "      <td>...</td>\n",
              "      <td>...</td>\n",
              "      <td>...</td>\n",
              "      <td>...</td>\n",
              "      <td>...</td>\n",
              "      <td>...</td>\n",
              "      <td>...</td>\n",
              "      <td>...</td>\n",
              "      <td>...</td>\n",
              "    </tr>\n",
              "    <tr>\n",
              "      <th>123571</th>\n",
              "      <td>97.837.181/0001-47</td>\n",
              "      <td>2011-09-30</td>\n",
              "      <td>1</td>\n",
              "      <td>DURATEX S.A.</td>\n",
              "      <td>21091</td>\n",
              "      <td>DF Consolidado - Demonstração do Resultado</td>\n",
              "      <td>REAL</td>\n",
              "      <td>MIL</td>\n",
              "      <td>ÚLTIMO</td>\n",
              "      <td>2011-07-01</td>\n",
              "      <td>2011-09-30</td>\n",
              "      <td>3.99.02</td>\n",
              "      <td>Lucro Diluído por Ação</td>\n",
              "      <td>0.0000000000</td>\n",
              "      <td>N</td>\n",
              "    </tr>\n",
              "    <tr>\n",
              "      <th>123572</th>\n",
              "      <td>97.837.181/0001-47</td>\n",
              "      <td>2011-09-30</td>\n",
              "      <td>1</td>\n",
              "      <td>DURATEX S.A.</td>\n",
              "      <td>21091</td>\n",
              "      <td>DF Consolidado - Demonstração do Resultado</td>\n",
              "      <td>REAL</td>\n",
              "      <td>MIL</td>\n",
              "      <td>PENÚLTIMO</td>\n",
              "      <td>2010-01-01</td>\n",
              "      <td>2010-09-30</td>\n",
              "      <td>3.99.02.01</td>\n",
              "      <td>ON</td>\n",
              "      <td>0.6943000000</td>\n",
              "      <td>N</td>\n",
              "    </tr>\n",
              "    <tr>\n",
              "      <th>123573</th>\n",
              "      <td>97.837.181/0001-47</td>\n",
              "      <td>2011-09-30</td>\n",
              "      <td>1</td>\n",
              "      <td>DURATEX S.A.</td>\n",
              "      <td>21091</td>\n",
              "      <td>DF Consolidado - Demonstração do Resultado</td>\n",
              "      <td>REAL</td>\n",
              "      <td>MIL</td>\n",
              "      <td>PENÚLTIMO</td>\n",
              "      <td>2010-07-01</td>\n",
              "      <td>2010-09-30</td>\n",
              "      <td>3.99.02.01</td>\n",
              "      <td>ON</td>\n",
              "      <td>0.3263000000</td>\n",
              "      <td>N</td>\n",
              "    </tr>\n",
              "    <tr>\n",
              "      <th>123574</th>\n",
              "      <td>97.837.181/0001-47</td>\n",
              "      <td>2011-09-30</td>\n",
              "      <td>1</td>\n",
              "      <td>DURATEX S.A.</td>\n",
              "      <td>21091</td>\n",
              "      <td>DF Consolidado - Demonstração do Resultado</td>\n",
              "      <td>REAL</td>\n",
              "      <td>MIL</td>\n",
              "      <td>ÚLTIMO</td>\n",
              "      <td>2011-01-01</td>\n",
              "      <td>2011-09-30</td>\n",
              "      <td>3.99.02.01</td>\n",
              "      <td>ON</td>\n",
              "      <td>0.5288000000</td>\n",
              "      <td>N</td>\n",
              "    </tr>\n",
              "    <tr>\n",
              "      <th>123575</th>\n",
              "      <td>97.837.181/0001-47</td>\n",
              "      <td>2011-09-30</td>\n",
              "      <td>1</td>\n",
              "      <td>DURATEX S.A.</td>\n",
              "      <td>21091</td>\n",
              "      <td>DF Consolidado - Demonstração do Resultado</td>\n",
              "      <td>REAL</td>\n",
              "      <td>MIL</td>\n",
              "      <td>ÚLTIMO</td>\n",
              "      <td>2011-07-01</td>\n",
              "      <td>2011-09-30</td>\n",
              "      <td>3.99.02.01</td>\n",
              "      <td>ON</td>\n",
              "      <td>0.2115000000</td>\n",
              "      <td>N</td>\n",
              "    </tr>\n",
              "  </tbody>\n",
              "</table>\n",
              "<p>123576 rows × 15 columns</p>\n",
              "</div>"
            ],
            "text/plain": [
              "                  CNPJ_CIA    DT_REFER  ...             VL_CONTA ST_CONTA_FIXA\n",
              "0       00.001.180/0001-26  2011-03-31  ...   6159172.0000000000             S\n",
              "1       00.001.180/0001-26  2011-03-31  ...   8551982.0000000000             S\n",
              "2       00.001.180/0001-26  2011-03-31  ...   -960060.0000000000             S\n",
              "3       00.001.180/0001-26  2011-03-31  ...  -1127021.0000000000             S\n",
              "4       00.001.180/0001-26  2011-03-31  ...   -340660.0000000000             N\n",
              "...                    ...         ...  ...                  ...           ...\n",
              "123571  97.837.181/0001-47  2011-09-30  ...         0.0000000000             N\n",
              "123572  97.837.181/0001-47  2011-09-30  ...         0.6943000000             N\n",
              "123573  97.837.181/0001-47  2011-09-30  ...         0.3263000000             N\n",
              "123574  97.837.181/0001-47  2011-09-30  ...         0.5288000000             N\n",
              "123575  97.837.181/0001-47  2011-09-30  ...         0.2115000000             N\n",
              "\n",
              "[123576 rows x 15 columns]"
            ]
          },
          "metadata": {},
          "execution_count": 109
        }
      ]
    },
    {
      "cell_type": "code",
      "metadata": {
        "id": "72EdE6Yre9SN"
      },
      "source": [
        "#Junta os arquivos de 2011 até 2020 em somente um\n",
        "dre_2011_2020 = pd.DataFrame()\n",
        "year = 2010\n",
        "for arq in arquivos_dre:\n",
        "  year += 1\n",
        "  dre_2011_2020 = pd.concat([dre_2011_2020, pd.read_csv(f'all/itr_cia_aberta_DRE_con_{year}.csv', sep = ';', decimal=',', encoding='ISO-8859-1')])"
      ],
      "execution_count": null,
      "outputs": []
    },
    {
      "cell_type": "code",
      "metadata": {
        "colab": {
          "base_uri": "https://localhost:8080/",
          "height": 981
        },
        "id": "JZy1QQmKtpSn",
        "outputId": "52eeb945-fae5-4315-ecae-4ce9721b4f0f"
      },
      "source": [
        "dre_2011_2020"
      ],
      "execution_count": null,
      "outputs": [
        {
          "output_type": "execute_result",
          "data": {
            "text/html": [
              "<div>\n",
              "<style scoped>\n",
              "    .dataframe tbody tr th:only-of-type {\n",
              "        vertical-align: middle;\n",
              "    }\n",
              "\n",
              "    .dataframe tbody tr th {\n",
              "        vertical-align: top;\n",
              "    }\n",
              "\n",
              "    .dataframe thead th {\n",
              "        text-align: right;\n",
              "    }\n",
              "</style>\n",
              "<table border=\"1\" class=\"dataframe\">\n",
              "  <thead>\n",
              "    <tr style=\"text-align: right;\">\n",
              "      <th></th>\n",
              "      <th>CNPJ_CIA</th>\n",
              "      <th>DT_REFER</th>\n",
              "      <th>VERSAO</th>\n",
              "      <th>DENOM_CIA</th>\n",
              "      <th>CD_CVM</th>\n",
              "      <th>GRUPO_DFP</th>\n",
              "      <th>MOEDA</th>\n",
              "      <th>ESCALA_MOEDA</th>\n",
              "      <th>ORDEM_EXERC</th>\n",
              "      <th>DT_INI_EXERC</th>\n",
              "      <th>DT_FIM_EXERC</th>\n",
              "      <th>CD_CONTA</th>\n",
              "      <th>DS_CONTA</th>\n",
              "      <th>VL_CONTA</th>\n",
              "      <th>ST_CONTA_FIXA</th>\n",
              "    </tr>\n",
              "  </thead>\n",
              "  <tbody>\n",
              "    <tr>\n",
              "      <th>0</th>\n",
              "      <td>00.001.180/0001-26</td>\n",
              "      <td>2011-03-31</td>\n",
              "      <td>1</td>\n",
              "      <td>CENTRAIS ELET BRAS S.A. - ELETROBRAS</td>\n",
              "      <td>2437</td>\n",
              "      <td>DF Consolidado - Demonstração do Resultado</td>\n",
              "      <td>REAL</td>\n",
              "      <td>MIL</td>\n",
              "      <td>PENÚLTIMO</td>\n",
              "      <td>2010-01-01</td>\n",
              "      <td>2010-03-31</td>\n",
              "      <td>3.01</td>\n",
              "      <td>Receita de Venda de Bens e/ou Serviços</td>\n",
              "      <td>6159172.0000000000</td>\n",
              "      <td>S</td>\n",
              "    </tr>\n",
              "    <tr>\n",
              "      <th>1</th>\n",
              "      <td>00.001.180/0001-26</td>\n",
              "      <td>2011-03-31</td>\n",
              "      <td>1</td>\n",
              "      <td>CENTRAIS ELET BRAS S.A. - ELETROBRAS</td>\n",
              "      <td>2437</td>\n",
              "      <td>DF Consolidado - Demonstração do Resultado</td>\n",
              "      <td>REAL</td>\n",
              "      <td>MIL</td>\n",
              "      <td>ÚLTIMO</td>\n",
              "      <td>2011-01-01</td>\n",
              "      <td>2011-03-31</td>\n",
              "      <td>3.01</td>\n",
              "      <td>Receita de Venda de Bens e/ou Serviços</td>\n",
              "      <td>8551982.0000000000</td>\n",
              "      <td>S</td>\n",
              "    </tr>\n",
              "    <tr>\n",
              "      <th>2</th>\n",
              "      <td>00.001.180/0001-26</td>\n",
              "      <td>2011-03-31</td>\n",
              "      <td>1</td>\n",
              "      <td>CENTRAIS ELET BRAS S.A. - ELETROBRAS</td>\n",
              "      <td>2437</td>\n",
              "      <td>DF Consolidado - Demonstração do Resultado</td>\n",
              "      <td>REAL</td>\n",
              "      <td>MIL</td>\n",
              "      <td>PENÚLTIMO</td>\n",
              "      <td>2010-01-01</td>\n",
              "      <td>2010-03-31</td>\n",
              "      <td>3.02</td>\n",
              "      <td>Custo dos Bens e/ou Serviços Vendidos</td>\n",
              "      <td>-960060.0000000000</td>\n",
              "      <td>S</td>\n",
              "    </tr>\n",
              "    <tr>\n",
              "      <th>3</th>\n",
              "      <td>00.001.180/0001-26</td>\n",
              "      <td>2011-03-31</td>\n",
              "      <td>1</td>\n",
              "      <td>CENTRAIS ELET BRAS S.A. - ELETROBRAS</td>\n",
              "      <td>2437</td>\n",
              "      <td>DF Consolidado - Demonstração do Resultado</td>\n",
              "      <td>REAL</td>\n",
              "      <td>MIL</td>\n",
              "      <td>ÚLTIMO</td>\n",
              "      <td>2011-01-01</td>\n",
              "      <td>2011-03-31</td>\n",
              "      <td>3.02</td>\n",
              "      <td>Custo dos Bens e/ou Serviços Vendidos</td>\n",
              "      <td>-1127021.0000000000</td>\n",
              "      <td>S</td>\n",
              "    </tr>\n",
              "    <tr>\n",
              "      <th>4</th>\n",
              "      <td>00.001.180/0001-26</td>\n",
              "      <td>2011-03-31</td>\n",
              "      <td>1</td>\n",
              "      <td>CENTRAIS ELET BRAS S.A. - ELETROBRAS</td>\n",
              "      <td>2437</td>\n",
              "      <td>DF Consolidado - Demonstração do Resultado</td>\n",
              "      <td>REAL</td>\n",
              "      <td>MIL</td>\n",
              "      <td>PENÚLTIMO</td>\n",
              "      <td>2010-01-01</td>\n",
              "      <td>2010-03-31</td>\n",
              "      <td>3.02.01</td>\n",
              "      <td>Encargos Setoriais</td>\n",
              "      <td>-340660.0000000000</td>\n",
              "      <td>N</td>\n",
              "    </tr>\n",
              "    <tr>\n",
              "      <th>...</th>\n",
              "      <td>...</td>\n",
              "      <td>...</td>\n",
              "      <td>...</td>\n",
              "      <td>...</td>\n",
              "      <td>...</td>\n",
              "      <td>...</td>\n",
              "      <td>...</td>\n",
              "      <td>...</td>\n",
              "      <td>...</td>\n",
              "      <td>...</td>\n",
              "      <td>...</td>\n",
              "      <td>...</td>\n",
              "      <td>...</td>\n",
              "      <td>...</td>\n",
              "      <td>...</td>\n",
              "    </tr>\n",
              "    <tr>\n",
              "      <th>137851</th>\n",
              "      <td>97.837.181/0001-47</td>\n",
              "      <td>2020-09-30</td>\n",
              "      <td>1</td>\n",
              "      <td>DEXCO S.A.</td>\n",
              "      <td>21091</td>\n",
              "      <td>DF Consolidado - Demonstração do Resultado</td>\n",
              "      <td>REAL</td>\n",
              "      <td>MIL</td>\n",
              "      <td>ÚLTIMO</td>\n",
              "      <td>2020-07-01</td>\n",
              "      <td>2020-09-30</td>\n",
              "      <td>3.99.02</td>\n",
              "      <td>Lucro Diluído por Ação</td>\n",
              "      <td>0.0000000000</td>\n",
              "      <td>N</td>\n",
              "    </tr>\n",
              "    <tr>\n",
              "      <th>137852</th>\n",
              "      <td>97.837.181/0001-47</td>\n",
              "      <td>2020-09-30</td>\n",
              "      <td>1</td>\n",
              "      <td>DEXCO S.A.</td>\n",
              "      <td>21091</td>\n",
              "      <td>DF Consolidado - Demonstração do Resultado</td>\n",
              "      <td>REAL</td>\n",
              "      <td>MIL</td>\n",
              "      <td>PENÚLTIMO</td>\n",
              "      <td>2019-01-01</td>\n",
              "      <td>2019-09-30</td>\n",
              "      <td>3.99.02.01</td>\n",
              "      <td>ON</td>\n",
              "      <td>0.1734000000</td>\n",
              "      <td>N</td>\n",
              "    </tr>\n",
              "    <tr>\n",
              "      <th>137853</th>\n",
              "      <td>97.837.181/0001-47</td>\n",
              "      <td>2020-09-30</td>\n",
              "      <td>1</td>\n",
              "      <td>DEXCO S.A.</td>\n",
              "      <td>21091</td>\n",
              "      <td>DF Consolidado - Demonstração do Resultado</td>\n",
              "      <td>REAL</td>\n",
              "      <td>MIL</td>\n",
              "      <td>PENÚLTIMO</td>\n",
              "      <td>2019-07-01</td>\n",
              "      <td>2019-09-30</td>\n",
              "      <td>3.99.02.01</td>\n",
              "      <td>ON</td>\n",
              "      <td>0.0398000000</td>\n",
              "      <td>N</td>\n",
              "    </tr>\n",
              "    <tr>\n",
              "      <th>137854</th>\n",
              "      <td>97.837.181/0001-47</td>\n",
              "      <td>2020-09-30</td>\n",
              "      <td>1</td>\n",
              "      <td>DEXCO S.A.</td>\n",
              "      <td>21091</td>\n",
              "      <td>DF Consolidado - Demonstração do Resultado</td>\n",
              "      <td>REAL</td>\n",
              "      <td>MIL</td>\n",
              "      <td>ÚLTIMO</td>\n",
              "      <td>2020-01-01</td>\n",
              "      <td>2020-09-30</td>\n",
              "      <td>3.99.02.01</td>\n",
              "      <td>ON</td>\n",
              "      <td>0.2187000000</td>\n",
              "      <td>N</td>\n",
              "    </tr>\n",
              "    <tr>\n",
              "      <th>137855</th>\n",
              "      <td>97.837.181/0001-47</td>\n",
              "      <td>2020-09-30</td>\n",
              "      <td>1</td>\n",
              "      <td>DEXCO S.A.</td>\n",
              "      <td>21091</td>\n",
              "      <td>DF Consolidado - Demonstração do Resultado</td>\n",
              "      <td>REAL</td>\n",
              "      <td>MIL</td>\n",
              "      <td>ÚLTIMO</td>\n",
              "      <td>2020-07-01</td>\n",
              "      <td>2020-09-30</td>\n",
              "      <td>3.99.02.01</td>\n",
              "      <td>ON</td>\n",
              "      <td>0.1780000000</td>\n",
              "      <td>N</td>\n",
              "    </tr>\n",
              "  </tbody>\n",
              "</table>\n",
              "<p>1198807 rows × 15 columns</p>\n",
              "</div>"
            ],
            "text/plain": [
              "                  CNPJ_CIA    DT_REFER  ...             VL_CONTA ST_CONTA_FIXA\n",
              "0       00.001.180/0001-26  2011-03-31  ...   6159172.0000000000             S\n",
              "1       00.001.180/0001-26  2011-03-31  ...   8551982.0000000000             S\n",
              "2       00.001.180/0001-26  2011-03-31  ...   -960060.0000000000             S\n",
              "3       00.001.180/0001-26  2011-03-31  ...  -1127021.0000000000             S\n",
              "4       00.001.180/0001-26  2011-03-31  ...   -340660.0000000000             N\n",
              "...                    ...         ...  ...                  ...           ...\n",
              "137851  97.837.181/0001-47  2020-09-30  ...         0.0000000000             N\n",
              "137852  97.837.181/0001-47  2020-09-30  ...         0.1734000000             N\n",
              "137853  97.837.181/0001-47  2020-09-30  ...         0.0398000000             N\n",
              "137854  97.837.181/0001-47  2020-09-30  ...         0.2187000000             N\n",
              "137855  97.837.181/0001-47  2020-09-30  ...         0.1780000000             N\n",
              "\n",
              "[1198807 rows x 15 columns]"
            ]
          },
          "metadata": {},
          "execution_count": 116
        }
      ]
    },
    {
      "cell_type": "code",
      "metadata": {
        "colab": {
          "base_uri": "https://localhost:8080/",
          "height": 916
        },
        "id": "s6HZbfC5voG6",
        "outputId": "579f71be-3d5e-4373-d225-a049aa83c110"
      },
      "source": [
        "#filtra o último\n",
        "dre_2011_2020 = dre_2011_2020[dre_2011_2020['ORDEM_EXERC'] == 'ÚLTIMO'] \n",
        "#Filtrar a empresa\n",
        "dre_2011_2020 = dre_2011_2020[dre_2011_2020['DENOM_CIA'] == 'PETROLEO BRASILEIRO S.A. PETROBRAS'] \n",
        "\n",
        "dre_2011_2020"
      ],
      "execution_count": null,
      "outputs": [
        {
          "output_type": "execute_result",
          "data": {
            "text/html": [
              "<div>\n",
              "<style scoped>\n",
              "    .dataframe tbody tr th:only-of-type {\n",
              "        vertical-align: middle;\n",
              "    }\n",
              "\n",
              "    .dataframe tbody tr th {\n",
              "        vertical-align: top;\n",
              "    }\n",
              "\n",
              "    .dataframe thead th {\n",
              "        text-align: right;\n",
              "    }\n",
              "</style>\n",
              "<table border=\"1\" class=\"dataframe\">\n",
              "  <thead>\n",
              "    <tr style=\"text-align: right;\">\n",
              "      <th></th>\n",
              "      <th>CNPJ_CIA</th>\n",
              "      <th>DT_REFER</th>\n",
              "      <th>VERSAO</th>\n",
              "      <th>DENOM_CIA</th>\n",
              "      <th>CD_CVM</th>\n",
              "      <th>GRUPO_DFP</th>\n",
              "      <th>MOEDA</th>\n",
              "      <th>ESCALA_MOEDA</th>\n",
              "      <th>ORDEM_EXERC</th>\n",
              "      <th>DT_INI_EXERC</th>\n",
              "      <th>DT_FIM_EXERC</th>\n",
              "      <th>CD_CONTA</th>\n",
              "      <th>DS_CONTA</th>\n",
              "      <th>VL_CONTA</th>\n",
              "      <th>ST_CONTA_FIXA</th>\n",
              "    </tr>\n",
              "  </thead>\n",
              "  <tbody>\n",
              "    <tr>\n",
              "      <th>72425</th>\n",
              "      <td>33.000.167/0001-01</td>\n",
              "      <td>2011-03-31</td>\n",
              "      <td>1</td>\n",
              "      <td>PETROLEO BRASILEIRO S.A. PETROBRAS</td>\n",
              "      <td>9512</td>\n",
              "      <td>DF Consolidado - Demonstração do Resultado</td>\n",
              "      <td>REAL</td>\n",
              "      <td>MIL</td>\n",
              "      <td>ÚLTIMO</td>\n",
              "      <td>2011-01-01</td>\n",
              "      <td>2011-03-31</td>\n",
              "      <td>3.01</td>\n",
              "      <td>Receita de Venda de Bens e/ou Serviços</td>\n",
              "      <td>54800499.0000000000</td>\n",
              "      <td>S</td>\n",
              "    </tr>\n",
              "    <tr>\n",
              "      <th>72427</th>\n",
              "      <td>33.000.167/0001-01</td>\n",
              "      <td>2011-03-31</td>\n",
              "      <td>1</td>\n",
              "      <td>PETROLEO BRASILEIRO S.A. PETROBRAS</td>\n",
              "      <td>9512</td>\n",
              "      <td>DF Consolidado - Demonstração do Resultado</td>\n",
              "      <td>REAL</td>\n",
              "      <td>MIL</td>\n",
              "      <td>ÚLTIMO</td>\n",
              "      <td>2011-01-01</td>\n",
              "      <td>2011-03-31</td>\n",
              "      <td>3.02</td>\n",
              "      <td>Custo dos Bens e/ou Serviços Vendidos</td>\n",
              "      <td>-34596085.0000000000</td>\n",
              "      <td>S</td>\n",
              "    </tr>\n",
              "    <tr>\n",
              "      <th>72429</th>\n",
              "      <td>33.000.167/0001-01</td>\n",
              "      <td>2011-03-31</td>\n",
              "      <td>1</td>\n",
              "      <td>PETROLEO BRASILEIRO S.A. PETROBRAS</td>\n",
              "      <td>9512</td>\n",
              "      <td>DF Consolidado - Demonstração do Resultado</td>\n",
              "      <td>REAL</td>\n",
              "      <td>MIL</td>\n",
              "      <td>ÚLTIMO</td>\n",
              "      <td>2011-01-01</td>\n",
              "      <td>2011-03-31</td>\n",
              "      <td>3.03</td>\n",
              "      <td>Resultado Bruto</td>\n",
              "      <td>20204414.0000000000</td>\n",
              "      <td>S</td>\n",
              "    </tr>\n",
              "    <tr>\n",
              "      <th>72431</th>\n",
              "      <td>33.000.167/0001-01</td>\n",
              "      <td>2011-03-31</td>\n",
              "      <td>1</td>\n",
              "      <td>PETROLEO BRASILEIRO S.A. PETROBRAS</td>\n",
              "      <td>9512</td>\n",
              "      <td>DF Consolidado - Demonstração do Resultado</td>\n",
              "      <td>REAL</td>\n",
              "      <td>MIL</td>\n",
              "      <td>ÚLTIMO</td>\n",
              "      <td>2011-01-01</td>\n",
              "      <td>2011-03-31</td>\n",
              "      <td>3.04</td>\n",
              "      <td>Despesas/Receitas Operacionais</td>\n",
              "      <td>-7391736.0000000000</td>\n",
              "      <td>S</td>\n",
              "    </tr>\n",
              "    <tr>\n",
              "      <th>72433</th>\n",
              "      <td>33.000.167/0001-01</td>\n",
              "      <td>2011-03-31</td>\n",
              "      <td>1</td>\n",
              "      <td>PETROLEO BRASILEIRO S.A. PETROBRAS</td>\n",
              "      <td>9512</td>\n",
              "      <td>DF Consolidado - Demonstração do Resultado</td>\n",
              "      <td>REAL</td>\n",
              "      <td>MIL</td>\n",
              "      <td>ÚLTIMO</td>\n",
              "      <td>2011-01-01</td>\n",
              "      <td>2011-03-31</td>\n",
              "      <td>3.04.01</td>\n",
              "      <td>Despesas com Vendas</td>\n",
              "      <td>-2116097.0000000000</td>\n",
              "      <td>S</td>\n",
              "    </tr>\n",
              "    <tr>\n",
              "      <th>...</th>\n",
              "      <td>...</td>\n",
              "      <td>...</td>\n",
              "      <td>...</td>\n",
              "      <td>...</td>\n",
              "      <td>...</td>\n",
              "      <td>...</td>\n",
              "      <td>...</td>\n",
              "      <td>...</td>\n",
              "      <td>...</td>\n",
              "      <td>...</td>\n",
              "      <td>...</td>\n",
              "      <td>...</td>\n",
              "      <td>...</td>\n",
              "      <td>...</td>\n",
              "      <td>...</td>\n",
              "    </tr>\n",
              "    <tr>\n",
              "      <th>84701</th>\n",
              "      <td>33.000.167/0001-01</td>\n",
              "      <td>2020-09-30</td>\n",
              "      <td>1</td>\n",
              "      <td>PETROLEO BRASILEIRO S.A. PETROBRAS</td>\n",
              "      <td>9512</td>\n",
              "      <td>DF Consolidado - Demonstração do Resultado</td>\n",
              "      <td>REAL</td>\n",
              "      <td>MIL</td>\n",
              "      <td>ÚLTIMO</td>\n",
              "      <td>2020-07-01</td>\n",
              "      <td>2020-09-30</td>\n",
              "      <td>3.99.02</td>\n",
              "      <td>Lucro Diluído por Ação</td>\n",
              "      <td>0.0000000000</td>\n",
              "      <td>N</td>\n",
              "    </tr>\n",
              "    <tr>\n",
              "      <th>84704</th>\n",
              "      <td>33.000.167/0001-01</td>\n",
              "      <td>2020-09-30</td>\n",
              "      <td>1</td>\n",
              "      <td>PETROLEO BRASILEIRO S.A. PETROBRAS</td>\n",
              "      <td>9512</td>\n",
              "      <td>DF Consolidado - Demonstração do Resultado</td>\n",
              "      <td>REAL</td>\n",
              "      <td>MIL</td>\n",
              "      <td>ÚLTIMO</td>\n",
              "      <td>2020-01-01</td>\n",
              "      <td>2020-09-30</td>\n",
              "      <td>3.99.02.01</td>\n",
              "      <td>ON</td>\n",
              "      <td>-4.0500000000</td>\n",
              "      <td>N</td>\n",
              "    </tr>\n",
              "    <tr>\n",
              "      <th>84705</th>\n",
              "      <td>33.000.167/0001-01</td>\n",
              "      <td>2020-09-30</td>\n",
              "      <td>1</td>\n",
              "      <td>PETROLEO BRASILEIRO S.A. PETROBRAS</td>\n",
              "      <td>9512</td>\n",
              "      <td>DF Consolidado - Demonstração do Resultado</td>\n",
              "      <td>REAL</td>\n",
              "      <td>MIL</td>\n",
              "      <td>ÚLTIMO</td>\n",
              "      <td>2020-07-01</td>\n",
              "      <td>2020-09-30</td>\n",
              "      <td>3.99.02.01</td>\n",
              "      <td>ON</td>\n",
              "      <td>-0.1200000000</td>\n",
              "      <td>N</td>\n",
              "    </tr>\n",
              "    <tr>\n",
              "      <th>84708</th>\n",
              "      <td>33.000.167/0001-01</td>\n",
              "      <td>2020-09-30</td>\n",
              "      <td>1</td>\n",
              "      <td>PETROLEO BRASILEIRO S.A. PETROBRAS</td>\n",
              "      <td>9512</td>\n",
              "      <td>DF Consolidado - Demonstração do Resultado</td>\n",
              "      <td>REAL</td>\n",
              "      <td>MIL</td>\n",
              "      <td>ÚLTIMO</td>\n",
              "      <td>2020-01-01</td>\n",
              "      <td>2020-09-30</td>\n",
              "      <td>3.99.02.02</td>\n",
              "      <td>PN</td>\n",
              "      <td>-4.0500000000</td>\n",
              "      <td>N</td>\n",
              "    </tr>\n",
              "    <tr>\n",
              "      <th>84709</th>\n",
              "      <td>33.000.167/0001-01</td>\n",
              "      <td>2020-09-30</td>\n",
              "      <td>1</td>\n",
              "      <td>PETROLEO BRASILEIRO S.A. PETROBRAS</td>\n",
              "      <td>9512</td>\n",
              "      <td>DF Consolidado - Demonstração do Resultado</td>\n",
              "      <td>REAL</td>\n",
              "      <td>MIL</td>\n",
              "      <td>ÚLTIMO</td>\n",
              "      <td>2020-07-01</td>\n",
              "      <td>2020-09-30</td>\n",
              "      <td>3.99.02.02</td>\n",
              "      <td>PN</td>\n",
              "      <td>-0.1200000000</td>\n",
              "      <td>N</td>\n",
              "    </tr>\n",
              "  </tbody>\n",
              "</table>\n",
              "<p>2112 rows × 15 columns</p>\n",
              "</div>"
            ],
            "text/plain": [
              "                 CNPJ_CIA    DT_REFER  ...              VL_CONTA ST_CONTA_FIXA\n",
              "72425  33.000.167/0001-01  2011-03-31  ...   54800499.0000000000             S\n",
              "72427  33.000.167/0001-01  2011-03-31  ...  -34596085.0000000000             S\n",
              "72429  33.000.167/0001-01  2011-03-31  ...   20204414.0000000000             S\n",
              "72431  33.000.167/0001-01  2011-03-31  ...   -7391736.0000000000             S\n",
              "72433  33.000.167/0001-01  2011-03-31  ...   -2116097.0000000000             S\n",
              "...                   ...         ...  ...                   ...           ...\n",
              "84701  33.000.167/0001-01  2020-09-30  ...          0.0000000000             N\n",
              "84704  33.000.167/0001-01  2020-09-30  ...         -4.0500000000             N\n",
              "84705  33.000.167/0001-01  2020-09-30  ...         -0.1200000000             N\n",
              "84708  33.000.167/0001-01  2020-09-30  ...         -4.0500000000             N\n",
              "84709  33.000.167/0001-01  2020-09-30  ...         -0.1200000000             N\n",
              "\n",
              "[2112 rows x 15 columns]"
            ]
          },
          "metadata": {},
          "execution_count": 118
        }
      ]
    },
    {
      "cell_type": "code",
      "metadata": {
        "colab": {
          "base_uri": "https://localhost:8080/"
        },
        "id": "A9MSzJWWyJb5",
        "outputId": "f6bc429e-6655-4204-903d-a651c6907e03"
      },
      "source": [
        "# Cria um vetor com valor de cada conta e o transforma em string\n",
        "digitos = dre_2011_2020['VL_CONTA'].astype('string')\n",
        "digitos"
      ],
      "execution_count": null,
      "outputs": [
        {
          "output_type": "execute_result",
          "data": {
            "text/plain": [
              "72425     54800499.0000000000\n",
              "72427    -34596085.0000000000\n",
              "72429     20204414.0000000000\n",
              "72431     -7391736.0000000000\n",
              "72433     -2116097.0000000000\n",
              "                 ...         \n",
              "84701            0.0000000000\n",
              "84704           -4.0500000000\n",
              "84705           -0.1200000000\n",
              "84708           -4.0500000000\n",
              "84709           -0.1200000000\n",
              "Name: VL_CONTA, Length: 2112, dtype: string"
            ]
          },
          "metadata": {},
          "execution_count": 216
        }
      ]
    },
    {
      "cell_type": "code",
      "metadata": {
        "id": "-nbqZEcvyZzj"
      },
      "source": [
        "#retira o \"-\" \n",
        "digitos = digitos.replace('-', '')\n",
        "#retira o \".\"\n",
        "digitos = digitos.replace('.', '')\n",
        "#Transforma os dados em inteiro e, em seguida, retira todos os 0\n",
        "digitos = digitos.astype(int)\n",
        "digitos = digitos[digitos.loc[:]!= 0]"
      ],
      "execution_count": null,
      "outputs": []
    },
    {
      "cell_type": "code",
      "metadata": {
        "colab": {
          "base_uri": "https://localhost:8080/"
        },
        "id": "Zzt8-4K7z54R",
        "outputId": "753346ae-e642-416e-a75c-3fe1ae7c128d"
      },
      "source": [
        "digitos"
      ],
      "execution_count": null,
      "outputs": [
        {
          "output_type": "execute_result",
          "data": {
            "text/plain": [
              "72425    548004990000000000\n",
              "72427    345960850000000000\n",
              "72429    202044140000000000\n",
              "72431     73917360000000000\n",
              "72433     21160970000000000\n",
              "                ...        \n",
              "84697            1200000000\n",
              "84704           40500000000\n",
              "84705            1200000000\n",
              "84708           40500000000\n",
              "84709            1200000000\n",
              "Name: VL_CONTA, Length: 1572, dtype: int64"
            ]
          },
          "metadata": {},
          "execution_count": 221
        }
      ]
    },
    {
      "cell_type": "code",
      "metadata": {
        "colab": {
          "base_uri": "https://localhost:8080/",
          "height": 175
        },
        "id": "VaZrDN7o1uVf",
        "outputId": "c3c140f8-c623-4e7b-dd0d-03395c06f4cf"
      },
      "source": [
        "# Conta o primeiro dígito e transforma em %\n",
        "digitos = digitos.astype(str).str[0].value_counts(normalize=True)\n",
        "\n",
        "#cria um dataframe com os valores acima\n",
        "digitos_df = pd.DataFrame({\"Primeiro Dígito\": digitos.index, \"Proporção\": digitos.values, \"Distribuição\": 'DRE'})"
      ],
      "execution_count": null,
      "outputs": [
        {
          "output_type": "error",
          "ename": "TypeError",
          "evalue": "ignored",
          "traceback": [
            "\u001b[0;31m---------------------------------------------------------------------------\u001b[0m",
            "\u001b[0;31mTypeError\u001b[0m                                 Traceback (most recent call last)",
            "\u001b[0;32m<ipython-input-213-81f87be46fae>\u001b[0m in \u001b[0;36m<module>\u001b[0;34m()\u001b[0m\n\u001b[1;32m      1\u001b[0m \u001b[0mdigitos\u001b[0m \u001b[0;34m=\u001b[0m \u001b[0mdigitos\u001b[0m\u001b[0;34m.\u001b[0m\u001b[0mastype\u001b[0m\u001b[0;34m(\u001b[0m\u001b[0mstr\u001b[0m\u001b[0;34m)\u001b[0m\u001b[0;34m.\u001b[0m\u001b[0mstr\u001b[0m\u001b[0;34m[\u001b[0m\u001b[0;36m0\u001b[0m\u001b[0;34m]\u001b[0m\u001b[0;34m.\u001b[0m\u001b[0mvalue_counts\u001b[0m\u001b[0;34m(\u001b[0m\u001b[0mnormalize\u001b[0m\u001b[0;34m=\u001b[0m\u001b[0;32mTrue\u001b[0m\u001b[0;34m)\u001b[0m\u001b[0;34m\u001b[0m\u001b[0;34m\u001b[0m\u001b[0m\n\u001b[0;32m----> 2\u001b[0;31m \u001b[0mdigitos_df\u001b[0m \u001b[0;34m=\u001b[0m \u001b[0mpd\u001b[0m\u001b[0;34m.\u001b[0m\u001b[0mDataFrame\u001b[0m\u001b[0;34m(\u001b[0m\u001b[0;34m{\u001b[0m\u001b[0;34m\"Primeiro Dígito\"\u001b[0m\u001b[0;34m:\u001b[0m \u001b[0mdigitos\u001b[0m\u001b[0;34m.\u001b[0m\u001b[0mindex\u001b[0m\u001b[0;34m,\u001b[0m \u001b[0;34m\"Proporção\"\u001b[0m\u001b[0;34m:\u001b[0m \u001b[0mround\u001b[0m\u001b[0;34m(\u001b[0m\u001b[0mdigitos\u001b[0m\u001b[0;34m.\u001b[0m\u001b[0mvalues\u001b[0m\u001b[0;34m,\u001b[0m\u001b[0;36m2\u001b[0m\u001b[0;34m)\u001b[0m\u001b[0;34m,\u001b[0m \u001b[0;34m\"Distribuição\"\u001b[0m\u001b[0;34m:\u001b[0m \u001b[0;34m'DRE'\u001b[0m\u001b[0;34m}\u001b[0m\u001b[0;34m)\u001b[0m\u001b[0;34m\u001b[0m\u001b[0;34m\u001b[0m\u001b[0m\n\u001b[0m",
            "\u001b[0;31mTypeError\u001b[0m: type numpy.ndarray doesn't define __round__ method"
          ]
        }
      ]
    },
    {
      "cell_type": "markdown",
      "metadata": {
        "id": "pP_0xkMN1Rq9"
      },
      "source": [
        "#BENFORD' LAW"
      ]
    },
    {
      "cell_type": "code",
      "metadata": {
        "colab": {
          "base_uri": "https://localhost:8080/",
          "height": 292
        },
        "id": "FoYazvIM0aDP",
        "outputId": "fa60038f-05bf-44b4-be2f-c412d7d0e8d4"
      },
      "source": [
        "benford_df = pd.DataFrame({'Primeiro Dígito': ['1', '2', '3', '4','5', '6', '7', '8', '9'], 'Proporção': [.301, .176, .125, .097, .079, .067, .058, .051, .046], 'Distribuição': 'Benford'})\n",
        "benford_df.pivot('Primeiro Dígito', 'Distribuição', 'Proporção').plot(kind='bar', width=.65)"
      ],
      "execution_count": null,
      "outputs": [
        {
          "output_type": "execute_result",
          "data": {
            "text/plain": [
              "<matplotlib.axes._subplots.AxesSubplot at 0x7ff3dfbc5e10>"
            ]
          },
          "metadata": {},
          "execution_count": 150
        },
        {
          "output_type": "display_data",
          "data": {
            "image/png": "[encoded data removed]",
            "text/plain": [
              "<Figure size 432x288 with 1 Axes>"
            ]
          },
          "metadata": {
            "needs_background": "light"
          }
        }
      ]
    },
    {
      "cell_type": "code",
      "metadata": {
        "id": "4Dx2Hf6Y1YlV"
      },
      "source": [
        "#junta os dois dataframes\n",
        "merge = pd.concat([benford_df, digitos_df]).pivot('Primeiro Dígito', 'Distribuição', 'Proporção')"
      ],
      "execution_count": null,
      "outputs": []
    },
    {
      "cell_type": "code",
      "metadata": {
        "id": "chojeDFgD0n8"
      },
      "source": [
        "# Arredonda para 3 casas decimais a coluna DRE\n",
        "merge['DRE'] = merge['DRE'].astype(float).round(3)"
      ],
      "execution_count": null,
      "outputs": []
    },
    {
      "cell_type": "code",
      "metadata": {
        "colab": {
          "base_uri": "https://localhost:8080/",
          "height": 517
        },
        "id": "6RVkLDYr2-xj",
        "outputId": "7ebe6456-f22d-4b3b-e339-73041aaaf692"
      },
      "source": [
        "fig = px.bar(\n",
        "    merge,\n",
        "    title=\"Benford's Law x DRE: Petrobras\",\n",
        "    barmode=\"group\",\n",
        "    text=\"value\",\n",
        "    width = 700,\n",
        "    height = 500,\n",
        "    color_discrete_sequence = ['#192130','#cb9691' ],\n",
        ")\n",
        "fig"
      ],
      "execution_count": null,
      "outputs": [
        {
          "output_type": "display_data",
          "data": {
            "text/html": [
              "<html>\n",
              "<head><meta charset=\"utf-8\" /></head>\n",
              "<body>\n",
              "    <div>            <script src=\"https://cdnjs.cloudflare.com/ajax/libs/mathjax/2.7.5/MathJax.js?config=TeX-AMS-MML_SVG\"></script><script type=\"text/javascript\">if (window.MathJax) {MathJax.Hub.Config({SVG: {font: \"STIX-Web\"}});}</script>                <script type=\"text/javascript\">window.PlotlyConfig = {MathJaxConfig: 'local'};</script>\n",
              "        <script src=\"https://cdn.plot.ly/plotly-2.4.2.min.js\"></script>                <div id=\"9f3e5f8b-18f0-4da8-b810-53e228dd874f\" class=\"plotly-graph-div\" style=\"height:500px; width:700px;\"></div>            <script type=\"text/javascript\">                                    window.PLOTLYENV=window.PLOTLYENV || {};                                    if (document.getElementById(\"9f3e5f8b-18f0-4da8-b810-53e228dd874f\")) {                    Plotly.newPlot(                        \"9f3e5f8b-18f0-4da8-b810-53e228dd874f\",                        [{\"alignmentgroup\":\"True\",\"hovertemplate\":\"Distribui\\u00e7\\u00e3o=Benford<br>Primeiro D\\u00edgito=%{x}<br>value=%{text}<extra></extra>\",\"legendgroup\":\"Benford\",\"marker\":{\"color\":\"#192130\",\"pattern\":{\"shape\":\"\"}},\"name\":\"Benford\",\"offsetgroup\":\"Benford\",\"orientation\":\"v\",\"showlegend\":true,\"text\":[0.301,0.176,0.125,0.097,0.079,0.067,0.058,0.051,0.046],\"textposition\":\"auto\",\"type\":\"bar\",\"x\":[\"1\",\"2\",\"3\",\"4\",\"5\",\"6\",\"7\",\"8\",\"9\"],\"xaxis\":\"x\",\"y\":[0.301,0.176,0.125,0.097,0.079,0.067,0.058,0.051,0.046],\"yaxis\":\"y\"},{\"alignmentgroup\":\"True\",\"hovertemplate\":\"Distribui\\u00e7\\u00e3o=DRE<br>Primeiro D\\u00edgito=%{x}<br>value=%{text}<extra></extra>\",\"legendgroup\":\"DRE\",\"marker\":{\"color\":\"#cb9691\",\"pattern\":{\"shape\":\"\"}},\"name\":\"DRE\",\"offsetgroup\":\"DRE\",\"orientation\":\"v\",\"showlegend\":true,\"text\":[0.281,0.167,0.113,0.1,0.104,0.078,0.071,0.047,0.039],\"textposition\":\"auto\",\"type\":\"bar\",\"x\":[\"1\",\"2\",\"3\",\"4\",\"5\",\"6\",\"7\",\"8\",\"9\"],\"xaxis\":\"x\",\"y\":[0.281,0.167,0.113,0.1,0.104,0.078,0.071,0.047,0.039],\"yaxis\":\"y\"}],                        {\"barmode\":\"group\",\"height\":500,\"legend\":{\"title\":{\"text\":\"Distribui\\u00e7\\u00e3o\"},\"tracegroupgap\":0},\"template\":{\"data\":{\"bar\":[{\"error_x\":{\"color\":\"#2a3f5f\"},\"error_y\":{\"color\":\"#2a3f5f\"},\"marker\":{\"line\":{\"color\":\"#E5ECF6\",\"width\":0.5},\"pattern\":{\"fillmode\":\"overlay\",\"size\":10,\"solidity\":0.2}},\"type\":\"bar\"}],\"barpolar\":[{\"marker\":{\"line\":{\"color\":\"#E5ECF6\",\"width\":0.5},\"pattern\":{\"fillmode\":\"overlay\",\"size\":10,\"solidity\":0.2}},\"type\":\"barpolar\"}],\"carpet\":[{\"aaxis\":{\"endlinecolor\":\"#2a3f5f\",\"gridcolor\":\"white\",\"linecolor\":\"white\",\"minorgridcolor\":\"white\",\"startlinecolor\":\"#2a3f5f\"},\"baxis\":{\"endlinecolor\":\"#2a3f5f\",\"gridcolor\":\"white\",\"linecolor\":\"white\",\"minorgridcolor\":\"white\",\"startlinecolor\":\"#2a3f5f\"},\"type\":\"carpet\"}],\"choropleth\":[{\"colorbar\":{\"outlinewidth\":0,\"ticks\":\"\"},\"type\":\"choropleth\"}],\"contour\":[{\"colorbar\":{\"outlinewidth\":0,\"ticks\":\"\"},\"colorscale\":[[0.0,\"#0d0887\"],[0.1111111111111111,\"#46039f\"],[0.2222222222222222,\"#7201a8\"],[0.3333333333333333,\"#9c179e\"],[0.4444444444444444,\"#bd3786\"],[0.5555555555555556,\"#d8576b\"],[0.6666666666666666,\"#ed7953\"],[0.7777777777777778,\"#fb9f3a\"],[0.8888888888888888,\"#fdca26\"],[1.0,\"#f0f921\"]],\"type\":\"contour\"}],\"contourcarpet\":[{\"colorbar\":{\"outlinewidth\":0,\"ticks\":\"\"},\"type\":\"contourcarpet\"}],\"heatmap\":[{\"colorbar\":{\"outlinewidth\":0,\"ticks\":\"\"},\"colorscale\":[[0.0,\"#0d0887\"],[0.1111111111111111,\"#46039f\"],[0.2222222222222222,\"#7201a8\"],[0.3333333333333333,\"#9c179e\"],[0.4444444444444444,\"#bd3786\"],[0.5555555555555556,\"#d8576b\"],[0.6666666666666666,\"#ed7953\"],[0.7777777777777778,\"#fb9f3a\"],[0.8888888888888888,\"#fdca26\"],[1.0,\"#f0f921\"]],\"type\":\"heatmap\"}],\"heatmapgl\":[{\"colorbar\":{\"outlinewidth\":0,\"ticks\":\"\"},\"colorscale\":[[0.0,\"#0d0887\"],[0.1111111111111111,\"#46039f\"],[0.2222222222222222,\"#7201a8\"],[0.3333333333333333,\"#9c179e\"],[0.4444444444444444,\"#bd3786\"],[0.5555555555555556,\"#d8576b\"],[0.6666666666666666,\"#ed7953\"],[0.7777777777777778,\"#fb9f3a\"],[0.8888888888888888,\"#fdca26\"],[1.0,\"#f0f921\"]],\"type\":\"heatmapgl\"}],\"histogram\":[{\"marker\":{\"pattern\":{\"fillmode\":\"overlay\",\"size\":10,\"solidity\":0.2}},\"type\":\"histogram\"}],\"histogram2d\":[{\"colorbar\":{\"outlinewidth\":0,\"ticks\":\"\"},\"colorscale\":[[0.0,\"#0d0887\"],[0.1111111111111111,\"#46039f\"],[0.2222222222222222,\"#7201a8\"],[0.3333333333333333,\"#9c179e\"],[0.4444444444444444,\"#bd3786\"],[0.5555555555555556,\"#d8576b\"],[0.6666666666666666,\"#ed7953\"],[0.7777777777777778,\"#fb9f3a\"],[0.8888888888888888,\"#fdca26\"],[1.0,\"#f0f921\"]],\"type\":\"histogram2d\"}],\"histogram2dcontour\":[{\"colorbar\":{\"outlinewidth\":0,\"ticks\":\"\"},\"colorscale\":[[0.0,\"#0d0887\"],[0.1111111111111111,\"#46039f\"],[0.2222222222222222,\"#7201a8\"],[0.3333333333333333,\"#9c179e\"],[0.4444444444444444,\"#bd3786\"],[0.5555555555555556,\"#d8576b\"],[0.6666666666666666,\"#ed7953\"],[0.7777777777777778,\"#fb9f3a\"],[0.8888888888888888,\"#fdca26\"],[1.0,\"#f0f921\"]],\"type\":\"histogram2dcontour\"}],\"mesh3d\":[{\"colorbar\":{\"outlinewidth\":0,\"ticks\":\"\"},\"type\":\"mesh3d\"}],\"parcoords\":[{\"line\":{\"colorbar\":{\"outlinewidth\":0,\"ticks\":\"\"}},\"type\":\"parcoords\"}],\"pie\":[{\"automargin\":true,\"type\":\"pie\"}],\"scatter\":[{\"marker\":{\"colorbar\":{\"outlinewidth\":0,\"ticks\":\"\"}},\"type\":\"scatter\"}],\"scatter3d\":[{\"line\":{\"colorbar\":{\"outlinewidth\":0,\"ticks\":\"\"}},\"marker\":{\"colorbar\":{\"outlinewidth\":0,\"ticks\":\"\"}},\"type\":\"scatter3d\"}],\"scattercarpet\":[{\"marker\":{\"colorbar\":{\"outlinewidth\":0,\"ticks\":\"\"}},\"type\":\"scattercarpet\"}],\"scattergeo\":[{\"marker\":{\"colorbar\":{\"outlinewidth\":0,\"ticks\":\"\"}},\"type\":\"scattergeo\"}],\"scattergl\":[{\"marker\":{\"colorbar\":{\"outlinewidth\":0,\"ticks\":\"\"}},\"type\":\"scattergl\"}],\"scattermapbox\":[{\"marker\":{\"colorbar\":{\"outlinewidth\":0,\"ticks\":\"\"}},\"type\":\"scattermapbox\"}],\"scatterpolar\":[{\"marker\":{\"colorbar\":{\"outlinewidth\":0,\"ticks\":\"\"}},\"type\":\"scatterpolar\"}],\"scatterpolargl\":[{\"marker\":{\"colorbar\":{\"outlinewidth\":0,\"ticks\":\"\"}},\"type\":\"scatterpolargl\"}],\"scatterternary\":[{\"marker\":{\"colorbar\":{\"outlinewidth\":0,\"ticks\":\"\"}},\"type\":\"scatterternary\"}],\"surface\":[{\"colorbar\":{\"outlinewidth\":0,\"ticks\":\"\"},\"colorscale\":[[0.0,\"#0d0887\"],[0.1111111111111111,\"#46039f\"],[0.2222222222222222,\"#7201a8\"],[0.3333333333333333,\"#9c179e\"],[0.4444444444444444,\"#bd3786\"],[0.5555555555555556,\"#d8576b\"],[0.6666666666666666,\"#ed7953\"],[0.7777777777777778,\"#fb9f3a\"],[0.8888888888888888,\"#fdca26\"],[1.0,\"#f0f921\"]],\"type\":\"surface\"}],\"table\":[{\"cells\":{\"fill\":{\"color\":\"#EBF0F8\"},\"line\":{\"color\":\"white\"}},\"header\":{\"fill\":{\"color\":\"#C8D4E3\"},\"line\":{\"color\":\"white\"}},\"type\":\"table\"}]},\"layout\":{\"annotationdefaults\":{\"arrowcolor\":\"#2a3f5f\",\"arrowhead\":0,\"arrowwidth\":1},\"autotypenumbers\":\"strict\",\"coloraxis\":{\"colorbar\":{\"outlinewidth\":0,\"ticks\":\"\"}},\"colorscale\":{\"diverging\":[[0,\"#8e0152\"],[0.1,\"#c51b7d\"],[0.2,\"#de77ae\"],[0.3,\"#f1b6da\"],[0.4,\"#fde0ef\"],[0.5,\"#f7f7f7\"],[0.6,\"#e6f5d0\"],[0.7,\"#b8e186\"],[0.8,\"#7fbc41\"],[0.9,\"#4d9221\"],[1,\"#276419\"]],\"sequential\":[[0.0,\"#0d0887\"],[0.1111111111111111,\"#46039f\"],[0.2222222222222222,\"#7201a8\"],[0.3333333333333333,\"#9c179e\"],[0.4444444444444444,\"#bd3786\"],[0.5555555555555556,\"#d8576b\"],[0.6666666666666666,\"#ed7953\"],[0.7777777777777778,\"#fb9f3a\"],[0.8888888888888888,\"#fdca26\"],[1.0,\"#f0f921\"]],\"sequentialminus\":[[0.0,\"#0d0887\"],[0.1111111111111111,\"#46039f\"],[0.2222222222222222,\"#7201a8\"],[0.3333333333333333,\"#9c179e\"],[0.4444444444444444,\"#bd3786\"],[0.5555555555555556,\"#d8576b\"],[0.6666666666666666,\"#ed7953\"],[0.7777777777777778,\"#fb9f3a\"],[0.8888888888888888,\"#fdca26\"],[1.0,\"#f0f921\"]]},\"colorway\":[\"#636efa\",\"#EF553B\",\"#00cc96\",\"#ab63fa\",\"#FFA15A\",\"#19d3f3\",\"#FF6692\",\"#B6E880\",\"#FF97FF\",\"#FECB52\"],\"font\":{\"color\":\"#2a3f5f\"},\"geo\":{\"bgcolor\":\"white\",\"lakecolor\":\"white\",\"landcolor\":\"#E5ECF6\",\"showlakes\":true,\"showland\":true,\"subunitcolor\":\"white\"},\"hoverlabel\":{\"align\":\"left\"},\"hovermode\":\"closest\",\"mapbox\":{\"style\":\"light\"},\"paper_bgcolor\":\"white\",\"plot_bgcolor\":\"#E5ECF6\",\"polar\":{\"angularaxis\":{\"gridcolor\":\"white\",\"linecolor\":\"white\",\"ticks\":\"\"},\"bgcolor\":\"#E5ECF6\",\"radialaxis\":{\"gridcolor\":\"white\",\"linecolor\":\"white\",\"ticks\":\"\"}},\"scene\":{\"xaxis\":{\"backgroundcolor\":\"#E5ECF6\",\"gridcolor\":\"white\",\"gridwidth\":2,\"linecolor\":\"white\",\"showbackground\":true,\"ticks\":\"\",\"zerolinecolor\":\"white\"},\"yaxis\":{\"backgroundcolor\":\"#E5ECF6\",\"gridcolor\":\"white\",\"gridwidth\":2,\"linecolor\":\"white\",\"showbackground\":true,\"ticks\":\"\",\"zerolinecolor\":\"white\"},\"zaxis\":{\"backgroundcolor\":\"#E5ECF6\",\"gridcolor\":\"white\",\"gridwidth\":2,\"linecolor\":\"white\",\"showbackground\":true,\"ticks\":\"\",\"zerolinecolor\":\"white\"}},\"shapedefaults\":{\"line\":{\"color\":\"#2a3f5f\"}},\"ternary\":{\"aaxis\":{\"gridcolor\":\"white\",\"linecolor\":\"white\",\"ticks\":\"\"},\"baxis\":{\"gridcolor\":\"white\",\"linecolor\":\"white\",\"ticks\":\"\"},\"bgcolor\":\"#E5ECF6\",\"caxis\":{\"gridcolor\":\"white\",\"linecolor\":\"white\",\"ticks\":\"\"}},\"title\":{\"x\":0.05},\"xaxis\":{\"automargin\":true,\"gridcolor\":\"white\",\"linecolor\":\"white\",\"ticks\":\"\",\"title\":{\"standoff\":15},\"zerolinecolor\":\"white\",\"zerolinewidth\":2},\"yaxis\":{\"automargin\":true,\"gridcolor\":\"white\",\"linecolor\":\"white\",\"ticks\":\"\",\"title\":{\"standoff\":15},\"zerolinecolor\":\"white\",\"zerolinewidth\":2}}},\"title\":{\"text\":\"Benford's Law x DRE: Petrobras\"},\"width\":700,\"xaxis\":{\"anchor\":\"y\",\"domain\":[0.0,1.0],\"title\":{\"text\":\"Primeiro D\\u00edgito\"}},\"yaxis\":{\"anchor\":\"x\",\"domain\":[0.0,1.0],\"title\":{\"text\":\"value\"}}},                        {\"responsive\": true}                    ).then(function(){\n",
              "                            \n",
              "var gd = document.getElementById('9f3e5f8b-18f0-4da8-b810-53e228dd874f');\n",
              "var x = new MutationObserver(function (mutations, observer) {{\n",
              "        var display = window.getComputedStyle(gd).display;\n",
              "        if (!display || display === 'none') {{\n",
              "            console.log([gd, 'removed!']);\n",
              "            Plotly.purge(gd);\n",
              "            observer.disconnect();\n",
              "        }}\n",
              "}});\n",
              "\n",
              "// Listen for the removal of the full notebook cells\n",
              "var notebookContainer = gd.closest('#notebook-container');\n",
              "if (notebookContainer) {{\n",
              "    x.observe(notebookContainer, {childList: true});\n",
              "}}\n",
              "\n",
              "// Listen for the clearing of the current output cell\n",
              "var outputEl = gd.closest('.output');\n",
              "if (outputEl) {{\n",
              "    x.observe(outputEl, {childList: true});\n",
              "}}\n",
              "\n",
              "                        })                };                            </script>        </div>\n",
              "</body>\n",
              "</html>"
            ]
          },
          "metadata": {}
        }
      ]
    },
    {
      "cell_type": "markdown",
      "metadata": {
        "id": "qQ3RqNZXMK_9"
      },
      "source": [
        "#Análise Estatística com R"
      ]
    },
    {
      "cell_type": "code",
      "metadata": {
        "id": "YVqC5646DlFp"
      },
      "source": [
        "%load_ext rpy2.ipython"
      ],
      "execution_count": null,
      "outputs": []
    },
    {
      "cell_type": "code",
      "metadata": {
        "colab": {
          "base_uri": "https://localhost:8080/"
        },
        "id": "bpIXk8PvNCKg",
        "outputId": "93a3333b-7a3f-4ab4-d6a6-af84c5c37ee9"
      },
      "source": [
        "#https://github.com/cran/benford.analysis\n",
        "%%R\n",
        "devtools::install_github(\"carloscinelli/benford.analysis\")"
      ],
      "execution_count": null,
      "outputs": [
        {
          "output_type": "stream",
          "name": "stderr",
          "text": [
            "R[write to console]: Downloading GitHub repo carloscinelli/benford.analysis@HEAD\n",
            "\n"
          ]
        },
        {
          "output_type": "stream",
          "name": "stdout",
          "text": [
            "These packages have more recent versions available.\n",
            "It is recommended to update all of them.\n",
            "Which would you like to update?\n",
            "\n",
            "1: All                                 \n",
            "2: CRAN packages only                  \n",
            "3: None                                \n",
            "4: data.table (1.14.0 -> 1.14.2) [CRAN]\n",
            "\n",
            "Enter one or more numbers, or an empty line to skip updates: 2\n",
            "data.table (1.14.0 -> 1.14.2) [CRAN]\n"
          ]
        },
        {
          "output_type": "stream",
          "name": "stderr",
          "text": [
            "R[write to console]: Installing 1 packages: data.table\n",
            "\n",
            "R[write to console]: Installing package into ‘/usr/local/lib/R/site-library’\n",
            "(as ‘lib’ is unspecified)\n",
            "\n",
            "R[write to console]: trying URL 'https://cran.rstudio.com/src/contrib/data.table_1.14.2.tar.gz'\n",
            "\n",
            "R[write to console]: Content type 'application/x-gzip'\n",
            "R[write to console]:  length 5301817 bytes (5.1 MB)\n",
            "\n",
            "R[write to console]: =\n",
            "R[write to console]: =\n",
            "R[write to console]: =\n",
            "R[write to console]: =\n",
            "R[write to console]: =\n",
            "R[write to console]: =\n",
            "R[write to console]: =\n",
            "R[write to console]: =\n",
            "R[write to console]: =\n",
            "R[write to console]: =\n",
            "R[write to console]: =\n",
            "R[write to console]: =\n",
            "R[write to console]: =\n",
            "R[write to console]: =\n",
            "R[write to console]: =\n",
            "R[write to console]: =\n",
            "R[write to console]: =\n",
            "R[write to console]: =\n",
            "R[write to console]: =\n",
            "R[write to console]: =\n",
            "R[write to console]: =\n",
            "R[write to console]: =\n",
            "R[write to console]: =\n",
            "R[write to console]: =\n",
            "R[write to console]: =\n",
            "R[write to console]: =\n",
            "R[write to console]: =\n",
            "R[write to console]: =\n",
            "R[write to console]: =\n",
            "R[write to console]: =\n",
            "R[write to console]: =\n",
            "R[write to console]: =\n",
            "R[write to console]: =\n",
            "R[write to console]: =\n",
            "R[write to console]: =\n",
            "R[write to console]: =\n",
            "R[write to console]: =\n",
            "R[write to console]: =\n",
            "R[write to console]: =\n",
            "R[write to console]: =\n",
            "R[write to console]: =\n",
            "R[write to console]: =\n",
            "R[write to console]: =\n",
            "R[write to console]: =\n",
            "R[write to console]: =\n",
            "R[write to console]: =\n",
            "R[write to console]: =\n",
            "R[write to console]: =\n",
            "R[write to console]: =\n",
            "R[write to console]: =\n",
            "R[write to console]: \n",
            "\n",
            "R[write to console]: downloaded 5.1 MB\n",
            "\n",
            "\n",
            "R[write to console]: \n",
            "\n",
            "R[write to console]: \n",
            "R[write to console]: The downloaded source packages are in\n",
            "\t‘/tmp/RtmpWsGH3T/downloaded_packages’\n",
            "R[write to console]: \n",
            "R[write to console]: \n",
            "\n"
          ]
        },
        {
          "output_type": "stream",
          "name": "stdout",
          "text": [
            "✔  checking for file ‘/tmp/RtmpWsGH3T/remotes404f8e2a06/carloscinelli-benford.analysis-31a98c4/DESCRIPTION’ (346ms)\n",
            "─  preparing ‘benford.analysis’:\n",
            "✔  checking DESCRIPTION meta-information\n",
            "─  checking for LF line-endings in source and make files and shell scripts\n",
            "─  checking for empty or unneeded directories\n",
            "─  looking to see if a ‘data/datalist’ file should be added\n",
            "─  building ‘benford.analysis_0.1.5.tar.gz’\n",
            "   \n"
          ]
        },
        {
          "output_type": "stream",
          "name": "stderr",
          "text": [
            "R[write to console]: Installing package into ‘/usr/local/lib/R/site-library’\n",
            "(as ‘lib’ is unspecified)\n",
            "\n"
          ]
        }
      ]
    },
    {
      "cell_type": "code",
      "metadata": {
        "id": "Uy_q7wmTNla9"
      },
      "source": [
        "%%R\n",
        "library(benford.analysis)"
      ],
      "execution_count": null,
      "outputs": []
    },
    {
      "cell_type": "code",
      "metadata": {
        "colab": {
          "base_uri": "https://localhost:8080/",
          "height": 408
        },
        "id": "P709ZFJnQje4",
        "outputId": "518955b3-d862-47cb-f3fd-e0301269e866"
      },
      "source": [
        "digitos2 = digitos.astype(float)\n",
        "digitos_df2 = pd.DataFrame({\"Números\": digitos2.values})\n",
        "digitos_df2"
      ],
      "execution_count": null,
      "outputs": [
        {
          "output_type": "execute_result",
          "data": {
            "text/html": [
              "<div>\n",
              "<style scoped>\n",
              "    .dataframe tbody tr th:only-of-type {\n",
              "        vertical-align: middle;\n",
              "    }\n",
              "\n",
              "    .dataframe tbody tr th {\n",
              "        vertical-align: top;\n",
              "    }\n",
              "\n",
              "    .dataframe thead th {\n",
              "        text-align: right;\n",
              "    }\n",
              "</style>\n",
              "<table border=\"1\" class=\"dataframe\">\n",
              "  <thead>\n",
              "    <tr style=\"text-align: right;\">\n",
              "      <th></th>\n",
              "      <th>Números</th>\n",
              "    </tr>\n",
              "  </thead>\n",
              "  <tbody>\n",
              "    <tr>\n",
              "      <th>0</th>\n",
              "      <td>5.480050e+17</td>\n",
              "    </tr>\n",
              "    <tr>\n",
              "      <th>1</th>\n",
              "      <td>3.459608e+17</td>\n",
              "    </tr>\n",
              "    <tr>\n",
              "      <th>2</th>\n",
              "      <td>2.020441e+17</td>\n",
              "    </tr>\n",
              "    <tr>\n",
              "      <th>3</th>\n",
              "      <td>7.391736e+16</td>\n",
              "    </tr>\n",
              "    <tr>\n",
              "      <th>4</th>\n",
              "      <td>2.116097e+16</td>\n",
              "    </tr>\n",
              "    <tr>\n",
              "      <th>...</th>\n",
              "      <td>...</td>\n",
              "    </tr>\n",
              "    <tr>\n",
              "      <th>1567</th>\n",
              "      <td>1.200000e+09</td>\n",
              "    </tr>\n",
              "    <tr>\n",
              "      <th>1568</th>\n",
              "      <td>4.050000e+10</td>\n",
              "    </tr>\n",
              "    <tr>\n",
              "      <th>1569</th>\n",
              "      <td>1.200000e+09</td>\n",
              "    </tr>\n",
              "    <tr>\n",
              "      <th>1570</th>\n",
              "      <td>4.050000e+10</td>\n",
              "    </tr>\n",
              "    <tr>\n",
              "      <th>1571</th>\n",
              "      <td>1.200000e+09</td>\n",
              "    </tr>\n",
              "  </tbody>\n",
              "</table>\n",
              "<p>1572 rows × 1 columns</p>\n",
              "</div>"
            ],
            "text/plain": [
              "           Números\n",
              "0     5.480050e+17\n",
              "1     3.459608e+17\n",
              "2     2.020441e+17\n",
              "3     7.391736e+16\n",
              "4     2.116097e+16\n",
              "...            ...\n",
              "1567  1.200000e+09\n",
              "1568  4.050000e+10\n",
              "1569  1.200000e+09\n",
              "1570  4.050000e+10\n",
              "1571  1.200000e+09\n",
              "\n",
              "[1572 rows x 1 columns]"
            ]
          },
          "metadata": {},
          "execution_count": 289
        }
      ]
    },
    {
      "cell_type": "code",
      "metadata": {
        "id": "UJp21DnGYh7A"
      },
      "source": [
        "get_ipython().run_line_magic(\n",
        "\"R\",\n",
        "\"-i digitos_df2\"\n",
        ")"
      ],
      "execution_count": null,
      "outputs": []
    },
    {
      "cell_type": "code",
      "metadata": {
        "colab": {
          "base_uri": "https://localhost:8080/",
          "height": 497
        },
        "id": "9wWribd0VkLk",
        "outputId": "f95b557f-3bd5-498c-d70d-d393226f4daf"
      },
      "source": [
        "%%R\n",
        "bfd = benford(digitos_df2$Números)\n",
        "plot(bfd)"
      ],
      "execution_count": null,
      "outputs": [
        {
          "output_type": "display_data",
          "data": {
            "image/png": "[encoded data removed]"
          },
          "metadata": {}
        }
      ]
    },
    {
      "cell_type": "code",
      "metadata": {
        "colab": {
          "base_uri": "https://localhost:8080/"
        },
        "id": "wx64o6rLZY5G",
        "outputId": "469d2414-9bfb-453d-a8a7-6e965f40e2f8"
      },
      "source": [
        "%%R\n",
        "bfd"
      ],
      "execution_count": null,
      "outputs": [
        {
          "output_type": "stream",
          "name": "stdout",
          "text": [
            "\n",
            "Benford object:\n",
            " \n",
            "Data: digitos_df2$Números \n",
            "Number of observations used = 1572 \n",
            "Number of obs. for second order = 1293 \n",
            "First digits analysed = 2\n",
            "\n",
            "Mantissa: \n",
            "\n",
            "   Statistic  Value\n",
            "        Mean  0.517\n",
            "         Var  0.083\n",
            " Ex.Kurtosis -1.232\n",
            "    Skewness -0.119\n",
            "\n",
            "\n",
            "The 5 largest deviations: \n",
            "\n",
            "  digits absolute.diff\n",
            "1     19         18.02\n",
            "2     16         12.61\n",
            "3     54         10.47\n",
            "4     11         10.40\n",
            "5     38         10.27\n",
            "\n",
            "Stats:\n",
            "\n",
            "\tPearson's Chi-squared test\n",
            "\n",
            "data:  digitos_df2$Números\n",
            "X-squared = 130.57, df = 89, p-value = 0.002722\n",
            "\n",
            "\n",
            "\tMantissa Arc Test\n",
            "\n",
            "data:  digitos_df2$Números\n",
            "L2 = 0.0036419, df = 2, p-value = 0.003263\n",
            "\n",
            "\n",
            "\tKolmogorov-Smirnov test\n",
            "\n",
            "data:  digitos_df2$Números\n",
            "D = 0.050522, critical value = 0.034301\n",
            "\n",
            "Mean Absolute Deviation (MAD): 0.002521228\n",
            "MAD Conformity - Nigrini (2012): Nonconformity\n",
            "Distortion Factor: 3.213521\n",
            "\n",
            "Remember: Real data will never conform perfectly to Benford's Law. You should not focus on p-values!"
          ]
        }
      ]
    },
    {
      "cell_type": "markdown",
      "metadata": {
        "id": "RmdNWsnzaxWs"
      },
      "source": [
        "![Screenshot_1.png](data:image/png;base64,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)"
      ]
    },
    {
      "cell_type": "code",
      "metadata": {
        "colab": {
          "base_uri": "https://localhost:8080/"
        },
        "id": "PBRmWzqHbWiN",
        "outputId": "1b6386b7-bac8-4669-f0da-6dc66894d2f8"
      },
      "source": [
        "%%R\n",
        "suspeitos = getSuspects(bfd, digitos_df2)\n",
        "suspeitos"
      ],
      "execution_count": null,
      "outputs": [
        {
          "output_type": "stream",
          "name": "stdout",
          "text": [
            "         Números\n",
            " 1: 1.657300e+15\n",
            " 2: 1.947379e+16\n",
            " 3: 1.681010e+10\n",
            " 4: 1.681010e+10\n",
            " 5: 1.681010e+10\n",
            " 6: 1.681010e+10\n",
            " 7: 1.699750e+15\n",
            " 8: 1.689671e+16\n",
            " 9: 1.612326e+16\n",
            "10: 1.601522e+17\n",
            "11: 1.949628e+17\n",
            "12: 1.676300e+17\n",
            "13: 1.638036e+16\n",
            "14: 1.638036e+16\n",
            "15: 1.914710e+15\n",
            "16: 1.904430e+17\n",
            "17: 1.616562e+16\n",
            "18: 1.606131e+17\n",
            "19: 1.934106e+17\n",
            "20: 1.697130e+18\n",
            "21: 1.658568e+17\n",
            "22: 1.945360e+17\n",
            "23: 1.674601e+16\n",
            "24: 1.638430e+18\n",
            "25: 1.901500e+17\n",
            "26: 1.657000e+17\n",
            "27: 1.613000e+16\n",
            "28: 1.937980e+18\n",
            "29: 1.604900e+17\n",
            "30: 1.980000e+15\n",
            "31: 1.690000e+15\n",
            "32: 1.648080e+18\n",
            "33: 1.691000e+16\n",
            "34: 1.600000e+09\n",
            "35: 1.600000e+09\n",
            "36: 1.600000e+09\n",
            "37: 1.600000e+09\n",
            "38: 1.637000e+16\n",
            "39: 1.641000e+16\n",
            "40: 1.611800e+17\n",
            "41: 1.650000e+16\n",
            "42: 1.650000e+16\n",
            "43: 1.640400e+17\n",
            "44: 1.911000e+16\n",
            "45: 1.600000e+16\n",
            "46: 1.677000e+17\n",
            "47: 1.980000e+16\n",
            "48: 1.632300e+17\n",
            "49: 1.632300e+17\n",
            "50: 1.645800e+17\n",
            "51: 1.659000e+17\n",
            "52: 1.984000e+16\n",
            "53: 1.984000e+16\n",
            "54: 1.665000e+16\n",
            "55: 1.640000e+15\n",
            "56: 1.697600e+17\n",
            "57: 1.681600e+17\n",
            "58: 1.681600e+17\n",
            "59: 1.640760e+18\n",
            "60: 1.665000e+17\n",
            "61: 1.631000e+16\n",
            "62: 1.699500e+17\n",
            "63: 1.926700e+17\n",
            "64: 1.905000e+17\n",
            "65: 1.935200e+17\n",
            "66: 1.669000e+16\n",
            "67: 1.689400e+17\n",
            "68: 1.970970e+18\n",
            "69: 1.664000e+16\n",
            "70: 1.669000e+16\n",
            "71: 1.669000e+16\n",
            "         Números\n"
          ]
        }
      ]
    },
    {
      "cell_type": "code",
      "metadata": {
        "id": "Hev6SJE7bjt-"
      },
      "source": [
        ""
      ],
      "execution_count": null,
      "outputs": []
    }
  ]
}